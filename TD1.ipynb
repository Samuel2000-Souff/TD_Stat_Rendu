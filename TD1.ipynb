{
  "cells": [
    {
      "cell_type": "markdown",
      "metadata": {
        "id": "view-in-github",
        "colab_type": "text"
      },
      "source": [
        "<a href=\"https://colab.research.google.com/github/Samuel2000-Souff/TD_Stat_Rendu/blob/master/TD1.ipynb\" target=\"_parent\"><img src=\"https://colab.research.google.com/assets/colab-badge.svg\" alt=\"Open In Colab\"/></a>"
      ]
    },
    {
      "cell_type": "markdown",
      "id": "77827ae2-11d3-4abd-911e-1c36ccf436c2",
      "metadata": {
        "tags": [],
        "id": "77827ae2-11d3-4abd-911e-1c36ccf436c2"
      },
      "source": [
        "# TD 1 | Introduction à Python pour l'analyse de données\n",
        "\n",
        "---\n",
        "\n",
        "Objectifs du TD :\n",
        "\n",
        "* découvrir Python\n",
        "* se familiariser avec le langage et le notebook Jupyter\n",
        "* découvrir et maîtriser les bases des librairies de calcul numérique et d'analyse de données numpy et pandas\n",
        "\n",
        "---"
      ]
    },
    {
      "cell_type": "markdown",
      "id": "bad440b9-18a4-4b45-809d-df8d4009f3ff",
      "metadata": {
        "jp-MarkdownHeadingCollapsed": true,
        "tags": [],
        "id": "bad440b9-18a4-4b45-809d-df8d4009f3ff"
      },
      "source": [
        "##  Installation de Python et Jupyter"
      ]
    },
    {
      "cell_type": "markdown",
      "id": "052b229f-8f3a-4a46-8285-aa5ffd721c02",
      "metadata": {
        "id": "052b229f-8f3a-4a46-8285-aa5ffd721c02"
      },
      "source": [
        "### Windows"
      ]
    },
    {
      "cell_type": "markdown",
      "id": "680cdce7-3be8-4b62-a670-66ba16407412",
      "metadata": {
        "id": "680cdce7-3be8-4b62-a670-66ba16407412"
      },
      "source": [
        "#### Installation Python"
      ]
    },
    {
      "cell_type": "markdown",
      "id": "e6b3a3c6-57f1-4d11-ae58-8d361881814b",
      "metadata": {
        "id": "e6b3a3c6-57f1-4d11-ae58-8d361881814b"
      },
      "source": [
        "Vérifiez si vous avez déjà une version de python installée en ouvrant l'invite de commande et en exécutant l'une des deux commandes python suivantes : \n",
        "> python --version   \n",
        "\n",
        "> python3 --version \n",
        "\n",
        "Si ce n'est pas le cas, vous pouvez procéder à l'installation comme suit :\n",
        " \n",
        "1. Allez sur le site web : https://www.python.org/downloads/windows/\n",
        "2. Cliquez sur \"Latest Python 3 Release - Python 3.10.7\".\n",
        "3. Si votre ordinateur utilise une version 64 bits de Windows, téléchargez le Windows installer (64-bit). Sinon, téléchargez Windows installer (32-bit).\n",
        "4. Après avoir téléchargé le Windows installer, vous devez l'exécuter (double-cliquez dessus) et suivre les instructions qui s'y trouvent.\n",
        "\n",
        "NB : Au début de l'installation, assurez-vous de cocher la case \"Add Python 3.10 to PATH\" ou \"Add Python to your environment variables\" avant de cliquer sur \"Install Now\".\n"
      ]
    },
    {
      "cell_type": "markdown",
      "id": "a0c71786-cf7a-4082-b26d-de236ac6d022",
      "metadata": {
        "id": "a0c71786-cf7a-4082-b26d-de236ac6d022"
      },
      "source": [
        "#### Installation Jupyter"
      ]
    },
    {
      "cell_type": "markdown",
      "id": "1ef7f2f9-8836-40a0-a5b6-1555ccd5ccad",
      "metadata": {
        "id": "1ef7f2f9-8836-40a0-a5b6-1555ccd5ccad"
      },
      "source": [
        "Ouvrir l'invite de commande et exécuter la commande suivante en remplaçant Pseudo_de_votre_user par le nom de l'utilisateur de votre session : \n",
        "> cd \"C:\\Users\\Pseudo_de_votre_user\\AppData\\Local\\Programs\\Python\\Python310\\Scripts\"\n",
        "\n",
        "Ensuite, executer la commande suivante :\n",
        "> pip install jupyterlab\n",
        "\n",
        "Une fois l'installation terminée avec succès, vous pouvez lancer JupyterLab avec la commande suivante : \n",
        "> jupyter-lab\n"
      ]
    },
    {
      "cell_type": "markdown",
      "id": "1f18bb0b-a3e0-4147-adff-52137de24465",
      "metadata": {
        "id": "1f18bb0b-a3e0-4147-adff-52137de24465"
      },
      "source": [
        "### Linux & Mac OS"
      ]
    },
    {
      "cell_type": "markdown",
      "id": "c6d0362e-d415-4946-9661-3790aaf46850",
      "metadata": {
        "id": "c6d0362e-d415-4946-9661-3790aaf46850"
      },
      "source": [
        "#### Installation Python"
      ]
    },
    {
      "cell_type": "markdown",
      "id": "054fa2f3-524d-4e43-ba52-a25f92566ae6",
      "metadata": {
        "id": "054fa2f3-524d-4e43-ba52-a25f92566ae6"
      },
      "source": [
        "Normalement, Python est préinstallé sur la quasi-totalité des distributions. Vous n'avez pas besoin de le réinstaller, mais vous pouvez mettre à jour la version si vous le souhaitez.\n",
        "\n",
        "Vérifiez la version Python installée en exécutant l'une des deux commandes python suivantes sur votre terminal : \n",
        "> python --version   \n",
        "\n",
        "> python3 --version "
      ]
    },
    {
      "cell_type": "markdown",
      "id": "e234b9ae-f30b-4fde-9da6-2279277d4c1e",
      "metadata": {
        "id": "e234b9ae-f30b-4fde-9da6-2279277d4c1e"
      },
      "source": [
        "#### Installation Jupyter"
      ]
    },
    {
      "cell_type": "markdown",
      "id": "bfb4b748-f55f-4383-94ca-7337e7f8d25e",
      "metadata": {
        "id": "bfb4b748-f55f-4383-94ca-7337e7f8d25e"
      },
      "source": [
        "Vérifier que la commande pip3 est installée. Sinon, l'installer (exemple pour Debian/Ubuntu/Linux Mint, à adapter selon votre distribution) :\n",
        "\n",
        "> sudo apt install python3-pip\n",
        "\n",
        "Ensuite, installer JupyterLab en executant la commande suivante:\n",
        "> pip3 install -U jupyterlab\n",
        "\n",
        "Enfin, placez-vous dans votre dossier de travail et lancez un notebook :\n",
        "\n",
        "> jupyter-lab"
      ]
    },
    {
      "cell_type": "markdown",
      "id": "8cd7d902-7c1f-4c31-bb41-0ede4b4f4481",
      "metadata": {
        "tags": [],
        "id": "8cd7d902-7c1f-4c31-bb41-0ede4b4f4481"
      },
      "source": [
        "## Syntaxe et Concepts de base"
      ]
    },
    {
      "cell_type": "code",
      "execution_count": null,
      "id": "0ee8dd39-7266-41a1-97b7-38a4f8afeb75",
      "metadata": {
        "id": "0ee8dd39-7266-41a1-97b7-38a4f8afeb75"
      },
      "outputs": [],
      "source": [
        "a = 33\n",
        "b = 9\n",
        "c = 2.0"
      ]
    },
    {
      "cell_type": "code",
      "execution_count": null,
      "id": "3d194b33-77ab-40df-992b-dde6eec290c6",
      "metadata": {
        "id": "3d194b33-77ab-40df-992b-dde6eec290c6",
        "colab": {
          "base_uri": "https://localhost:8080/"
        },
        "outputId": "a82599ff-147d-4bab-e967-1c3233181479"
      },
      "outputs": [
        {
          "output_type": "execute_result",
          "data": {
            "text/plain": [
              "42"
            ]
          },
          "metadata": {},
          "execution_count": 3
        }
      ],
      "source": [
        "a+b"
      ]
    },
    {
      "cell_type": "code",
      "execution_count": null,
      "id": "f5c7e24e-c8d9-4995-8e3b-82b52aa5e249",
      "metadata": {
        "id": "f5c7e24e-c8d9-4995-8e3b-82b52aa5e249",
        "colab": {
          "base_uri": "https://localhost:8080/"
        },
        "outputId": "c85c52c9-5075-4e35-85fc-da71fc3303fd"
      },
      "outputs": [
        {
          "output_type": "stream",
          "name": "stdout",
          "text": [
            "42\n"
          ]
        }
      ],
      "source": [
        "print(a+b)"
      ]
    },
    {
      "cell_type": "code",
      "execution_count": null,
      "id": "7148b94b-4779-4037-a5c5-9cf80f91fed3",
      "metadata": {
        "id": "7148b94b-4779-4037-a5c5-9cf80f91fed3",
        "colab": {
          "base_uri": "https://localhost:8080/"
        },
        "outputId": "9a6c6ad5-b4fa-4063-bc1a-47dc0bb02c8c"
      },
      "outputs": [
        {
          "output_type": "execute_result",
          "data": {
            "text/plain": [
              "int"
            ]
          },
          "metadata": {},
          "execution_count": 5
        }
      ],
      "source": [
        "type(a)"
      ]
    },
    {
      "cell_type": "code",
      "execution_count": null,
      "id": "b0eb2c18-eee8-4609-860b-021facfabc8e",
      "metadata": {
        "id": "b0eb2c18-eee8-4609-860b-021facfabc8e",
        "colab": {
          "base_uri": "https://localhost:8080/"
        },
        "outputId": "96b3d400-8d7a-43d0-8858-128c0d9da32f"
      },
      "outputs": [
        {
          "output_type": "execute_result",
          "data": {
            "text/plain": [
              "float"
            ]
          },
          "metadata": {},
          "execution_count": 6
        }
      ],
      "source": [
        "type(c)"
      ]
    },
    {
      "cell_type": "code",
      "execution_count": null,
      "id": "d3a788ce-fc30-48e7-add2-89c1950c1bfe",
      "metadata": {
        "id": "d3a788ce-fc30-48e7-add2-89c1950c1bfe",
        "colab": {
          "base_uri": "https://localhost:8080/"
        },
        "outputId": "5d927659-a615-428c-b571-36dfc3f00150"
      },
      "outputs": [
        {
          "output_type": "execute_result",
          "data": {
            "text/plain": [
              "str"
            ]
          },
          "metadata": {},
          "execution_count": 7
        }
      ],
      "source": [
        "a = 'hello'\n",
        "type(a)"
      ]
    },
    {
      "cell_type": "code",
      "execution_count": null,
      "id": "ae0eaa4f-9eb1-40bb-95ef-8152eba98c00",
      "metadata": {
        "id": "ae0eaa4f-9eb1-40bb-95ef-8152eba98c00",
        "colab": {
          "base_uri": "https://localhost:8080/"
        },
        "outputId": "b5119cd0-7aea-4010-cf10-3dac7841e200"
      },
      "outputs": [
        {
          "output_type": "stream",
          "name": "stdout",
          "text": [
            "2\n",
            "4\n",
            "6\n",
            "8\n",
            "10\n"
          ]
        }
      ],
      "source": [
        "# Affiche les entiers pairs de 1 à 10\n",
        "for i in range(1, 11):\n",
        "    if i % 2 == 0:\n",
        "        print(i)"
      ]
    },
    {
      "cell_type": "markdown",
      "id": "6fb92b5a-910f-44d0-8c1c-902425b24bdf",
      "metadata": {
        "id": "6fb92b5a-910f-44d0-8c1c-902425b24bdf"
      },
      "source": [
        "### List"
      ]
    },
    {
      "cell_type": "code",
      "execution_count": null,
      "id": "5c3a8a72-3737-4c72-bda2-af1fdfd5e015",
      "metadata": {
        "id": "5c3a8a72-3737-4c72-bda2-af1fdfd5e015",
        "colab": {
          "base_uri": "https://localhost:8080/"
        },
        "outputId": "b2675dbf-8d4c-435c-bcce-be94a72e45cf"
      },
      "outputs": [
        {
          "output_type": "stream",
          "name": "stdout",
          "text": [
            "[1, 2, 3, 4, 4]\n"
          ]
        }
      ],
      "source": [
        "l = [1,2,3,4,4]\n",
        "print(l)"
      ]
    },
    {
      "cell_type": "markdown",
      "id": "b53eba5e-dc86-46c5-ad37-4fc08743839c",
      "metadata": {
        "id": "b53eba5e-dc86-46c5-ad37-4fc08743839c"
      },
      "source": [
        "#### len, max, min"
      ]
    },
    {
      "cell_type": "code",
      "execution_count": null,
      "id": "f3645b14-5244-47c2-9601-0b2defe3bbec",
      "metadata": {
        "id": "f3645b14-5244-47c2-9601-0b2defe3bbec",
        "colab": {
          "base_uri": "https://localhost:8080/"
        },
        "outputId": "bb3fa128-2b98-4c96-898d-bfc3816fbf91"
      },
      "outputs": [
        {
          "output_type": "stream",
          "name": "stdout",
          "text": [
            "longueur de la liste = 5\n",
            "Valeur max de l = 4\n",
            "Valeur min de l = 1\n"
          ]
        }
      ],
      "source": [
        "print('longueur de la liste =', len(l))\n",
        "print(\"Valeur max de l =\", max(l))\n",
        "print(\"Valeur min de l =\", min(l))"
      ]
    },
    {
      "cell_type": "markdown",
      "id": "c6a972ff-7ef0-4a5a-ba61-7ffef0c39ea3",
      "metadata": {
        "id": "c6a972ff-7ef0-4a5a-ba61-7ffef0c39ea3"
      },
      "source": [
        "#### Ajout d'un élément d'une liste"
      ]
    },
    {
      "cell_type": "code",
      "execution_count": null,
      "id": "fcf6650e-7979-43e7-8dba-8e8892e1dadc",
      "metadata": {
        "id": "fcf6650e-7979-43e7-8dba-8e8892e1dadc",
        "colab": {
          "base_uri": "https://localhost:8080/"
        },
        "outputId": "1f62287b-ebfc-4d6a-ec2a-f1879a65fcba"
      },
      "outputs": [
        {
          "output_type": "execute_result",
          "data": {
            "text/plain": [
              "[1, 2, 3, 4, 4, 6]"
            ]
          },
          "metadata": {},
          "execution_count": 11
        }
      ],
      "source": [
        "l.append(6)\n",
        "l"
      ]
    },
    {
      "cell_type": "code",
      "execution_count": null,
      "id": "3da51e13-280c-4f24-835e-5aa60d379ee4",
      "metadata": {
        "id": "3da51e13-280c-4f24-835e-5aa60d379ee4",
        "colab": {
          "base_uri": "https://localhost:8080/"
        },
        "outputId": "215ab8f1-88a1-4861-eb76-57375cec0a99"
      },
      "outputs": [
        {
          "output_type": "execute_result",
          "data": {
            "text/plain": [
              "[1, 2, 3, 4, 4, 6, 7]"
            ]
          },
          "metadata": {},
          "execution_count": 12
        }
      ],
      "source": [
        "l = l+[7]\n",
        "l"
      ]
    },
    {
      "cell_type": "code",
      "execution_count": null,
      "id": "9be84535-c2a4-4392-aee3-ed4ab377a1f0",
      "metadata": {
        "id": "9be84535-c2a4-4392-aee3-ed4ab377a1f0",
        "colab": {
          "base_uri": "https://localhost:8080/"
        },
        "outputId": "fc1c815c-5ccb-4558-b199-61b72973a3a9"
      },
      "outputs": [
        {
          "output_type": "execute_result",
          "data": {
            "text/plain": [
              "[1, 2, 3, 4, 4, 6, 7, 7]"
            ]
          },
          "metadata": {},
          "execution_count": 13
        }
      ],
      "source": [
        "l+=[7]\n",
        "l"
      ]
    },
    {
      "cell_type": "markdown",
      "id": "8eab9db9-840e-4d2c-b2d3-89ceedfc0939",
      "metadata": {
        "id": "8eab9db9-840e-4d2c-b2d3-89ceedfc0939"
      },
      "source": [
        "#### Modifier un élément"
      ]
    },
    {
      "cell_type": "code",
      "execution_count": null,
      "id": "21c8b22d-c227-4b9e-81b4-b81946df5bfd",
      "metadata": {
        "id": "21c8b22d-c227-4b9e-81b4-b81946df5bfd",
        "colab": {
          "base_uri": "https://localhost:8080/"
        },
        "outputId": "eb44658e-f6c8-4ffd-c602-7634c5deb43f"
      },
      "outputs": [
        {
          "output_type": "execute_result",
          "data": {
            "text/plain": [
              "[29, 2, 3, 4, 4, 6, 7, 7]"
            ]
          },
          "metadata": {},
          "execution_count": 14
        }
      ],
      "source": [
        "l[0] = 29\n",
        "l"
      ]
    },
    {
      "cell_type": "code",
      "execution_count": null,
      "id": "b47b506b-8f32-4190-b652-c8b95c84510d",
      "metadata": {
        "id": "b47b506b-8f32-4190-b652-c8b95c84510d",
        "colab": {
          "base_uri": "https://localhost:8080/"
        },
        "outputId": "18029cd5-63f5-4004-aadd-da87e2cae613"
      },
      "outputs": [
        {
          "output_type": "execute_result",
          "data": {
            "text/plain": [
              "[29, 9, 2, 3, 4, 4, 6, 7, 7]"
            ]
          },
          "metadata": {},
          "execution_count": 15
        }
      ],
      "source": [
        "l.insert(1,9)\n",
        "l"
      ]
    },
    {
      "cell_type": "markdown",
      "id": "99bc03d9-4c18-44e5-b0fb-ccdeeb16b24d",
      "metadata": {
        "id": "99bc03d9-4c18-44e5-b0fb-ccdeeb16b24d"
      },
      "source": [
        "#### Suppression des éléments d'une liste"
      ]
    },
    {
      "cell_type": "code",
      "execution_count": null,
      "id": "15bfebe5-cdd6-443e-ba6c-b135381d400e",
      "metadata": {
        "id": "15bfebe5-cdd6-443e-ba6c-b135381d400e",
        "colab": {
          "base_uri": "https://localhost:8080/"
        },
        "outputId": "c9649a79-7157-4f26-b0ca-5cfd46409c48"
      },
      "outputs": [
        {
          "output_type": "execute_result",
          "data": {
            "text/plain": [
              "[29, 9, 2, 3, 4, 4, 6, 7]"
            ]
          },
          "metadata": {},
          "execution_count": 16
        }
      ],
      "source": [
        "l.remove(7)\n",
        "l"
      ]
    },
    {
      "cell_type": "code",
      "execution_count": null,
      "id": "5e65da05-40b2-4780-bdd8-7d74a625def2",
      "metadata": {
        "id": "5e65da05-40b2-4780-bdd8-7d74a625def2",
        "colab": {
          "base_uri": "https://localhost:8080/"
        },
        "outputId": "dff7665e-01d1-4a32-9c9c-33085a4b35b1"
      },
      "outputs": [
        {
          "output_type": "execute_result",
          "data": {
            "text/plain": [
              "[29, 9, 3, 4, 4, 6, 7]"
            ]
          },
          "metadata": {},
          "execution_count": 17
        }
      ],
      "source": [
        "l.pop(2)\n",
        "l"
      ]
    },
    {
      "cell_type": "markdown",
      "id": "05a40f33-80eb-40db-92e6-da821bacff04",
      "metadata": {
        "id": "05a40f33-80eb-40db-92e6-da821bacff04"
      },
      "source": [
        "#### Trier une liste"
      ]
    },
    {
      "cell_type": "code",
      "execution_count": null,
      "id": "fb0bad2f-5d2a-449a-9212-cd1a2f531b1a",
      "metadata": {
        "id": "fb0bad2f-5d2a-449a-9212-cd1a2f531b1a",
        "colab": {
          "base_uri": "https://localhost:8080/"
        },
        "outputId": "1c34ba4a-3186-41a4-a6b0-93ecbc42bd8d"
      },
      "outputs": [
        {
          "output_type": "stream",
          "name": "stdout",
          "text": [
            "[29, 9, 7, 6, 4, 4, 3]\n"
          ]
        }
      ],
      "source": [
        "l.sort(reverse=True)\n",
        "print(l)"
      ]
    },
    {
      "cell_type": "code",
      "execution_count": null,
      "id": "030e5309-6898-4dff-8ac5-0701d65849da",
      "metadata": {
        "id": "030e5309-6898-4dff-8ac5-0701d65849da",
        "colab": {
          "base_uri": "https://localhost:8080/"
        },
        "outputId": "44d0561a-4c59-4ef5-e421-6b24983a7347"
      },
      "outputs": [
        {
          "output_type": "stream",
          "name": "stdout",
          "text": [
            "Sorted list: [3, 4, 4, 6, 7, 9, 29]\n"
          ]
        }
      ],
      "source": [
        "l_sorted = sorted(l)\n",
        "print('Sorted list:', l_sorted)"
      ]
    },
    {
      "cell_type": "markdown",
      "id": "86b74b2c-b621-4fd4-9f41-16e8ea4bff2c",
      "metadata": {
        "id": "86b74b2c-b621-4fd4-9f41-16e8ea4bff2c"
      },
      "source": [
        "#### Liste non homogène"
      ]
    },
    {
      "cell_type": "code",
      "execution_count": null,
      "id": "a52cec2d-11f3-4383-ab50-c62aa1dc2257",
      "metadata": {
        "id": "a52cec2d-11f3-4383-ab50-c62aa1dc2257",
        "colab": {
          "base_uri": "https://localhost:8080/"
        },
        "outputId": "7ece121a-1372-4d5d-fe36-4245e74ab183"
      },
      "outputs": [
        {
          "output_type": "stream",
          "name": "stdout",
          "text": [
            "<class 'list'>\n"
          ]
        },
        {
          "output_type": "execute_result",
          "data": {
            "text/plain": [
              "[1, 'un', 2, 'deux', 3, 'trois']"
            ]
          },
          "metadata": {},
          "execution_count": 20
        }
      ],
      "source": [
        "l = [1, 'un', 2]\n",
        "l.append('deux')\n",
        "l += [3, 'trois']\n",
        "print(type(l))\n",
        "l"
      ]
    },
    {
      "cell_type": "code",
      "execution_count": null,
      "id": "c237d423-0a57-4056-9077-7eeb8c321be4",
      "metadata": {
        "id": "c237d423-0a57-4056-9077-7eeb8c321be4",
        "colab": {
          "base_uri": "https://localhost:8080/"
        },
        "outputId": "cd9a7b7d-6211-4337-eb12-585438a802d3"
      },
      "outputs": [
        {
          "output_type": "stream",
          "name": "stdout",
          "text": [
            "<class 'tuple'>\n"
          ]
        },
        {
          "output_type": "execute_result",
          "data": {
            "text/plain": [
              "('deux', 'trois')"
            ]
          },
          "metadata": {},
          "execution_count": 21
        }
      ],
      "source": [
        "a = l[3], l[-1]\n",
        "print(type(a))\n",
        "a"
      ]
    },
    {
      "cell_type": "code",
      "execution_count": null,
      "id": "d6626821-592c-4d4f-adf2-c2acf7b155a0",
      "metadata": {
        "id": "d6626821-592c-4d4f-adf2-c2acf7b155a0",
        "colab": {
          "base_uri": "https://localhost:8080/"
        },
        "outputId": "9d05a309-9ad3-4ad7-abac-ac97e1321091"
      },
      "outputs": [
        {
          "output_type": "execute_result",
          "data": {
            "text/plain": [
              "'deux'"
            ],
            "application/vnd.google.colaboratory.intrinsic+json": {
              "type": "string"
            }
          },
          "metadata": {},
          "execution_count": 22
        }
      ],
      "source": [
        "a[0]"
      ]
    },
    {
      "cell_type": "code",
      "execution_count": null,
      "id": "b00b9acf-847b-40af-9ad1-f0e7a27a6e3e",
      "metadata": {
        "id": "b00b9acf-847b-40af-9ad1-f0e7a27a6e3e",
        "colab": {
          "base_uri": "https://localhost:8080/"
        },
        "outputId": "8e5dd409-dede-4c19-a8f8-f5774daa4ae7"
      },
      "outputs": [
        {
          "output_type": "execute_result",
          "data": {
            "text/plain": [
              "[1, 2, 4, 8, 16, 32, 64, 128, 256, 512]"
            ]
          },
          "metadata": {},
          "execution_count": 23
        }
      ],
      "source": [
        "[2**p for p in range(10)] # \"Compréhension de liste\""
      ]
    },
    {
      "cell_type": "code",
      "execution_count": null,
      "id": "946a4e8d-45d4-47d9-b500-1c2ae8624541",
      "metadata": {
        "id": "946a4e8d-45d4-47d9-b500-1c2ae8624541",
        "colab": {
          "base_uri": "https://localhost:8080/"
        },
        "outputId": "3441f173-6922-42b5-ca91-1c2c28e662c4"
      },
      "outputs": [
        {
          "output_type": "stream",
          "name": "stdout",
          "text": [
            "[2, 4, 6, 8, 10]\n"
          ]
        }
      ],
      "source": [
        "# Liste des entiers pairs de 1 à 10\n",
        "l = [i for i in range(1, 11) if i % 2 == 0]\n",
        "print(l)"
      ]
    },
    {
      "cell_type": "markdown",
      "id": "51ed9059-e7a3-4864-96d9-8ecdd5f297c2",
      "metadata": {
        "id": "51ed9059-e7a3-4864-96d9-8ecdd5f297c2"
      },
      "source": [
        "### Tuple"
      ]
    },
    {
      "cell_type": "code",
      "execution_count": null,
      "id": "d84aece0-87fb-4af0-adcb-bb66190d47cf",
      "metadata": {
        "id": "d84aece0-87fb-4af0-adcb-bb66190d47cf",
        "colab": {
          "base_uri": "https://localhost:8080/"
        },
        "outputId": "f64150a2-9fc1-4af1-e0c7-efaac41152e7"
      },
      "outputs": [
        {
          "output_type": "stream",
          "name": "stdout",
          "text": [
            "p= (1, 2, 3, 4)\n",
            "p[0] =  1\n"
          ]
        }
      ],
      "source": [
        "p = tuple(range(1,5))\n",
        "print(\"p=\", p)\n",
        "print(\"p[0] = \", p[0])"
      ]
    },
    {
      "cell_type": "code",
      "source": [
        "from google.colab import drive\n",
        "drive.mount('/content/drive')"
      ],
      "metadata": {
        "id": "lo9Il0gNRwOy",
        "colab": {
          "base_uri": "https://localhost:8080/"
        },
        "outputId": "9b2ef4aa-21e5-4ca6-98fa-92e301a063d4"
      },
      "id": "lo9Il0gNRwOy",
      "execution_count": null,
      "outputs": [
        {
          "output_type": "stream",
          "name": "stdout",
          "text": [
            "Mounted at /content/drive\n"
          ]
        }
      ]
    },
    {
      "cell_type": "markdown",
      "source": [
        "# New section"
      ],
      "metadata": {
        "id": "9U3HrixDR1pV"
      },
      "id": "9U3HrixDR1pV"
    },
    {
      "cell_type": "code",
      "execution_count": null,
      "id": "c752b6fe-28c7-44c5-9a55-8a336e4f8cf1",
      "metadata": {
        "id": "c752b6fe-28c7-44c5-9a55-8a336e4f8cf1",
        "colab": {
          "base_uri": "https://localhost:8080/"
        },
        "outputId": "e37ccfdd-0cb8-432d-d649-a38fcce568ea"
      },
      "outputs": [
        {
          "output_type": "stream",
          "name": "stdout",
          "text": [
            "([1, 2], 5)\n",
            "([8, 2], 5)\n"
          ]
        }
      ],
      "source": [
        "p = ([1,2],5)\n",
        "\n",
        "print(p)\n",
        "\n",
        "p[0][0] = 8\n",
        "\n",
        "print(p)"
      ]
    },
    {
      "cell_type": "code",
      "execution_count": null,
      "id": "f06b05b8-7eeb-4bec-95c9-d2928b9bdd1d",
      "metadata": {
        "id": "f06b05b8-7eeb-4bec-95c9-d2928b9bdd1d",
        "colab": {
          "base_uri": "https://localhost:8080/"
        },
        "outputId": "2d68255a-ad1b-4d2d-99d0-053ccc070515"
      },
      "outputs": [
        {
          "output_type": "execute_result",
          "data": {
            "text/plain": [
              "([6, 2], 5)"
            ]
          },
          "metadata": {},
          "execution_count": 28
        }
      ],
      "source": [
        "# Les éléments du tuple sont fixes\n",
        "p[0][0] = 6\n",
        "p"
      ]
    },
    {
      "cell_type": "code",
      "execution_count": null,
      "id": "3ed9e289-25df-4697-92ae-47f0544f9609",
      "metadata": {
        "id": "3ed9e289-25df-4697-92ae-47f0544f9609",
        "colab": {
          "base_uri": "https://localhost:8080/"
        },
        "outputId": "11f12718-7912-437e-ec50-4839cc873807"
      },
      "outputs": [
        {
          "output_type": "stream",
          "name": "stdout",
          "text": [
            "False\n"
          ]
        }
      ],
      "source": [
        "p1 = (1,2)\n",
        "p2 = (2,1)\n",
        "\n",
        "print(p1 == p2)"
      ]
    },
    {
      "cell_type": "markdown",
      "id": "a03da136-b600-4f8a-94a1-9243f97a2391",
      "metadata": {
        "id": "a03da136-b600-4f8a-94a1-9243f97a2391"
      },
      "source": [
        "### Set"
      ]
    },
    {
      "cell_type": "code",
      "execution_count": null,
      "id": "71da9218-67a8-4746-8a87-fc36b93d957d",
      "metadata": {
        "id": "71da9218-67a8-4746-8a87-fc36b93d957d",
        "colab": {
          "base_uri": "https://localhost:8080/"
        },
        "outputId": "21cd153a-e9e4-47e1-95bf-97fac2cbaeba"
      },
      "outputs": [
        {
          "output_type": "stream",
          "name": "stdout",
          "text": [
            "{1, 2, 'l'}\n",
            "{9, 4, 5}\n"
          ]
        }
      ],
      "source": [
        "s = set((1,2,'l'))\n",
        "print(s)\n",
        "\n",
        "s = {4,5,9,9,9,9}\n",
        "print(s)"
      ]
    },
    {
      "cell_type": "code",
      "execution_count": null,
      "id": "7469e205-4f7a-48b7-abd4-3bc7010b5bdc",
      "metadata": {
        "id": "7469e205-4f7a-48b7-abd4-3bc7010b5bdc",
        "colab": {
          "base_uri": "https://localhost:8080/"
        },
        "outputId": "addf48b8-82d0-494c-e24c-6db9b5e25716"
      },
      "outputs": [
        {
          "output_type": "stream",
          "name": "stdout",
          "text": [
            "{9, 4, 5, 6}\n"
          ]
        }
      ],
      "source": [
        "#Ajout d'un élément au set\n",
        "s.add(6)\n",
        "print(s)"
      ]
    },
    {
      "cell_type": "code",
      "execution_count": null,
      "id": "1d6a9fa6-1df3-45cc-9813-a9525bd93b35",
      "metadata": {
        "id": "1d6a9fa6-1df3-45cc-9813-a9525bd93b35",
        "colab": {
          "base_uri": "https://localhost:8080/"
        },
        "outputId": "00c7fb01-5c11-41dd-fb3e-211350234dce"
      },
      "outputs": [
        {
          "output_type": "stream",
          "name": "stdout",
          "text": [
            "{9, 4, 6}\n"
          ]
        }
      ],
      "source": [
        "#Suppression d'un élément du set\n",
        "s.discard(5)\n",
        "print(s)"
      ]
    },
    {
      "cell_type": "code",
      "execution_count": null,
      "id": "9bf72333-377f-45aa-8200-dbc1423ef110",
      "metadata": {
        "id": "9bf72333-377f-45aa-8200-dbc1423ef110",
        "colab": {
          "base_uri": "https://localhost:8080/"
        },
        "outputId": "e359dc25-55d4-4108-8400-8587ddd3f537"
      },
      "outputs": [
        {
          "output_type": "stream",
          "name": "stdout",
          "text": [
            "set()\n"
          ]
        }
      ],
      "source": [
        "s.clear()\n",
        "print(s)"
      ]
    },
    {
      "cell_type": "code",
      "execution_count": null,
      "id": "df41d914-39f5-4f0e-ad17-47bcf9add690",
      "metadata": {
        "id": "df41d914-39f5-4f0e-ad17-47bcf9add690"
      },
      "outputs": [],
      "source": [
        "A = {1,2,3,4,5}\n",
        "B = {2,4,6,7}\n",
        "C = {1,2,3}"
      ]
    },
    {
      "cell_type": "code",
      "execution_count": null,
      "id": "6a04b5cc-0ee2-4f10-8600-43ae082e3eb5",
      "metadata": {
        "id": "6a04b5cc-0ee2-4f10-8600-43ae082e3eb5",
        "colab": {
          "base_uri": "https://localhost:8080/"
        },
        "outputId": "96e9e0bd-4ecb-4419-ad80-7ad83fbfce52"
      },
      "outputs": [
        {
          "output_type": "stream",
          "name": "stdout",
          "text": [
            "Intersection de A et B = {2, 4}\n",
            "Union entre A et B = {1, 2, 3, 4, 5, 6, 7}\n",
            "Exclusion de B de A = {1, 3, 5}\n",
            "Diff sym. A et B = {1, 3, 5, 6, 7}\n"
          ]
        }
      ],
      "source": [
        "#Intersection\n",
        "print(\"Intersection de A et B =\", A&B)\n",
        "\n",
        "#Union\n",
        "print(\"Union entre A et B =\", A|B)\n",
        "\n",
        "#Exclusion\n",
        "print(\"Exclusion de B de A =\", A-B)\n",
        "\n",
        "#Différence symétrique\n",
        "print(\"Diff sym. A et B =\", A^B)"
      ]
    },
    {
      "cell_type": "code",
      "execution_count": null,
      "id": "62436515-5142-463e-b939-b6f390549fb4",
      "metadata": {
        "id": "62436515-5142-463e-b939-b6f390549fb4",
        "colab": {
          "base_uri": "https://localhost:8080/"
        },
        "outputId": "9cd178ef-f145-4535-b49e-f317d0e3a348"
      },
      "outputs": [
        {
          "output_type": "stream",
          "name": "stdout",
          "text": [
            "False\n",
            "C est inclus dans A\n"
          ]
        }
      ],
      "source": [
        "print(\"B est inclus strict dans A\") if A>B else print(False)\n",
        "print(\"C est inclus dans A\") if A>=C else print(False)"
      ]
    },
    {
      "cell_type": "markdown",
      "id": "5c983f45-d7fc-4924-911b-13937c110a36",
      "metadata": {
        "id": "5c983f45-d7fc-4924-911b-13937c110a36"
      },
      "source": [
        "### Dictionary"
      ]
    },
    {
      "cell_type": "code",
      "execution_count": null,
      "id": "ffa8eb17-92e9-4cc9-8eea-418ca6bcf4a0",
      "metadata": {
        "id": "ffa8eb17-92e9-4cc9-8eea-418ca6bcf4a0",
        "colab": {
          "base_uri": "https://localhost:8080/"
        },
        "outputId": "d8a2cfcc-030f-4951-df1f-7f3a7ca2b453"
      },
      "outputs": [
        {
          "output_type": "stream",
          "name": "stdout",
          "text": [
            "{'key1': 'value1', 'answer': 42}\n",
            "{'key1': 'value1', 'answer': 42}\n",
            "{'key1': 'value1', 'answer': 42}\n"
          ]
        },
        {
          "output_type": "execute_result",
          "data": {
            "text/plain": [
              "42"
            ]
          },
          "metadata": {},
          "execution_count": 37
        }
      ],
      "source": [
        "# 1ère façon de créer un dictionnaire\n",
        "dic = {\"key1\": \"value1\", \"answer\": 42}\n",
        "# 2ème façon de créer un dictionnaire\n",
        "dic2 = dict(key1=\"value1\", answer=42)\n",
        "# 3ème façon de créer un dictionnaire\n",
        "dic3 = dict([(\"key1\",\"value1\"), (\"answer\",42)])\n",
        "print(dic)\n",
        "print(dic2)\n",
        "print(dic3)\n",
        "\n",
        "dic[\"answer\"]"
      ]
    },
    {
      "cell_type": "code",
      "execution_count": null,
      "id": "2061def3-6e50-4190-93a8-7b9634505493",
      "metadata": {
        "id": "2061def3-6e50-4190-93a8-7b9634505493"
      },
      "outputs": [],
      "source": [
        "dic['new'] = [1,2,3]"
      ]
    },
    {
      "cell_type": "code",
      "execution_count": null,
      "id": "06693be1-378c-4bb0-9726-800dc7dce1b7",
      "metadata": {
        "id": "06693be1-378c-4bb0-9726-800dc7dce1b7",
        "colab": {
          "base_uri": "https://localhost:8080/"
        },
        "outputId": "d9565fcf-a973-41d3-eea8-4276793e2ac9"
      },
      "outputs": [
        {
          "output_type": "execute_result",
          "data": {
            "text/plain": [
              "dict_keys(['key1', 'answer', 'new'])"
            ]
          },
          "metadata": {},
          "execution_count": 39
        }
      ],
      "source": [
        "dic.keys()"
      ]
    },
    {
      "cell_type": "code",
      "execution_count": null,
      "id": "f708db44-838b-4098-b2cf-bf2335c77fa2",
      "metadata": {
        "id": "f708db44-838b-4098-b2cf-bf2335c77fa2",
        "colab": {
          "base_uri": "https://localhost:8080/"
        },
        "outputId": "e971ea55-b8dd-4814-86b7-adeea6233896"
      },
      "outputs": [
        {
          "output_type": "execute_result",
          "data": {
            "text/plain": [
              "dict_items([('key1', 'value1'), ('answer', 42), ('new', [1, 2, 3])])"
            ]
          },
          "metadata": {},
          "execution_count": 40
        }
      ],
      "source": [
        "dic.items()"
      ]
    },
    {
      "cell_type": "code",
      "execution_count": null,
      "id": "a14b0c50-05d9-4523-8166-f5482fbb6106",
      "metadata": {
        "id": "a14b0c50-05d9-4523-8166-f5482fbb6106",
        "colab": {
          "base_uri": "https://localhost:8080/"
        },
        "outputId": "9deb786d-bee9-40a5-989e-d91bed6b2aa9"
      },
      "outputs": [
        {
          "output_type": "execute_result",
          "data": {
            "text/plain": [
              "dict_values(['value1', 42, [1, 2, 3]])"
            ]
          },
          "metadata": {},
          "execution_count": 41
        }
      ],
      "source": [
        "dic.values()"
      ]
    },
    {
      "cell_type": "code",
      "execution_count": null,
      "id": "be4c3770-e660-431f-8926-300c6f98d287",
      "metadata": {
        "id": "be4c3770-e660-431f-8926-300c6f98d287"
      },
      "outputs": [],
      "source": [
        "a,b = dic.items()\n",
        "print(a)"
      ]
    },
    {
      "cell_type": "markdown",
      "id": "b137a9a6-60c8-4c00-9a6f-596183340d27",
      "metadata": {
        "tags": [],
        "id": "b137a9a6-60c8-4c00-9a6f-596183340d27"
      },
      "source": [
        "## Programmation Orientée Objet"
      ]
    },
    {
      "cell_type": "code",
      "execution_count": null,
      "id": "66c1b630-ddd5-4d6b-bb66-6b2dfa496cf7",
      "metadata": {
        "id": "66c1b630-ddd5-4d6b-bb66-6b2dfa496cf7"
      },
      "outputs": [],
      "source": [
        "\"\"\"\n",
        "Exemple de classe en Python\n",
        "\"\"\"\n",
        "class Moteur:\n",
        "    \n",
        "    # Constructeur\n",
        "    def __init__(self, esn, panne=False):\n",
        "        self.esn = esn\n",
        "        self.panne = panne\n",
        "    \n",
        "    # Méthodes\n",
        "    def dire_bonjour(self):\n",
        "        print('Bonjour, mon numéro de série est ' + self.esn)\n",
        "    \n",
        "    def fonctionne(self):\n",
        "        return not self.panne \n",
        "    "
      ]
    },
    {
      "cell_type": "code",
      "execution_count": null,
      "id": "20290517-9ab3-4bad-ab86-5bc72280cff1",
      "metadata": {
        "id": "20290517-9ab3-4bad-ab86-5bc72280cff1",
        "colab": {
          "base_uri": "https://localhost:8080/"
        },
        "outputId": "dfe0debf-87f0-43bb-f2ad-3bb70c667a82"
      },
      "outputs": [
        {
          "output_type": "stream",
          "name": "stdout",
          "text": [
            "Bonjour, mon numéro de série est 420912\n",
            "True\n",
            "False\n",
            "\n",
            "\n",
            "Bonjour, mon numéro de série est 420913\n",
            "False\n"
          ]
        }
      ],
      "source": [
        "mot1 = Moteur('420912')\n",
        "mot2 = Moteur(panne=True, esn='420913')\n",
        "\n",
        "mot1.dire_bonjour()\n",
        "print(mot1.fonctionne())\n",
        "\n",
        "mot1.panne = True\n",
        "print(mot1.fonctionne())\n",
        "\n",
        "print('\\n')\n",
        "mot2.dire_bonjour()\n",
        "print(mot2.fonctionne())"
      ]
    },
    {
      "cell_type": "markdown",
      "id": "7425fc54-8c5f-49aa-a983-e0919eca56df",
      "metadata": {
        "id": "7425fc54-8c5f-49aa-a983-e0919eca56df"
      },
      "source": [
        "### Méthode récurcive vs Méthode itérative"
      ]
    },
    {
      "cell_type": "code",
      "execution_count": null,
      "id": "77888025-c0af-492e-b2e9-c23b00642b28",
      "metadata": {
        "id": "77888025-c0af-492e-b2e9-c23b00642b28",
        "colab": {
          "base_uri": "https://localhost:8080/"
        },
        "outputId": "7b30da20-de79-4ca4-954f-e279ddac648f"
      },
      "outputs": [
        {
          "output_type": "stream",
          "name": "stdout",
          "text": [
            "120\n",
            "120\n"
          ]
        }
      ],
      "source": [
        "# Méthode récursive\n",
        "def fact1(n):\n",
        "    if n == 0:\n",
        "        return 1\n",
        "    else:\n",
        "        return n*fact1(n-1)\n",
        "\n",
        "# Méthode itérative\n",
        "def fact2(n):\n",
        "    s=1\n",
        "    for i in range(1,n+1):\n",
        "        s*=i\n",
        "    return s\n",
        "\n",
        "print(fact1(5))\n",
        "print(fact2(5))"
      ]
    },
    {
      "cell_type": "code",
      "execution_count": null,
      "id": "af75da2d-f5d1-4841-add1-7714fb9d2084",
      "metadata": {
        "id": "af75da2d-f5d1-4841-add1-7714fb9d2084",
        "colab": {
          "base_uri": "https://localhost:8080/",
          "height": 35
        },
        "outputId": "e0cd786e-bcd6-462d-f4d1-8a1af024d45d"
      },
      "outputs": [
        {
          "output_type": "execute_result",
          "data": {
            "text/plain": [
              "'\\nApp.1 : Ecrire une fonction qui retourne le plus grand commun diviseur (pgcd) entre deux nombres a et b.\\n'"
            ],
            "application/vnd.google.colaboratory.intrinsic+json": {
              "type": "string"
            }
          },
          "metadata": {},
          "execution_count": 46
        }
      ],
      "source": [
        "\"\"\"\n",
        "App.1 : Ecrire une fonction qui retourne le plus grand commun diviseur (pgcd) entre deux nombres a et b.\n",
        "\"\"\""
      ]
    },
    {
      "cell_type": "code",
      "execution_count": null,
      "id": "b0a390d4-c04d-4398-b9cd-2f85b836e263",
      "metadata": {
        "id": "b0a390d4-c04d-4398-b9cd-2f85b836e263",
        "colab": {
          "base_uri": "https://localhost:8080/"
        },
        "outputId": "ad6bde6b-f024-4109-dbce-e5a7a655ffb9"
      },
      "outputs": [
        {
          "output_type": "stream",
          "name": "stdout",
          "text": [
            "pgcd de  230 et 25  :\n",
            "pgcd1(a,b) =  5\n",
            "pgcd2(a,b) =  5\n"
          ]
        }
      ],
      "source": [
        "\"\"\"\n",
        "App.1 : Correction\n",
        "\"\"\"\n",
        "\n",
        "#Méthode itérative\n",
        "def pgcd1(a,b):\n",
        "    while (a%b) != 0:\n",
        "        s = a%b\n",
        "        a = b\n",
        "        b = s\n",
        "    return b\n",
        "\n",
        "\n",
        "#Méthode récurcive\n",
        "def pgcd2(a,b):\n",
        "    if a==b : return a \n",
        "    if a<b : a,b = b,a\n",
        "    return pgcd2(a-b,b)\n",
        "\n",
        "a = 230\n",
        "b = 25\n",
        "\n",
        "print(\"pgcd de \", a, \"et\", b, \" :\")\n",
        "print(\"pgcd1(a,b) = \", pgcd1(a,b))\n",
        "print(\"pgcd2(a,b) = \", pgcd2(a,b))"
      ]
    },
    {
      "cell_type": "markdown",
      "id": "335ef98a-5f95-453d-a6b7-2d199360e2cd",
      "metadata": {
        "id": "335ef98a-5f95-453d-a6b7-2d199360e2cd"
      },
      "source": [
        "## Libraries"
      ]
    },
    {
      "cell_type": "markdown",
      "id": "34dce20e-1f94-45cb-93cc-db98c522919a",
      "metadata": {
        "id": "34dce20e-1f94-45cb-93cc-db98c522919a"
      },
      "source": [
        "\n",
        "\n",
        "```\n",
        "# This is formatted as code\n",
        "```\n",
        "\n",
        "> pip install numpy pandas\n",
        "\n",
        "> pip3 install -U numpy pandas"
      ]
    },
    {
      "cell_type": "markdown",
      "id": "ee32799a-2dbd-479c-8a99-162522f1cbac",
      "metadata": {
        "id": "ee32799a-2dbd-479c-8a99-162522f1cbac"
      },
      "source": [
        "### Math"
      ]
    },
    {
      "cell_type": "code",
      "execution_count": null,
      "id": "27fe5f91-bd00-409b-9fbe-fb751723ad02",
      "metadata": {
        "id": "27fe5f91-bd00-409b-9fbe-fb751723ad02"
      },
      "outputs": [],
      "source": [
        "import math"
      ]
    },
    {
      "cell_type": "code",
      "execution_count": null,
      "id": "641ce75e-83bb-4c75-901a-f46a85448d8e",
      "metadata": {
        "id": "641ce75e-83bb-4c75-901a-f46a85448d8e",
        "colab": {
          "base_uri": "https://localhost:8080/"
        },
        "outputId": "1f5cfb20-43c3-4bc2-d1e0-2582d3e3bcd1"
      },
      "outputs": [
        {
          "output_type": "stream",
          "name": "stdout",
          "text": [
            "sqrt(x) = 2.0\n",
            "cos(x) = -0.6536436208636119\n",
            "sin(x) = -0.7568024953079282\n",
            "factorial(x) = 24\n"
          ]
        }
      ],
      "source": [
        "x = 4\n",
        "\n",
        "print(\"sqrt(x) =\", math.sqrt(x))\n",
        "print(\"cos(x) =\", math.cos(x))\n",
        "print(\"sin(x) =\", math.sin(x))\n",
        "print(\"factorial(x) =\", math.factorial(x))"
      ]
    },
    {
      "cell_type": "markdown",
      "id": "45942361-083f-4c23-a100-d7f3a0877423",
      "metadata": {
        "tags": [],
        "id": "45942361-083f-4c23-a100-d7f3a0877423"
      },
      "source": [
        "### Numpy"
      ]
    },
    {
      "cell_type": "code",
      "execution_count": null,
      "id": "aa7544d7-61c4-4aae-a6a5-496a157941b4",
      "metadata": {
        "id": "aa7544d7-61c4-4aae-a6a5-496a157941b4"
      },
      "outputs": [],
      "source": [
        "import numpy as np"
      ]
    },
    {
      "cell_type": "code",
      "execution_count": null,
      "id": "3eb41dca-dcfc-45e5-8c39-ce317121a912",
      "metadata": {
        "id": "3eb41dca-dcfc-45e5-8c39-ce317121a912",
        "colab": {
          "base_uri": "https://localhost:8080/"
        },
        "outputId": "0f7ce031-3f75-4832-88bc-815fb96c6465"
      },
      "outputs": [
        {
          "output_type": "execute_result",
          "data": {
            "text/plain": [
              "array([[0., 0., 0., 0.],\n",
              "       [0., 0., 0., 0.],\n",
              "       [0., 0., 0., 0.]])"
            ]
          },
          "metadata": {},
          "execution_count": 54
        }
      ],
      "source": [
        "# Création d'un array à partir d'une liste\n",
        "v = np.array([1.0, 2.0, 3.0])\n",
        "# Création d'un array de taille (n,m) initialisé à 0\n",
        "z = np.zeros((3,4))\n",
        "z"
      ]
    },
    {
      "cell_type": "code",
      "execution_count": null,
      "id": "ac7cdabb-3591-4b7a-b308-192a0624cc11",
      "metadata": {
        "id": "ac7cdabb-3591-4b7a-b308-192a0624cc11",
        "colab": {
          "base_uri": "https://localhost:8080/"
        },
        "outputId": "2ec9d468-444a-4c3a-c774-4959925af860"
      },
      "outputs": [
        {
          "output_type": "stream",
          "name": "stdout",
          "text": [
            "(3, 4)\n",
            "(3,)\n"
          ]
        }
      ],
      "source": [
        "# Taille d'un array\n",
        "print(z.shape)\n",
        "print(v.shape)"
      ]
    },
    {
      "cell_type": "code",
      "execution_count": null,
      "id": "b4b8b030-ab39-40be-9c6c-d0ba78ddb971",
      "metadata": {
        "id": "b4b8b030-ab39-40be-9c6c-d0ba78ddb971",
        "colab": {
          "base_uri": "https://localhost:8080/"
        },
        "outputId": "1e9708a2-0d51-4f9e-9a9b-e3a91b163866"
      },
      "outputs": [
        {
          "output_type": "stream",
          "name": "stdout",
          "text": [
            "A =  [[2. 1. 1.]\n",
            " [1. 2. 1.]\n",
            " [1. 1. 2.]]\n",
            "Av =  [7. 8. 9.]\n",
            "3*A =  [[6. 3. 3.]\n",
            " [3. 6. 3.]\n",
            " [3. 3. 6.]]\n",
            "A*v =  [[2. 2. 3.]\n",
            " [1. 4. 3.]\n",
            " [1. 2. 6.]]\n",
            "A + 1 =  [[3. 2. 2.]\n",
            " [2. 3. 2.]\n",
            " [2. 2. 3.]]\n",
            "A + v =  [[3. 3. 4.]\n",
            " [2. 4. 4.]\n",
            " [2. 3. 5.]]\n",
            "A^2 =  [[4. 1. 1.]\n",
            " [1. 4. 1.]\n",
            " [1. 1. 4.]]\n"
          ]
        }
      ],
      "source": [
        "# Opérations courantes\n",
        "A = np.ones((3,3)) + np.eye(3)\n",
        "print('A = ', A)\n",
        "print('Av = ', np.dot(A,v))\n",
        "print('3*A = ', 3*A)\n",
        "print('A*v = ', A*v)\n",
        "print('A + 1 = ', A+1)\n",
        "print('A + v = ', A+v)\n",
        "print('A^2 = ', np.square(A))"
      ]
    },
    {
      "cell_type": "code",
      "execution_count": null,
      "id": "22507d09-f213-40c4-9328-2acefcaac78e",
      "metadata": {
        "id": "22507d09-f213-40c4-9328-2acefcaac78e",
        "colab": {
          "base_uri": "https://localhost:8080/"
        },
        "outputId": "feea8508-9630-4d71-dedb-5a030b456528"
      },
      "outputs": [
        {
          "output_type": "stream",
          "name": "stdout",
          "text": [
            "[1 2 5 9]\n"
          ]
        }
      ],
      "source": [
        "B = np.array([5, 2, 9, 1])\n",
        "\n",
        "print(np.sort(B))"
      ]
    },
    {
      "cell_type": "markdown",
      "id": "0393ae0a-4841-49fa-a19d-fd79b16707c1",
      "metadata": {
        "id": "0393ae0a-4841-49fa-a19d-fd79b16707c1"
      },
      "source": [
        "#### Compatif de performance : produit matriciel\n"
      ]
    },
    {
      "cell_type": "code",
      "execution_count": null,
      "id": "2cc82968-354a-4065-b039-ff50d852ef38",
      "metadata": {
        "id": "2cc82968-354a-4065-b039-ff50d852ef38"
      },
      "outputs": [],
      "source": [
        "import random"
      ]
    },
    {
      "cell_type": "code",
      "execution_count": null,
      "id": "555a2783-9d39-4fa0-820c-d05395a42863",
      "metadata": {
        "id": "555a2783-9d39-4fa0-820c-d05395a42863"
      },
      "outputs": [],
      "source": [
        "# Création d'une matrice aléatoire sous forme de liste de listes\n",
        "taille = 2\n",
        "A = [[random.random() for _ in range(taille)] for _ in range(taille)]"
      ]
    },
    {
      "cell_type": "code",
      "execution_count": null,
      "id": "a9a0ed33-f5b1-4be9-afb0-2cd03a554b14",
      "metadata": {
        "id": "a9a0ed33-f5b1-4be9-afb0-2cd03a554b14",
        "colab": {
          "base_uri": "https://localhost:8080/"
        },
        "outputId": "d9d8de16-51bd-44a9-d4d9-c113c5eabcc2"
      },
      "outputs": [
        {
          "output_type": "stream",
          "name": "stdout",
          "text": [
            "[[0.276484304928418, 0.8266507071553001], [0.45558321926725065, 0.7610062397148172]]\n"
          ]
        }
      ],
      "source": [
        "print(A)"
      ]
    },
    {
      "cell_type": "code",
      "execution_count": null,
      "id": "d0a7c16c-d2ba-4ece-ba30-39a90fcf3539",
      "metadata": {
        "id": "d0a7c16c-d2ba-4ece-ba30-39a90fcf3539",
        "colab": {
          "base_uri": "https://localhost:8080/"
        },
        "outputId": "a719174e-2318-45af-c5bf-ef574ff9b5b2"
      },
      "outputs": [
        {
          "output_type": "stream",
          "name": "stdout",
          "text": [
            "(2, 2)\n"
          ]
        }
      ],
      "source": [
        "\"\"\"\n",
        "EXERCICE - Afficher un tuple contenant les dimensions de la matrice A\n",
        "\"\"\"\n",
        "import numpy as np\n",
        "\n",
        "# Affichage simple des dimensions de A :\n",
        "# print tuple(np.shape(A))\n",
        "\n",
        "# Fonction qui retourne les dim de A :\n",
        "def Dimension(A) :\n",
        "  (Long_A,Larg_A) = np.shape(A)\n",
        "  res = (Long_A, Larg_A)\n",
        "  return res\n",
        "\n",
        "print(Dimension(A))\n"
      ]
    },
    {
      "cell_type": "markdown",
      "id": "98f2a7f1-113f-4757-8706-166b163d65ce",
      "metadata": {
        "id": "98f2a7f1-113f-4757-8706-166b163d65ce"
      },
      "source": [
        "$$ (AB)_{ij} = \\sum_k A_{ik} B_{kj} $$"
      ]
    },
    {
      "cell_type": "code",
      "execution_count": null,
      "id": "8a80f0bb-5f31-4471-ae47-3886decff6ac",
      "metadata": {
        "id": "8a80f0bb-5f31-4471-ae47-3886decff6ac",
        "colab": {
          "base_uri": "https://localhost:8080/"
        },
        "outputId": "1ccb1d83-2b53-4c92-cd0d-5e16c99f3288"
      },
      "outputs": [
        {
          "output_type": "stream",
          "name": "stdout",
          "text": [
            "le produit de  [[1, 2, 3], [3, 4, 5]] et de  [[1, 2], [3, 4], [5, 6]] est : \n"
          ]
        },
        {
          "output_type": "execute_result",
          "data": {
            "text/plain": [
              "[[22, 28], [40, 52]]"
            ]
          },
          "metadata": {},
          "execution_count": 62
        }
      ],
      "source": [
        "\"\"\"\n",
        "EXERCICE - Implémenter le produit matriciel de 2 matrices sous forme de listes python\n",
        "\"\"\"\n",
        "\n",
        "def produit(A,B) :\n",
        "  (ligA,colA) = Dimension(A)\n",
        "  (ligB,colB) = Dimension(B)\n",
        "  # assert(colA == ligB)\n",
        "  if (colA == ligB) :\n",
        "    AB = [[0 for _ in range(ligA)] for _ in range(colB)]\n",
        "    # print(AB)\n",
        "    for i in range (ligA) :\n",
        "      for j in range (colB) :\n",
        "        for k in range (colA) :\n",
        "          AB[i][j]  += A[i][k]*B[k][j]\n",
        "    return AB\n",
        "  else :\n",
        "    print(\"erreur de dimension\")\n",
        "\n",
        "# Test :\n",
        "A = [ [1, 2, 3] , [3, 4, 5] ]\n",
        "B = [ [1, 2] , [3, 4] , [5, 6] ]\n",
        "print(\"le produit de \", A, \"et de \", B, \"est : \")\n",
        "produit(A,B)"
      ]
    },
    {
      "cell_type": "code",
      "execution_count": null,
      "id": "b4557582-a050-42a4-8001-5225e5a30d7f",
      "metadata": {
        "id": "b4557582-a050-42a4-8001-5225e5a30d7f"
      },
      "outputs": [],
      "source": [
        "# Vérification\n",
        "assert( produit([ [1, 2],[3, 4] ] , [ [1, 2],[3, 4] ] ) == [[7, 10], [15, 22]])"
      ]
    },
    {
      "cell_type": "code",
      "execution_count": null,
      "id": "a04cfaef-513c-41a4-ae6e-8a9aee4a6cca",
      "metadata": {
        "id": "a04cfaef-513c-41a4-ae6e-8a9aee4a6cca",
        "colab": {
          "base_uri": "https://localhost:8080/"
        },
        "outputId": "080040c1-279d-4120-b87a-9ff27a59d996"
      },
      "outputs": [
        {
          "output_type": "stream",
          "name": "stdout",
          "text": [
            "le produit de  [[1, 2, 3], [3, 4, 5], [6, 7, 8]] et de  [[1, 2, 3], [3, 4, 5], [6, 7, 8]] est : \n",
            "[[25, 31, 37], [45, 57, 69], [75, 96, 117]]\n"
          ]
        }
      ],
      "source": [
        "# test :\n",
        "A = [ [1, 2, 3] , [3, 4, 5] , [6, 7, 8] ]\n",
        "print(\"le produit de \", A, \"et de \", A, \"est : \")\n",
        "print(produit(A, A))"
      ]
    },
    {
      "cell_type": "code",
      "source": [
        "# test erreur :\n",
        "B = [ [1, 2, 3] , [3, 4, 5] ]\n",
        "print(\"le produit de \", A, \"et de \", B, \"est : \")\n",
        "print('test erreur de dimension :', produit(B, B))"
      ],
      "metadata": {
        "colab": {
          "base_uri": "https://localhost:8080/"
        },
        "id": "BcZFH-2pLJ-C",
        "outputId": "bd3629ab-56cc-4ba4-a3b5-a0c8a7082697"
      },
      "id": "BcZFH-2pLJ-C",
      "execution_count": null,
      "outputs": [
        {
          "output_type": "stream",
          "name": "stdout",
          "text": [
            "le produit de  [[1, 2, 3], [3, 4, 5], [6, 7, 8]] et de  [[1, 2, 3], [3, 4, 5]] est : \n",
            "erreur de dimension\n",
            "test erreur de dimension : None\n"
          ]
        }
      ]
    },
    {
      "cell_type": "code",
      "execution_count": null,
      "id": "27645edc-c5ed-4c42-90ad-bbea79ee4979",
      "metadata": {
        "id": "27645edc-c5ed-4c42-90ad-bbea79ee4979",
        "colab": {
          "base_uri": "https://localhost:8080/"
        },
        "outputId": "2a67610b-81a9-4047-b6a2-641a072fb9ae"
      },
      "outputs": [
        {
          "output_type": "stream",
          "name": "stdout",
          "text": [
            "21.9 µs ± 1.44 µs per loop (mean ± std. dev. of 7 runs, 10000 loops each)\n"
          ]
        }
      ],
      "source": [
        "# Sortons le chronomètre\n",
        "%timeit produit(A, A)"
      ]
    },
    {
      "cell_type": "code",
      "execution_count": null,
      "id": "5658e3cc-5ad1-459d-b18d-dece00e03da0",
      "metadata": {
        "id": "5658e3cc-5ad1-459d-b18d-dece00e03da0"
      },
      "outputs": [],
      "source": [
        "# Et maintenant, avec numpy !\n",
        "import numpy as np"
      ]
    },
    {
      "cell_type": "code",
      "execution_count": null,
      "id": "39003f54-3a1b-4df2-a68e-6e0bb54e2468",
      "metadata": {
        "id": "39003f54-3a1b-4df2-a68e-6e0bb54e2468",
        "colab": {
          "base_uri": "https://localhost:8080/"
        },
        "outputId": "a8914d8b-3099-4704-f69b-ed2422112c4c"
      },
      "outputs": [
        {
          "output_type": "stream",
          "name": "stdout",
          "text": [
            "[[1 2 3]\n",
            " [3 4 5]\n",
            " [6 7 8]]\n"
          ]
        }
      ],
      "source": [
        "A2 = np.array(A)\n",
        "print(A2)"
      ]
    },
    {
      "cell_type": "code",
      "execution_count": null,
      "id": "d4abaf47-4059-4e35-83e8-7ee9673c2e2e",
      "metadata": {
        "id": "d4abaf47-4059-4e35-83e8-7ee9673c2e2e",
        "colab": {
          "base_uri": "https://localhost:8080/"
        },
        "outputId": "ff1560ff-aec9-4e7c-9911-e0ce4e5dcb55"
      },
      "outputs": [
        {
          "output_type": "stream",
          "name": "stdout",
          "text": [
            "10.5 µs ± 431 ns per loop (mean ± std. dev. of 7 runs, 100000 loops each)\n"
          ]
        }
      ],
      "source": [
        "%timeit np.dot(A, A)"
      ]
    },
    {
      "cell_type": "markdown",
      "id": "79928725-48a4-4dd2-ae50-99783ed90d87",
      "metadata": {
        "id": "79928725-48a4-4dd2-ae50-99783ed90d87"
      },
      "source": [
        "EXERCICE - Remplissez le tableau suivant avec les durées d'exécution constatées :\n",
        "\n",
        "(Conseil : pour la taille 3000, essayez UNIQUEMENT avec numpy)\n",
        "\n",
        "Taille | Python | numpy\n",
        "-------|--------|-------\n",
        "30     | 5.53 ms ± 92.6 µs    | 179 µs ± 3.5 µs\n",
        "300    | 5.56 s ± 206 ms      | 20 ms ± 436 µs\n",
        "3000   | + 5 min 21 s         | 2.46 s ± 75.6 ms "
      ]
    },
    {
      "cell_type": "code",
      "source": [
        "\n",
        "## CE PROGRAMME PEUT METTRE DU TEMPS A TOURNER\n",
        "\n",
        "# Création d'une matrice aléatoire sous forme de liste de listes\n",
        "for N in [30, 300, 3000] :\n",
        "  A = [[random.random() for _ in range(N)] for _ in range(N)]\n",
        "  B = [[random.random() for _ in range(N)] for _ in range(N)]\n",
        "  print(\"time pour N = \", N, \" :\")\n",
        "  print(\"avec numpy :\")\n",
        "  %timeit np.dot(A, B)\n",
        "  print(\"avec python :\")\n",
        "  %timeit produit(A, B)\n",
        "# Pour N = 3000 avec python, le produit matriciel prend trop de temps (> 20 min)"
      ],
      "metadata": {
        "id": "6KFLKb1NNnVI"
      },
      "id": "6KFLKb1NNnVI",
      "execution_count": null,
      "outputs": []
    },
    {
      "cell_type": "markdown",
      "id": "f83a4e6a-95b0-46fa-8109-10765c3997f1",
      "metadata": {
        "id": "f83a4e6a-95b0-46fa-8109-10765c3997f1"
      },
      "source": [
        "###  Pandas"
      ]
    },
    {
      "cell_type": "code",
      "execution_count": null,
      "id": "9f767f8d-333c-41ff-b5ed-45b840466af9",
      "metadata": {
        "id": "9f767f8d-333c-41ff-b5ed-45b840466af9"
      },
      "outputs": [],
      "source": [
        "import pandas as pd"
      ]
    },
    {
      "cell_type": "code",
      "execution_count": null,
      "id": "7ea3ab2b-4c8c-4217-99ab-8135a7ba08b7",
      "metadata": {
        "id": "7ea3ab2b-4c8c-4217-99ab-8135a7ba08b7",
        "colab": {
          "base_uri": "https://localhost:8080/",
          "height": 143
        },
        "outputId": "f4d4475e-d09f-4915-f1ce-7025abcb1b9c"
      },
      "outputs": [
        {
          "output_type": "execute_result",
          "data": {
            "text/plain": [
              "       ESN  panne\n",
              "0  E420912  False\n",
              "1  E420913  False\n",
              "2  E420914   True"
            ],
            "text/html": [
              "\n",
              "  <div id=\"df-6772af1c-3844-4ed8-b01b-c834ca0e591b\">\n",
              "    <div class=\"colab-df-container\">\n",
              "      <div>\n",
              "<style scoped>\n",
              "    .dataframe tbody tr th:only-of-type {\n",
              "        vertical-align: middle;\n",
              "    }\n",
              "\n",
              "    .dataframe tbody tr th {\n",
              "        vertical-align: top;\n",
              "    }\n",
              "\n",
              "    .dataframe thead th {\n",
              "        text-align: right;\n",
              "    }\n",
              "</style>\n",
              "<table border=\"1\" class=\"dataframe\">\n",
              "  <thead>\n",
              "    <tr style=\"text-align: right;\">\n",
              "      <th></th>\n",
              "      <th>ESN</th>\n",
              "      <th>panne</th>\n",
              "    </tr>\n",
              "  </thead>\n",
              "  <tbody>\n",
              "    <tr>\n",
              "      <th>0</th>\n",
              "      <td>E420912</td>\n",
              "      <td>False</td>\n",
              "    </tr>\n",
              "    <tr>\n",
              "      <th>1</th>\n",
              "      <td>E420913</td>\n",
              "      <td>False</td>\n",
              "    </tr>\n",
              "    <tr>\n",
              "      <th>2</th>\n",
              "      <td>E420914</td>\n",
              "      <td>True</td>\n",
              "    </tr>\n",
              "  </tbody>\n",
              "</table>\n",
              "</div>\n",
              "      <button class=\"colab-df-convert\" onclick=\"convertToInteractive('df-6772af1c-3844-4ed8-b01b-c834ca0e591b')\"\n",
              "              title=\"Convert this dataframe to an interactive table.\"\n",
              "              style=\"display:none;\">\n",
              "        \n",
              "  <svg xmlns=\"http://www.w3.org/2000/svg\" height=\"24px\"viewBox=\"0 0 24 24\"\n",
              "       width=\"24px\">\n",
              "    <path d=\"M0 0h24v24H0V0z\" fill=\"none\"/>\n",
              "    <path d=\"M18.56 5.44l.94 2.06.94-2.06 2.06-.94-2.06-.94-.94-2.06-.94 2.06-2.06.94zm-11 1L8.5 8.5l.94-2.06 2.06-.94-2.06-.94L8.5 2.5l-.94 2.06-2.06.94zm10 10l.94 2.06.94-2.06 2.06-.94-2.06-.94-.94-2.06-.94 2.06-2.06.94z\"/><path d=\"M17.41 7.96l-1.37-1.37c-.4-.4-.92-.59-1.43-.59-.52 0-1.04.2-1.43.59L10.3 9.45l-7.72 7.72c-.78.78-.78 2.05 0 2.83L4 21.41c.39.39.9.59 1.41.59.51 0 1.02-.2 1.41-.59l7.78-7.78 2.81-2.81c.8-.78.8-2.07 0-2.86zM5.41 20L4 18.59l7.72-7.72 1.47 1.35L5.41 20z\"/>\n",
              "  </svg>\n",
              "      </button>\n",
              "      \n",
              "  <style>\n",
              "    .colab-df-container {\n",
              "      display:flex;\n",
              "      flex-wrap:wrap;\n",
              "      gap: 12px;\n",
              "    }\n",
              "\n",
              "    .colab-df-convert {\n",
              "      background-color: #E8F0FE;\n",
              "      border: none;\n",
              "      border-radius: 50%;\n",
              "      cursor: pointer;\n",
              "      display: none;\n",
              "      fill: #1967D2;\n",
              "      height: 32px;\n",
              "      padding: 0 0 0 0;\n",
              "      width: 32px;\n",
              "    }\n",
              "\n",
              "    .colab-df-convert:hover {\n",
              "      background-color: #E2EBFA;\n",
              "      box-shadow: 0px 1px 2px rgba(60, 64, 67, 0.3), 0px 1px 3px 1px rgba(60, 64, 67, 0.15);\n",
              "      fill: #174EA6;\n",
              "    }\n",
              "\n",
              "    [theme=dark] .colab-df-convert {\n",
              "      background-color: #3B4455;\n",
              "      fill: #D2E3FC;\n",
              "    }\n",
              "\n",
              "    [theme=dark] .colab-df-convert:hover {\n",
              "      background-color: #434B5C;\n",
              "      box-shadow: 0px 1px 3px 1px rgba(0, 0, 0, 0.15);\n",
              "      filter: drop-shadow(0px 1px 2px rgba(0, 0, 0, 0.3));\n",
              "      fill: #FFFFFF;\n",
              "    }\n",
              "  </style>\n",
              "\n",
              "      <script>\n",
              "        const buttonEl =\n",
              "          document.querySelector('#df-6772af1c-3844-4ed8-b01b-c834ca0e591b button.colab-df-convert');\n",
              "        buttonEl.style.display =\n",
              "          google.colab.kernel.accessAllowed ? 'block' : 'none';\n",
              "\n",
              "        async function convertToInteractive(key) {\n",
              "          const element = document.querySelector('#df-6772af1c-3844-4ed8-b01b-c834ca0e591b');\n",
              "          const dataTable =\n",
              "            await google.colab.kernel.invokeFunction('convertToInteractive',\n",
              "                                                     [key], {});\n",
              "          if (!dataTable) return;\n",
              "\n",
              "          const docLinkHtml = 'Like what you see? Visit the ' +\n",
              "            '<a target=\"_blank\" href=https://colab.research.google.com/notebooks/data_table.ipynb>data table notebook</a>'\n",
              "            + ' to learn more about interactive tables.';\n",
              "          element.innerHTML = '';\n",
              "          dataTable['output_type'] = 'display_data';\n",
              "          await google.colab.output.renderOutput(dataTable, element);\n",
              "          const docLink = document.createElement('div');\n",
              "          docLink.innerHTML = docLinkHtml;\n",
              "          element.appendChild(docLink);\n",
              "        }\n",
              "      </script>\n",
              "    </div>\n",
              "  </div>\n",
              "  "
            ]
          },
          "metadata": {},
          "execution_count": 73
        }
      ],
      "source": [
        "df_exemple = pd.DataFrame({\"ESN\": [\"E420912\", \"E420913\", \"E420914\"], \"panne\": [False, False, True]})\n",
        "df_exemple"
      ]
    },
    {
      "cell_type": "markdown",
      "id": "3eaef54e-f9f2-486d-8e11-4519680a764b",
      "metadata": {
        "id": "3eaef54e-f9f2-486d-8e11-4519680a764b"
      },
      "source": [
        "#### Lecture et prétraitement de données\n"
      ]
    },
    {
      "cell_type": "code",
      "execution_count": null,
      "id": "ad2c6594-9610-49c7-bf08-81f64d718d63",
      "metadata": {
        "id": "ad2c6594-9610-49c7-bf08-81f64d718d63",
        "colab": {
          "base_uri": "https://localhost:8080/"
        },
        "outputId": "541a3689-90f5-4474-c461-6aeaff8afc12"
      },
      "outputs": [
        {
          "output_type": "stream",
          "name": "stdout",
          "text": [
            "Cloning into 'MACS3-Statistiques-Descriptives-TDs'...\n",
            "remote: Enumerating objects: 52, done.\u001b[K\n",
            "remote: Counting objects: 100% (52/52), done.\u001b[K\n",
            "remote: Compressing objects: 100% (41/41), done.\u001b[K\n",
            "remote: Total 52 (delta 7), reused 50 (delta 5), pack-reused 0\u001b[K\n",
            "Unpacking objects: 100% (52/52), done.\n"
          ]
        }
      ],
      "source": [
        "!git clone https://github.com/MadaneA/MACS3-Statistiques-Descriptives-TDs.git"
      ]
    },
    {
      "cell_type": "code",
      "execution_count": null,
      "id": "485f489e-365c-4abc-ae1c-223e921b8123",
      "metadata": {
        "id": "485f489e-365c-4abc-ae1c-223e921b8123"
      },
      "outputs": [],
      "source": [
        "import os\n",
        "os.chdir('MACS3-Statistiques-Descriptives-TDs')"
      ]
    },
    {
      "cell_type": "code",
      "execution_count": null,
      "id": "78c64597-73b2-443c-b0cf-aa2989f6ef8d",
      "metadata": {
        "id": "78c64597-73b2-443c-b0cf-aa2989f6ef8d",
        "colab": {
          "base_uri": "https://localhost:8080/",
          "height": 369
        },
        "outputId": "4a4354f0-efaa-41cf-d7ba-ded3f79860df"
      },
      "outputs": [
        {
          "output_type": "execute_result",
          "data": {
            "text/plain": [
              "                         t EGT_SEL FLIGHT_MOD FMV_SEL HPTC_SEL LPTC_SEL  \\\n",
              "0                  datenum   deg_C          _       _        %        %   \n",
              "1  15/09/2011 14:25:58.125     NaN        NaN     NaN      NaN      NaN   \n",
              "2  15/09/2011 14:25:58.375     NaN        NaN     NaN      NaN      NaN   \n",
              "3  15/09/2011 14:25:58.625     NaN        NaN     NaN      NaN      NaN   \n",
              "4  15/09/2011 14:25:58.875     NaN        NaN     NaN      NaN      NaN   \n",
              "\n",
              "  N1_SEL N2_ACTSEL OIL_P OIL_TEMP  ... T25_SEL T3_SEL VBV_SEL VIB_CN1 VIB_CN2  \\\n",
              "0      %     %_RPM   psi        _  ...       _      _     DEG       _       _   \n",
              "1    NaN         0   NaN      NaN  ...     NaN    NaN     NaN     NaN     NaN   \n",
              "2    NaN         0   NaN      NaN  ...     NaN    NaN     NaN     NaN     NaN   \n",
              "3    NaN         0   NaN      NaN  ...     NaN    NaN     NaN     NaN     NaN   \n",
              "4    NaN         0   NaN      NaN  ...     NaN    NaN     NaN     NaN     NaN   \n",
              "\n",
              "  VIB_TN1 VIB_TN2 VSV_SEL  WFM_SEL    XM  \n",
              "0       _       _     DEG     lb/h  mach  \n",
              "1     NaN     NaN     NaN      NaN   NaN  \n",
              "2     NaN     NaN     NaN      NaN   NaN  \n",
              "3     NaN     NaN     NaN      NaN   NaN  \n",
              "4     NaN     NaN     NaN  7679.98  0.15  \n",
              "\n",
              "[5 rows x 26 columns]"
            ],
            "text/html": [
              "\n",
              "  <div id=\"df-04ce3bfb-65cc-45e6-b2b3-353deb0d4418\">\n",
              "    <div class=\"colab-df-container\">\n",
              "      <div>\n",
              "<style scoped>\n",
              "    .dataframe tbody tr th:only-of-type {\n",
              "        vertical-align: middle;\n",
              "    }\n",
              "\n",
              "    .dataframe tbody tr th {\n",
              "        vertical-align: top;\n",
              "    }\n",
              "\n",
              "    .dataframe thead th {\n",
              "        text-align: right;\n",
              "    }\n",
              "</style>\n",
              "<table border=\"1\" class=\"dataframe\">\n",
              "  <thead>\n",
              "    <tr style=\"text-align: right;\">\n",
              "      <th></th>\n",
              "      <th>t</th>\n",
              "      <th>EGT_SEL</th>\n",
              "      <th>FLIGHT_MOD</th>\n",
              "      <th>FMV_SEL</th>\n",
              "      <th>HPTC_SEL</th>\n",
              "      <th>LPTC_SEL</th>\n",
              "      <th>N1_SEL</th>\n",
              "      <th>N2_ACTSEL</th>\n",
              "      <th>OIL_P</th>\n",
              "      <th>OIL_TEMP</th>\n",
              "      <th>...</th>\n",
              "      <th>T25_SEL</th>\n",
              "      <th>T3_SEL</th>\n",
              "      <th>VBV_SEL</th>\n",
              "      <th>VIB_CN1</th>\n",
              "      <th>VIB_CN2</th>\n",
              "      <th>VIB_TN1</th>\n",
              "      <th>VIB_TN2</th>\n",
              "      <th>VSV_SEL</th>\n",
              "      <th>WFM_SEL</th>\n",
              "      <th>XM</th>\n",
              "    </tr>\n",
              "  </thead>\n",
              "  <tbody>\n",
              "    <tr>\n",
              "      <th>0</th>\n",
              "      <td>datenum</td>\n",
              "      <td>deg_C</td>\n",
              "      <td>_</td>\n",
              "      <td>_</td>\n",
              "      <td>%</td>\n",
              "      <td>%</td>\n",
              "      <td>%</td>\n",
              "      <td>%_RPM</td>\n",
              "      <td>psi</td>\n",
              "      <td>_</td>\n",
              "      <td>...</td>\n",
              "      <td>_</td>\n",
              "      <td>_</td>\n",
              "      <td>DEG</td>\n",
              "      <td>_</td>\n",
              "      <td>_</td>\n",
              "      <td>_</td>\n",
              "      <td>_</td>\n",
              "      <td>DEG</td>\n",
              "      <td>lb/h</td>\n",
              "      <td>mach</td>\n",
              "    </tr>\n",
              "    <tr>\n",
              "      <th>1</th>\n",
              "      <td>15/09/2011 14:25:58.125</td>\n",
              "      <td>NaN</td>\n",
              "      <td>NaN</td>\n",
              "      <td>NaN</td>\n",
              "      <td>NaN</td>\n",
              "      <td>NaN</td>\n",
              "      <td>NaN</td>\n",
              "      <td>0</td>\n",
              "      <td>NaN</td>\n",
              "      <td>NaN</td>\n",
              "      <td>...</td>\n",
              "      <td>NaN</td>\n",
              "      <td>NaN</td>\n",
              "      <td>NaN</td>\n",
              "      <td>NaN</td>\n",
              "      <td>NaN</td>\n",
              "      <td>NaN</td>\n",
              "      <td>NaN</td>\n",
              "      <td>NaN</td>\n",
              "      <td>NaN</td>\n",
              "      <td>NaN</td>\n",
              "    </tr>\n",
              "    <tr>\n",
              "      <th>2</th>\n",
              "      <td>15/09/2011 14:25:58.375</td>\n",
              "      <td>NaN</td>\n",
              "      <td>NaN</td>\n",
              "      <td>NaN</td>\n",
              "      <td>NaN</td>\n",
              "      <td>NaN</td>\n",
              "      <td>NaN</td>\n",
              "      <td>0</td>\n",
              "      <td>NaN</td>\n",
              "      <td>NaN</td>\n",
              "      <td>...</td>\n",
              "      <td>NaN</td>\n",
              "      <td>NaN</td>\n",
              "      <td>NaN</td>\n",
              "      <td>NaN</td>\n",
              "      <td>NaN</td>\n",
              "      <td>NaN</td>\n",
              "      <td>NaN</td>\n",
              "      <td>NaN</td>\n",
              "      <td>NaN</td>\n",
              "      <td>NaN</td>\n",
              "    </tr>\n",
              "    <tr>\n",
              "      <th>3</th>\n",
              "      <td>15/09/2011 14:25:58.625</td>\n",
              "      <td>NaN</td>\n",
              "      <td>NaN</td>\n",
              "      <td>NaN</td>\n",
              "      <td>NaN</td>\n",
              "      <td>NaN</td>\n",
              "      <td>NaN</td>\n",
              "      <td>0</td>\n",
              "      <td>NaN</td>\n",
              "      <td>NaN</td>\n",
              "      <td>...</td>\n",
              "      <td>NaN</td>\n",
              "      <td>NaN</td>\n",
              "      <td>NaN</td>\n",
              "      <td>NaN</td>\n",
              "      <td>NaN</td>\n",
              "      <td>NaN</td>\n",
              "      <td>NaN</td>\n",
              "      <td>NaN</td>\n",
              "      <td>NaN</td>\n",
              "      <td>NaN</td>\n",
              "    </tr>\n",
              "    <tr>\n",
              "      <th>4</th>\n",
              "      <td>15/09/2011 14:25:58.875</td>\n",
              "      <td>NaN</td>\n",
              "      <td>NaN</td>\n",
              "      <td>NaN</td>\n",
              "      <td>NaN</td>\n",
              "      <td>NaN</td>\n",
              "      <td>NaN</td>\n",
              "      <td>0</td>\n",
              "      <td>NaN</td>\n",
              "      <td>NaN</td>\n",
              "      <td>...</td>\n",
              "      <td>NaN</td>\n",
              "      <td>NaN</td>\n",
              "      <td>NaN</td>\n",
              "      <td>NaN</td>\n",
              "      <td>NaN</td>\n",
              "      <td>NaN</td>\n",
              "      <td>NaN</td>\n",
              "      <td>NaN</td>\n",
              "      <td>7679.98</td>\n",
              "      <td>0.15</td>\n",
              "    </tr>\n",
              "  </tbody>\n",
              "</table>\n",
              "<p>5 rows × 26 columns</p>\n",
              "</div>\n",
              "      <button class=\"colab-df-convert\" onclick=\"convertToInteractive('df-04ce3bfb-65cc-45e6-b2b3-353deb0d4418')\"\n",
              "              title=\"Convert this dataframe to an interactive table.\"\n",
              "              style=\"display:none;\">\n",
              "        \n",
              "  <svg xmlns=\"http://www.w3.org/2000/svg\" height=\"24px\"viewBox=\"0 0 24 24\"\n",
              "       width=\"24px\">\n",
              "    <path d=\"M0 0h24v24H0V0z\" fill=\"none\"/>\n",
              "    <path d=\"M18.56 5.44l.94 2.06.94-2.06 2.06-.94-2.06-.94-.94-2.06-.94 2.06-2.06.94zm-11 1L8.5 8.5l.94-2.06 2.06-.94-2.06-.94L8.5 2.5l-.94 2.06-2.06.94zm10 10l.94 2.06.94-2.06 2.06-.94-2.06-.94-.94-2.06-.94 2.06-2.06.94z\"/><path d=\"M17.41 7.96l-1.37-1.37c-.4-.4-.92-.59-1.43-.59-.52 0-1.04.2-1.43.59L10.3 9.45l-7.72 7.72c-.78.78-.78 2.05 0 2.83L4 21.41c.39.39.9.59 1.41.59.51 0 1.02-.2 1.41-.59l7.78-7.78 2.81-2.81c.8-.78.8-2.07 0-2.86zM5.41 20L4 18.59l7.72-7.72 1.47 1.35L5.41 20z\"/>\n",
              "  </svg>\n",
              "      </button>\n",
              "      \n",
              "  <style>\n",
              "    .colab-df-container {\n",
              "      display:flex;\n",
              "      flex-wrap:wrap;\n",
              "      gap: 12px;\n",
              "    }\n",
              "\n",
              "    .colab-df-convert {\n",
              "      background-color: #E8F0FE;\n",
              "      border: none;\n",
              "      border-radius: 50%;\n",
              "      cursor: pointer;\n",
              "      display: none;\n",
              "      fill: #1967D2;\n",
              "      height: 32px;\n",
              "      padding: 0 0 0 0;\n",
              "      width: 32px;\n",
              "    }\n",
              "\n",
              "    .colab-df-convert:hover {\n",
              "      background-color: #E2EBFA;\n",
              "      box-shadow: 0px 1px 2px rgba(60, 64, 67, 0.3), 0px 1px 3px 1px rgba(60, 64, 67, 0.15);\n",
              "      fill: #174EA6;\n",
              "    }\n",
              "\n",
              "    [theme=dark] .colab-df-convert {\n",
              "      background-color: #3B4455;\n",
              "      fill: #D2E3FC;\n",
              "    }\n",
              "\n",
              "    [theme=dark] .colab-df-convert:hover {\n",
              "      background-color: #434B5C;\n",
              "      box-shadow: 0px 1px 3px 1px rgba(0, 0, 0, 0.15);\n",
              "      filter: drop-shadow(0px 1px 2px rgba(0, 0, 0, 0.3));\n",
              "      fill: #FFFFFF;\n",
              "    }\n",
              "  </style>\n",
              "\n",
              "      <script>\n",
              "        const buttonEl =\n",
              "          document.querySelector('#df-04ce3bfb-65cc-45e6-b2b3-353deb0d4418 button.colab-df-convert');\n",
              "        buttonEl.style.display =\n",
              "          google.colab.kernel.accessAllowed ? 'block' : 'none';\n",
              "\n",
              "        async function convertToInteractive(key) {\n",
              "          const element = document.querySelector('#df-04ce3bfb-65cc-45e6-b2b3-353deb0d4418');\n",
              "          const dataTable =\n",
              "            await google.colab.kernel.invokeFunction('convertToInteractive',\n",
              "                                                     [key], {});\n",
              "          if (!dataTable) return;\n",
              "\n",
              "          const docLinkHtml = 'Like what you see? Visit the ' +\n",
              "            '<a target=\"_blank\" href=https://colab.research.google.com/notebooks/data_table.ipynb>data table notebook</a>'\n",
              "            + ' to learn more about interactive tables.';\n",
              "          element.innerHTML = '';\n",
              "          dataTable['output_type'] = 'display_data';\n",
              "          await google.colab.output.renderOutput(dataTable, element);\n",
              "          const docLink = document.createElement('div');\n",
              "          docLink.innerHTML = docLinkHtml;\n",
              "          element.appendChild(docLink);\n",
              "        }\n",
              "      </script>\n",
              "    </div>\n",
              "  </div>\n",
              "  "
            ]
          },
          "metadata": {},
          "execution_count": 76
        }
      ],
      "source": [
        "# Chargement d'un fichier CSV ou Excel\n",
        "df = pd.read_csv(\"./data/Vol010.csv\")\n",
        "# Affichage des 5 premières lignes\n",
        "df.head()"
      ]
    },
    {
      "cell_type": "code",
      "source": [
        "df.loc[0]"
      ],
      "metadata": {
        "colab": {
          "base_uri": "https://localhost:8080/"
        },
        "id": "npsL8APznYMu",
        "outputId": "75ee2852-eca1-476e-b373-a4e13ecdf26c"
      },
      "id": "npsL8APznYMu",
      "execution_count": null,
      "outputs": [
        {
          "output_type": "execute_result",
          "data": {
            "text/plain": [
              "t             datenum\n",
              "EGT_SEL         deg_C\n",
              "FLIGHT_MOD          _\n",
              "FMV_SEL             _\n",
              "HPTC_SEL            %\n",
              "LPTC_SEL            %\n",
              "N1_SEL              %\n",
              "N2_ACTSEL       %_RPM\n",
              "OIL_P             psi\n",
              "OIL_TEMP            _\n",
              "PS3_SEL           psi\n",
              "PT2_SEL            mb\n",
              "P0_SEL            psi\n",
              "TAT             deg_C\n",
              "TBV_SEL             %\n",
              "TRA_SEL           DEG\n",
              "T25_SEL             _\n",
              "T3_SEL              _\n",
              "VBV_SEL           DEG\n",
              "VIB_CN1             _\n",
              "VIB_CN2             _\n",
              "VIB_TN1             _\n",
              "VIB_TN2             _\n",
              "VSV_SEL           DEG\n",
              "WFM_SEL          lb/h\n",
              "XM               mach\n",
              "Name: 0, dtype: object"
            ]
          },
          "metadata": {},
          "execution_count": 77
        }
      ]
    },
    {
      "cell_type": "code",
      "execution_count": null,
      "id": "eb4f6d36-3859-4e29-bf52-2b22a1315450",
      "metadata": {
        "id": "eb4f6d36-3859-4e29-bf52-2b22a1315450",
        "colab": {
          "base_uri": "https://localhost:8080/"
        },
        "outputId": "8ed2d074-b3cb-4efc-9f8e-639ad3756654"
      },
      "outputs": [
        {
          "output_type": "stream",
          "name": "stdout",
          "text": [
            "Nombre de colonnes : 22945\n",
            "Nombre de lignes : 26\n",
            "Dimension de df : 2\n"
          ]
        }
      ],
      "source": [
        "\"\"\"\n",
        "EXERCICE - Dimensions d'un DataFrame\n",
        "Affichez le nombre de colonnes et de ligne du DataFrame (indice : beaucoup de méthodes sont communes entre numpy et pandas)\n",
        "\"\"\"\n",
        "# raise NotImplementedError\n",
        "(Col, Ligne) = df.shape\n",
        "print('Nombre de colonnes :', Col)\n",
        "print('Nombre de lignes :', Ligne)\n",
        "print('Dimension de df :', df.ndim)"
      ]
    },
    {
      "cell_type": "code",
      "execution_count": null,
      "id": "750285eb-c7a4-4add-a456-ca7dba6da8d3",
      "metadata": {
        "id": "750285eb-c7a4-4add-a456-ca7dba6da8d3",
        "colab": {
          "base_uri": "https://localhost:8080/"
        },
        "outputId": "5235c4f3-2cee-4019-ed5e-ab0d67fa5968"
      },
      "outputs": [
        {
          "output_type": "execute_result",
          "data": {
            "text/plain": [
              "(596570, 22945)"
            ]
          },
          "metadata": {},
          "execution_count": 79
        }
      ],
      "source": [
        "df.size, len(df)"
      ]
    },
    {
      "cell_type": "code",
      "execution_count": null,
      "id": "7a84eae1-7967-4fcb-8ea3-6b75a4114c44",
      "metadata": {
        "id": "7a84eae1-7967-4fcb-8ea3-6b75a4114c44",
        "colab": {
          "base_uri": "https://localhost:8080/"
        },
        "outputId": "ad34f963-fd5e-4df8-dfbb-cc1afa3f9036"
      },
      "outputs": [
        {
          "output_type": "execute_result",
          "data": {
            "text/plain": [
              "Index(['t', 'EGT_SEL', 'FLIGHT_MOD', 'FMV_SEL', 'HPTC_SEL', 'LPTC_SEL',\n",
              "       'N1_SEL', 'N2_ACTSEL', 'OIL_P', 'OIL_TEMP', 'PS3_SEL', 'PT2_SEL',\n",
              "       'P0_SEL', 'TAT', 'TBV_SEL', 'TRA_SEL', 'T25_SEL', 'T3_SEL', 'VBV_SEL',\n",
              "       'VIB_CN1', 'VIB_CN2', 'VIB_TN1', 'VIB_TN2', 'VSV_SEL', 'WFM_SEL', 'XM'],\n",
              "      dtype='object')"
            ]
          },
          "metadata": {},
          "execution_count": 80
        }
      ],
      "source": [
        "df.columns"
      ]
    },
    {
      "cell_type": "markdown",
      "id": "b6d406bd-7963-48c0-b02a-a072a091ca10",
      "metadata": {
        "id": "b6d406bd-7963-48c0-b02a-a072a091ca10"
      },
      "source": [
        "Les colonnes des DF sont typées, à la manière d'une base de données relationnelle, contrairement aux variables python classiques. Les types des colonnes sont accessibles via df.dtypes. Les principaux types sont les numériques (int32, int64, float etc."
      ]
    },
    {
      "cell_type": "code",
      "execution_count": null,
      "id": "ab0b2e8b-c7f1-40dd-855c-150d726370d3",
      "metadata": {
        "id": "ab0b2e8b-c7f1-40dd-855c-150d726370d3",
        "colab": {
          "base_uri": "https://localhost:8080/",
          "height": 237
        },
        "outputId": "bf482c05-63b8-42b3-cf2d-7705f4cdccf3"
      },
      "outputs": [
        {
          "output_type": "execute_result",
          "data": {
            "text/plain": [
              "         EGT_SEL FLIGHT_MOD\n",
              "10    0.00234327        NaN\n",
              "11  1.08032e-007        NaN\n",
              "12  3.12514e-012        NaN\n",
              "13             0        NaN\n",
              "14       72.0006        NaN\n",
              "15       215.996        NaN"
            ],
            "text/html": [
              "\n",
              "  <div id=\"df-d36a0b20-aac4-4ddb-b412-a9147bdbd770\">\n",
              "    <div class=\"colab-df-container\">\n",
              "      <div>\n",
              "<style scoped>\n",
              "    .dataframe tbody tr th:only-of-type {\n",
              "        vertical-align: middle;\n",
              "    }\n",
              "\n",
              "    .dataframe tbody tr th {\n",
              "        vertical-align: top;\n",
              "    }\n",
              "\n",
              "    .dataframe thead th {\n",
              "        text-align: right;\n",
              "    }\n",
              "</style>\n",
              "<table border=\"1\" class=\"dataframe\">\n",
              "  <thead>\n",
              "    <tr style=\"text-align: right;\">\n",
              "      <th></th>\n",
              "      <th>EGT_SEL</th>\n",
              "      <th>FLIGHT_MOD</th>\n",
              "    </tr>\n",
              "  </thead>\n",
              "  <tbody>\n",
              "    <tr>\n",
              "      <th>10</th>\n",
              "      <td>0.00234327</td>\n",
              "      <td>NaN</td>\n",
              "    </tr>\n",
              "    <tr>\n",
              "      <th>11</th>\n",
              "      <td>1.08032e-007</td>\n",
              "      <td>NaN</td>\n",
              "    </tr>\n",
              "    <tr>\n",
              "      <th>12</th>\n",
              "      <td>3.12514e-012</td>\n",
              "      <td>NaN</td>\n",
              "    </tr>\n",
              "    <tr>\n",
              "      <th>13</th>\n",
              "      <td>0</td>\n",
              "      <td>NaN</td>\n",
              "    </tr>\n",
              "    <tr>\n",
              "      <th>14</th>\n",
              "      <td>72.0006</td>\n",
              "      <td>NaN</td>\n",
              "    </tr>\n",
              "    <tr>\n",
              "      <th>15</th>\n",
              "      <td>215.996</td>\n",
              "      <td>NaN</td>\n",
              "    </tr>\n",
              "  </tbody>\n",
              "</table>\n",
              "</div>\n",
              "      <button class=\"colab-df-convert\" onclick=\"convertToInteractive('df-d36a0b20-aac4-4ddb-b412-a9147bdbd770')\"\n",
              "              title=\"Convert this dataframe to an interactive table.\"\n",
              "              style=\"display:none;\">\n",
              "        \n",
              "  <svg xmlns=\"http://www.w3.org/2000/svg\" height=\"24px\"viewBox=\"0 0 24 24\"\n",
              "       width=\"24px\">\n",
              "    <path d=\"M0 0h24v24H0V0z\" fill=\"none\"/>\n",
              "    <path d=\"M18.56 5.44l.94 2.06.94-2.06 2.06-.94-2.06-.94-.94-2.06-.94 2.06-2.06.94zm-11 1L8.5 8.5l.94-2.06 2.06-.94-2.06-.94L8.5 2.5l-.94 2.06-2.06.94zm10 10l.94 2.06.94-2.06 2.06-.94-2.06-.94-.94-2.06-.94 2.06-2.06.94z\"/><path d=\"M17.41 7.96l-1.37-1.37c-.4-.4-.92-.59-1.43-.59-.52 0-1.04.2-1.43.59L10.3 9.45l-7.72 7.72c-.78.78-.78 2.05 0 2.83L4 21.41c.39.39.9.59 1.41.59.51 0 1.02-.2 1.41-.59l7.78-7.78 2.81-2.81c.8-.78.8-2.07 0-2.86zM5.41 20L4 18.59l7.72-7.72 1.47 1.35L5.41 20z\"/>\n",
              "  </svg>\n",
              "      </button>\n",
              "      \n",
              "  <style>\n",
              "    .colab-df-container {\n",
              "      display:flex;\n",
              "      flex-wrap:wrap;\n",
              "      gap: 12px;\n",
              "    }\n",
              "\n",
              "    .colab-df-convert {\n",
              "      background-color: #E8F0FE;\n",
              "      border: none;\n",
              "      border-radius: 50%;\n",
              "      cursor: pointer;\n",
              "      display: none;\n",
              "      fill: #1967D2;\n",
              "      height: 32px;\n",
              "      padding: 0 0 0 0;\n",
              "      width: 32px;\n",
              "    }\n",
              "\n",
              "    .colab-df-convert:hover {\n",
              "      background-color: #E2EBFA;\n",
              "      box-shadow: 0px 1px 2px rgba(60, 64, 67, 0.3), 0px 1px 3px 1px rgba(60, 64, 67, 0.15);\n",
              "      fill: #174EA6;\n",
              "    }\n",
              "\n",
              "    [theme=dark] .colab-df-convert {\n",
              "      background-color: #3B4455;\n",
              "      fill: #D2E3FC;\n",
              "    }\n",
              "\n",
              "    [theme=dark] .colab-df-convert:hover {\n",
              "      background-color: #434B5C;\n",
              "      box-shadow: 0px 1px 3px 1px rgba(0, 0, 0, 0.15);\n",
              "      filter: drop-shadow(0px 1px 2px rgba(0, 0, 0, 0.3));\n",
              "      fill: #FFFFFF;\n",
              "    }\n",
              "  </style>\n",
              "\n",
              "      <script>\n",
              "        const buttonEl =\n",
              "          document.querySelector('#df-d36a0b20-aac4-4ddb-b412-a9147bdbd770 button.colab-df-convert');\n",
              "        buttonEl.style.display =\n",
              "          google.colab.kernel.accessAllowed ? 'block' : 'none';\n",
              "\n",
              "        async function convertToInteractive(key) {\n",
              "          const element = document.querySelector('#df-d36a0b20-aac4-4ddb-b412-a9147bdbd770');\n",
              "          const dataTable =\n",
              "            await google.colab.kernel.invokeFunction('convertToInteractive',\n",
              "                                                     [key], {});\n",
              "          if (!dataTable) return;\n",
              "\n",
              "          const docLinkHtml = 'Like what you see? Visit the ' +\n",
              "            '<a target=\"_blank\" href=https://colab.research.google.com/notebooks/data_table.ipynb>data table notebook</a>'\n",
              "            + ' to learn more about interactive tables.';\n",
              "          element.innerHTML = '';\n",
              "          dataTable['output_type'] = 'display_data';\n",
              "          await google.colab.output.renderOutput(dataTable, element);\n",
              "          const docLink = document.createElement('div');\n",
              "          docLink.innerHTML = docLinkHtml;\n",
              "          element.appendChild(docLink);\n",
              "        }\n",
              "      </script>\n",
              "    </div>\n",
              "  </div>\n",
              "  "
            ]
          },
          "metadata": {},
          "execution_count": 81
        }
      ],
      "source": [
        "df.loc[10:15, ['EGT_SEL', 'FLIGHT_MOD']]"
      ]
    },
    {
      "cell_type": "code",
      "execution_count": null,
      "id": "619de1e5-3826-457a-8f28-fde87421ad19",
      "metadata": {
        "id": "619de1e5-3826-457a-8f28-fde87421ad19",
        "colab": {
          "base_uri": "https://localhost:8080/",
          "height": 386
        },
        "outputId": "5a8835d9-acbb-46ed-b7c2-dd2ae2016901"
      },
      "outputs": [
        {
          "output_type": "execute_result",
          "data": {
            "text/plain": [
              "                         t EGT_SEL FLIGHT_MOD FMV_SEL HPTC_SEL LPTC_SEL  \\\n",
              "1  15/09/2011 14:25:58.125     NaN        NaN     NaN      NaN      NaN   \n",
              "2  15/09/2011 14:25:58.375     NaN        NaN     NaN      NaN      NaN   \n",
              "3  15/09/2011 14:25:58.625     NaN        NaN     NaN      NaN      NaN   \n",
              "4  15/09/2011 14:25:58.875     NaN        NaN     NaN      NaN      NaN   \n",
              "5  15/09/2011 14:25:59.125     NaN        NaN     NaN      NaN      NaN   \n",
              "\n",
              "  N1_SEL N2_ACTSEL    OIL_P OIL_TEMP  ... T25_SEL T3_SEL VBV_SEL VIB_CN1  \\\n",
              "1    NaN         0      NaN      NaN  ...     NaN    NaN     NaN     NaN   \n",
              "2    NaN         0      NaN      NaN  ...     NaN    NaN     NaN     NaN   \n",
              "3    NaN         0      NaN      NaN  ...     NaN    NaN     NaN     NaN   \n",
              "4    NaN         0      NaN      NaN  ...     NaN    NaN     NaN     NaN   \n",
              "5      0         0  647.998      NaN  ...     NaN    NaN       0       0   \n",
              "\n",
              "  VIB_CN2 VIB_TN1 VIB_TN2 VSV_SEL  WFM_SEL    XM  \n",
              "1     NaN     NaN     NaN     NaN      NaN   NaN  \n",
              "2     NaN     NaN     NaN     NaN      NaN   NaN  \n",
              "3     NaN     NaN     NaN     NaN      NaN   NaN  \n",
              "4     NaN     NaN     NaN     NaN  7679.98  0.15  \n",
              "5       0       0       0       0  4607.86  0.15  \n",
              "\n",
              "[5 rows x 26 columns]"
            ],
            "text/html": [
              "\n",
              "  <div id=\"df-3870b7eb-8ef9-47b7-b124-84df64846ff2\">\n",
              "    <div class=\"colab-df-container\">\n",
              "      <div>\n",
              "<style scoped>\n",
              "    .dataframe tbody tr th:only-of-type {\n",
              "        vertical-align: middle;\n",
              "    }\n",
              "\n",
              "    .dataframe tbody tr th {\n",
              "        vertical-align: top;\n",
              "    }\n",
              "\n",
              "    .dataframe thead th {\n",
              "        text-align: right;\n",
              "    }\n",
              "</style>\n",
              "<table border=\"1\" class=\"dataframe\">\n",
              "  <thead>\n",
              "    <tr style=\"text-align: right;\">\n",
              "      <th></th>\n",
              "      <th>t</th>\n",
              "      <th>EGT_SEL</th>\n",
              "      <th>FLIGHT_MOD</th>\n",
              "      <th>FMV_SEL</th>\n",
              "      <th>HPTC_SEL</th>\n",
              "      <th>LPTC_SEL</th>\n",
              "      <th>N1_SEL</th>\n",
              "      <th>N2_ACTSEL</th>\n",
              "      <th>OIL_P</th>\n",
              "      <th>OIL_TEMP</th>\n",
              "      <th>...</th>\n",
              "      <th>T25_SEL</th>\n",
              "      <th>T3_SEL</th>\n",
              "      <th>VBV_SEL</th>\n",
              "      <th>VIB_CN1</th>\n",
              "      <th>VIB_CN2</th>\n",
              "      <th>VIB_TN1</th>\n",
              "      <th>VIB_TN2</th>\n",
              "      <th>VSV_SEL</th>\n",
              "      <th>WFM_SEL</th>\n",
              "      <th>XM</th>\n",
              "    </tr>\n",
              "  </thead>\n",
              "  <tbody>\n",
              "    <tr>\n",
              "      <th>1</th>\n",
              "      <td>15/09/2011 14:25:58.125</td>\n",
              "      <td>NaN</td>\n",
              "      <td>NaN</td>\n",
              "      <td>NaN</td>\n",
              "      <td>NaN</td>\n",
              "      <td>NaN</td>\n",
              "      <td>NaN</td>\n",
              "      <td>0</td>\n",
              "      <td>NaN</td>\n",
              "      <td>NaN</td>\n",
              "      <td>...</td>\n",
              "      <td>NaN</td>\n",
              "      <td>NaN</td>\n",
              "      <td>NaN</td>\n",
              "      <td>NaN</td>\n",
              "      <td>NaN</td>\n",
              "      <td>NaN</td>\n",
              "      <td>NaN</td>\n",
              "      <td>NaN</td>\n",
              "      <td>NaN</td>\n",
              "      <td>NaN</td>\n",
              "    </tr>\n",
              "    <tr>\n",
              "      <th>2</th>\n",
              "      <td>15/09/2011 14:25:58.375</td>\n",
              "      <td>NaN</td>\n",
              "      <td>NaN</td>\n",
              "      <td>NaN</td>\n",
              "      <td>NaN</td>\n",
              "      <td>NaN</td>\n",
              "      <td>NaN</td>\n",
              "      <td>0</td>\n",
              "      <td>NaN</td>\n",
              "      <td>NaN</td>\n",
              "      <td>...</td>\n",
              "      <td>NaN</td>\n",
              "      <td>NaN</td>\n",
              "      <td>NaN</td>\n",
              "      <td>NaN</td>\n",
              "      <td>NaN</td>\n",
              "      <td>NaN</td>\n",
              "      <td>NaN</td>\n",
              "      <td>NaN</td>\n",
              "      <td>NaN</td>\n",
              "      <td>NaN</td>\n",
              "    </tr>\n",
              "    <tr>\n",
              "      <th>3</th>\n",
              "      <td>15/09/2011 14:25:58.625</td>\n",
              "      <td>NaN</td>\n",
              "      <td>NaN</td>\n",
              "      <td>NaN</td>\n",
              "      <td>NaN</td>\n",
              "      <td>NaN</td>\n",
              "      <td>NaN</td>\n",
              "      <td>0</td>\n",
              "      <td>NaN</td>\n",
              "      <td>NaN</td>\n",
              "      <td>...</td>\n",
              "      <td>NaN</td>\n",
              "      <td>NaN</td>\n",
              "      <td>NaN</td>\n",
              "      <td>NaN</td>\n",
              "      <td>NaN</td>\n",
              "      <td>NaN</td>\n",
              "      <td>NaN</td>\n",
              "      <td>NaN</td>\n",
              "      <td>NaN</td>\n",
              "      <td>NaN</td>\n",
              "    </tr>\n",
              "    <tr>\n",
              "      <th>4</th>\n",
              "      <td>15/09/2011 14:25:58.875</td>\n",
              "      <td>NaN</td>\n",
              "      <td>NaN</td>\n",
              "      <td>NaN</td>\n",
              "      <td>NaN</td>\n",
              "      <td>NaN</td>\n",
              "      <td>NaN</td>\n",
              "      <td>0</td>\n",
              "      <td>NaN</td>\n",
              "      <td>NaN</td>\n",
              "      <td>...</td>\n",
              "      <td>NaN</td>\n",
              "      <td>NaN</td>\n",
              "      <td>NaN</td>\n",
              "      <td>NaN</td>\n",
              "      <td>NaN</td>\n",
              "      <td>NaN</td>\n",
              "      <td>NaN</td>\n",
              "      <td>NaN</td>\n",
              "      <td>7679.98</td>\n",
              "      <td>0.15</td>\n",
              "    </tr>\n",
              "    <tr>\n",
              "      <th>5</th>\n",
              "      <td>15/09/2011 14:25:59.125</td>\n",
              "      <td>NaN</td>\n",
              "      <td>NaN</td>\n",
              "      <td>NaN</td>\n",
              "      <td>NaN</td>\n",
              "      <td>NaN</td>\n",
              "      <td>0</td>\n",
              "      <td>0</td>\n",
              "      <td>647.998</td>\n",
              "      <td>NaN</td>\n",
              "      <td>...</td>\n",
              "      <td>NaN</td>\n",
              "      <td>NaN</td>\n",
              "      <td>0</td>\n",
              "      <td>0</td>\n",
              "      <td>0</td>\n",
              "      <td>0</td>\n",
              "      <td>0</td>\n",
              "      <td>0</td>\n",
              "      <td>4607.86</td>\n",
              "      <td>0.15</td>\n",
              "    </tr>\n",
              "  </tbody>\n",
              "</table>\n",
              "<p>5 rows × 26 columns</p>\n",
              "</div>\n",
              "      <button class=\"colab-df-convert\" onclick=\"convertToInteractive('df-3870b7eb-8ef9-47b7-b124-84df64846ff2')\"\n",
              "              title=\"Convert this dataframe to an interactive table.\"\n",
              "              style=\"display:none;\">\n",
              "        \n",
              "  <svg xmlns=\"http://www.w3.org/2000/svg\" height=\"24px\"viewBox=\"0 0 24 24\"\n",
              "       width=\"24px\">\n",
              "    <path d=\"M0 0h24v24H0V0z\" fill=\"none\"/>\n",
              "    <path d=\"M18.56 5.44l.94 2.06.94-2.06 2.06-.94-2.06-.94-.94-2.06-.94 2.06-2.06.94zm-11 1L8.5 8.5l.94-2.06 2.06-.94-2.06-.94L8.5 2.5l-.94 2.06-2.06.94zm10 10l.94 2.06.94-2.06 2.06-.94-2.06-.94-.94-2.06-.94 2.06-2.06.94z\"/><path d=\"M17.41 7.96l-1.37-1.37c-.4-.4-.92-.59-1.43-.59-.52 0-1.04.2-1.43.59L10.3 9.45l-7.72 7.72c-.78.78-.78 2.05 0 2.83L4 21.41c.39.39.9.59 1.41.59.51 0 1.02-.2 1.41-.59l7.78-7.78 2.81-2.81c.8-.78.8-2.07 0-2.86zM5.41 20L4 18.59l7.72-7.72 1.47 1.35L5.41 20z\"/>\n",
              "  </svg>\n",
              "      </button>\n",
              "      \n",
              "  <style>\n",
              "    .colab-df-container {\n",
              "      display:flex;\n",
              "      flex-wrap:wrap;\n",
              "      gap: 12px;\n",
              "    }\n",
              "\n",
              "    .colab-df-convert {\n",
              "      background-color: #E8F0FE;\n",
              "      border: none;\n",
              "      border-radius: 50%;\n",
              "      cursor: pointer;\n",
              "      display: none;\n",
              "      fill: #1967D2;\n",
              "      height: 32px;\n",
              "      padding: 0 0 0 0;\n",
              "      width: 32px;\n",
              "    }\n",
              "\n",
              "    .colab-df-convert:hover {\n",
              "      background-color: #E2EBFA;\n",
              "      box-shadow: 0px 1px 2px rgba(60, 64, 67, 0.3), 0px 1px 3px 1px rgba(60, 64, 67, 0.15);\n",
              "      fill: #174EA6;\n",
              "    }\n",
              "\n",
              "    [theme=dark] .colab-df-convert {\n",
              "      background-color: #3B4455;\n",
              "      fill: #D2E3FC;\n",
              "    }\n",
              "\n",
              "    [theme=dark] .colab-df-convert:hover {\n",
              "      background-color: #434B5C;\n",
              "      box-shadow: 0px 1px 3px 1px rgba(0, 0, 0, 0.15);\n",
              "      filter: drop-shadow(0px 1px 2px rgba(0, 0, 0, 0.3));\n",
              "      fill: #FFFFFF;\n",
              "    }\n",
              "  </style>\n",
              "\n",
              "      <script>\n",
              "        const buttonEl =\n",
              "          document.querySelector('#df-3870b7eb-8ef9-47b7-b124-84df64846ff2 button.colab-df-convert');\n",
              "        buttonEl.style.display =\n",
              "          google.colab.kernel.accessAllowed ? 'block' : 'none';\n",
              "\n",
              "        async function convertToInteractive(key) {\n",
              "          const element = document.querySelector('#df-3870b7eb-8ef9-47b7-b124-84df64846ff2');\n",
              "          const dataTable =\n",
              "            await google.colab.kernel.invokeFunction('convertToInteractive',\n",
              "                                                     [key], {});\n",
              "          if (!dataTable) return;\n",
              "\n",
              "          const docLinkHtml = 'Like what you see? Visit the ' +\n",
              "            '<a target=\"_blank\" href=https://colab.research.google.com/notebooks/data_table.ipynb>data table notebook</a>'\n",
              "            + ' to learn more about interactive tables.';\n",
              "          element.innerHTML = '';\n",
              "          dataTable['output_type'] = 'display_data';\n",
              "          await google.colab.output.renderOutput(dataTable, element);\n",
              "          const docLink = document.createElement('div');\n",
              "          docLink.innerHTML = docLinkHtml;\n",
              "          element.appendChild(docLink);\n",
              "        }\n",
              "      </script>\n",
              "    </div>\n",
              "  </div>\n",
              "  "
            ]
          },
          "metadata": {},
          "execution_count": 82
        }
      ],
      "source": [
        "\"\"\"\n",
        "EXERCICE - Extraction et suppression des unités\n",
        "On remarque que la 1ère ligne ne contient pas de données mais les unités de chaque colonne.\n",
        "Pour la suite des traitements, il faut supprimer cette ligne. On souhaite toutefois garder l'information des unités de chaque colonne.\n",
        "1. Récupérez les unités et stockez les dans une structure adaptée.\n",
        "2. Supprimez cette ligne du DataFrame en utilisant la méthode \"drop\"\n",
        "\"\"\"\n",
        "unite = df.iloc[0]\n",
        "df = df.drop(0)\n",
        "df.head()"
      ]
    },
    {
      "cell_type": "code",
      "execution_count": null,
      "id": "553b87e6-f67a-4016-9501-c2f045a5ba2a",
      "metadata": {
        "id": "553b87e6-f67a-4016-9501-c2f045a5ba2a",
        "colab": {
          "base_uri": "https://localhost:8080/"
        },
        "outputId": "fbf65df3-f241-4a9d-a61c-ab5375a0600c"
      },
      "outputs": [
        {
          "output_type": "stream",
          "name": "stdout",
          "text": [
            "t             datenum\n",
            "EGT_SEL         deg_C\n",
            "FLIGHT_MOD          _\n",
            "FMV_SEL             _\n",
            "HPTC_SEL            %\n",
            "LPTC_SEL            %\n",
            "N1_SEL              %\n",
            "N2_ACTSEL       %_RPM\n",
            "OIL_P             psi\n",
            "OIL_TEMP            _\n",
            "PS3_SEL           psi\n",
            "PT2_SEL            mb\n",
            "P0_SEL            psi\n",
            "TAT             deg_C\n",
            "TBV_SEL             %\n",
            "TRA_SEL           DEG\n",
            "T25_SEL             _\n",
            "T3_SEL              _\n",
            "VBV_SEL           DEG\n",
            "VIB_CN1             _\n",
            "VIB_CN2             _\n",
            "VIB_TN1             _\n",
            "VIB_TN2             _\n",
            "VSV_SEL           DEG\n",
            "WFM_SEL          lb/h\n",
            "XM               mach\n",
            "Name: 0, dtype: object\n"
          ]
        }
      ],
      "source": [
        "print(unite)\n"
      ]
    },
    {
      "cell_type": "markdown",
      "id": "9c7c08a2-0f12-4440-a3c7-90b810db37bb",
      "metadata": {
        "id": "9c7c08a2-0f12-4440-a3c7-90b810db37bb"
      },
      "source": [
        "On remarque que toutes les colonnes ont été reconnues comme de type object, c'est-à-dire des chaînes de caractères, alors que ce sont des valeurs numériques. Cela est dû à la première ligne contenant les unités. Il faut donc convertir les colonnes en numérique. La colonne 't', quant à elle, doit être convertie en type datetime."
      ]
    },
    {
      "cell_type": "code",
      "execution_count": null,
      "id": "706a5be1-6b26-4380-a13e-7bad5976fcef",
      "metadata": {
        "id": "706a5be1-6b26-4380-a13e-7bad5976fcef"
      },
      "outputs": [],
      "source": [
        "df['t'] = pd.to_datetime(df['t'])\n",
        "df[df.columns[1:]] = df[df.columns[1:]].apply(pd.to_numeric)"
      ]
    },
    {
      "cell_type": "code",
      "execution_count": null,
      "id": "2059e765-a56f-4f6a-992a-f4d98de33b5e",
      "metadata": {
        "id": "2059e765-a56f-4f6a-992a-f4d98de33b5e",
        "colab": {
          "base_uri": "https://localhost:8080/"
        },
        "outputId": "342c65c0-69b9-4c7c-844b-0c30eda6124e"
      },
      "outputs": [
        {
          "output_type": "execute_result",
          "data": {
            "text/plain": [
              "t             datetime64[ns]\n",
              "EGT_SEL              float64\n",
              "FLIGHT_MOD           float64\n",
              "FMV_SEL              float64\n",
              "HPTC_SEL             float64\n",
              "LPTC_SEL             float64\n",
              "N1_SEL               float64\n",
              "N2_ACTSEL            float64\n",
              "OIL_P                float64\n",
              "OIL_TEMP             float64\n",
              "PS3_SEL              float64\n",
              "PT2_SEL              float64\n",
              "P0_SEL               float64\n",
              "TAT                  float64\n",
              "TBV_SEL              float64\n",
              "TRA_SEL              float64\n",
              "T25_SEL              float64\n",
              "T3_SEL               float64\n",
              "VBV_SEL              float64\n",
              "VIB_CN1              float64\n",
              "VIB_CN2              float64\n",
              "VIB_TN1              float64\n",
              "VIB_TN2              float64\n",
              "VSV_SEL              float64\n",
              "WFM_SEL              float64\n",
              "XM                   float64\n",
              "dtype: object"
            ]
          },
          "metadata": {},
          "execution_count": 85
        }
      ],
      "source": [
        "df.dtypes"
      ]
    },
    {
      "cell_type": "code",
      "execution_count": null,
      "id": "bd1beef0-c421-4fca-96b7-139ee5826d98",
      "metadata": {
        "id": "bd1beef0-c421-4fca-96b7-139ee5826d98",
        "colab": {
          "base_uri": "https://localhost:8080/"
        },
        "outputId": "506a3d9e-46e2-461c-ee87-ab3922495231"
      },
      "outputs": [
        {
          "output_type": "stream",
          "name": "stdout",
          "text": [
            "       EGT_SEL  FLIGHT_MOD  FMV_SEL  HPTC_SEL  LPTC_SEL  N1_SEL  N2_ACTSEL  \\\n",
            "1          NaN         NaN      NaN       NaN       NaN     NaN        0.0   \n",
            "2          NaN         NaN      NaN       NaN       NaN     NaN        0.0   \n",
            "3          NaN         NaN      NaN       NaN       NaN     NaN        0.0   \n",
            "4          NaN         NaN      NaN       NaN       NaN     NaN        0.0   \n",
            "5          NaN         NaN      NaN       NaN       NaN     0.0        0.0   \n",
            "...        ...         ...      ...       ...       ...     ...        ...   \n",
            "22940      NaN         NaN      NaN       NaN       NaN     NaN        NaN   \n",
            "22941      NaN         NaN      NaN       NaN       NaN     NaN        NaN   \n",
            "22942      NaN         NaN      NaN       NaN       NaN     NaN        NaN   \n",
            "22943      NaN         NaN      NaN       NaN       NaN     NaN        NaN   \n",
            "22944      NaN         NaN      NaN       NaN       NaN     NaN        NaN   \n",
            "\n",
            "         OIL_P  OIL_TEMP  PS3_SEL  ...  T25_SEL  T3_SEL  VBV_SEL  VIB_CN1  \\\n",
            "1          NaN       NaN      NaN  ...      NaN     NaN      NaN      NaN   \n",
            "2          NaN       NaN      NaN  ...      NaN     NaN      NaN      NaN   \n",
            "3          NaN       NaN      NaN  ...      NaN     NaN      NaN      NaN   \n",
            "4          NaN       NaN      NaN  ...      NaN     NaN      NaN      NaN   \n",
            "5      647.998       NaN  575.982  ...      NaN     NaN      0.0      0.0   \n",
            "...        ...       ...      ...  ...      ...     ...      ...      ...   \n",
            "22940      NaN       NaN      NaN  ...      NaN     NaN      NaN      NaN   \n",
            "22941      NaN       NaN      NaN  ...      NaN     NaN      NaN      NaN   \n",
            "22942      NaN       NaN      NaN  ...      NaN     NaN      NaN      NaN   \n",
            "22943      NaN       NaN      NaN  ...      NaN     NaN      NaN      NaN   \n",
            "22944      NaN       NaN      NaN  ...      NaN     NaN      NaN      NaN   \n",
            "\n",
            "       VIB_CN2  VIB_TN1  VIB_TN2  VSV_SEL  WFM_SEL    XM  \n",
            "1          NaN      NaN      NaN      NaN      NaN   NaN  \n",
            "2          NaN      NaN      NaN      NaN      NaN   NaN  \n",
            "3          NaN      NaN      NaN      NaN      NaN   NaN  \n",
            "4          NaN      NaN      NaN      NaN  7679.98  0.15  \n",
            "5          0.0      0.0      0.0      0.0  4607.86  0.15  \n",
            "...        ...      ...      ...      ...      ...   ...  \n",
            "22940      NaN      NaN      NaN      NaN      NaN   NaN  \n",
            "22941      NaN      NaN      NaN      NaN      NaN   NaN  \n",
            "22942      NaN      NaN      NaN      NaN      NaN   NaN  \n",
            "22943      NaN      NaN      NaN      NaN      NaN   NaN  \n",
            "22944      NaN      NaN      NaN      NaN      NaN   NaN  \n",
            "\n",
            "[22944 rows x 25 columns]\n"
          ]
        }
      ],
      "source": [
        "\"\"\"\n",
        "Exercice - Index temporel\n",
        "Comme nos données sont une série temporelle multivariée, on souhaite utiliser un index temporel.\n",
        "1. Créez une copie de df, appelée df2, à l'aide de la méthode du même nom.\n",
        "2. Affectez la colonne du temps ('t') en tant qu'indice du DataFrame.\n",
        "3. Supprimez la colonne 't' du DF résultant.\n",
        "\"\"\"\n",
        "\n",
        "# Question 1 :\n",
        "df2 = df.copy()\n",
        "# Question 2 :\n",
        "df2.set_index('t')\n",
        "# Question 3 :\n",
        "del df2['t']\n",
        "print(df2)"
      ]
    },
    {
      "cell_type": "markdown",
      "id": "530e705f-fdd8-4e57-8722-1422776e66df",
      "metadata": {
        "id": "530e705f-fdd8-4e57-8722-1422776e66df"
      },
      "source": [
        "On constate que pandas a automatiquement reconnu un DatetimeIndex, adapté pour des manipulations de séries temporelles (moyennes glissantes, etc) !"
      ]
    },
    {
      "cell_type": "markdown",
      "id": "43c8c918-2fde-4d9b-937f-451a5aeaabcc",
      "metadata": {
        "id": "43c8c918-2fde-4d9b-937f-451a5aeaabcc"
      },
      "source": [
        "### Valeurs manquantes\n",
        "\n",
        "**NaN = Not a Number**\n",
        "\n",
        "Les valeurs NaN doivent être éliminées ou imputées (i.e. remplacées par une certaine valeur) avant la suite des traitements. Ce choix dépend du cas d'usage. Dans un premier temps, nous allons apprendre à :\n",
        "\n",
        "* trouver les données manquantes (méthode `isna`)\n",
        "* éliminer les données manquantes d'un DataFrame (méthode `dropna`)\n",
        "* les remplacer par une constante (méthode (`fillna`)"
      ]
    },
    {
      "cell_type": "code",
      "source": [
        "\"\"\"\n",
        "EXERCICE - La méthode isna\n",
        "1. Testez la méthode isna sur le DataFrame df2, puis sur une colonne ou une ligne. Que renvoie-t-elle ?\n",
        "2. En appliquant les méthodes any(axis=...), mean() et max()/idxmax() sur les résultats de isna(), répondez aux questions suivantes :\n",
        "    2.1 Quelles colonnes contiennent des valeurs manquantes, lesquelles n'en contiennent pas ?\n",
        "    2.2 Quel est le pourcentage de valeurs manquantes dans le DF (a) par colonne (b) globalement ? Quelle variable contient le plus de NaN ?\n",
        "    2.3 Quel est le pourcentage d'indices du DF pour lesquels toutes les variables sont présentes ?\n",
        "\"\"\"\n",
        "\n",
        "print('Question 1')\n",
        "df2.isna().head()"
      ],
      "metadata": {
        "colab": {
          "base_uri": "https://localhost:8080/",
          "height": 317
        },
        "id": "qcNu6hMuj-Em",
        "outputId": "8313e495-dd6a-4a59-9169-3b3169cd33cf"
      },
      "id": "qcNu6hMuj-Em",
      "execution_count": null,
      "outputs": [
        {
          "output_type": "stream",
          "name": "stdout",
          "text": [
            "Question 1\n"
          ]
        },
        {
          "output_type": "execute_result",
          "data": {
            "text/plain": [
              "   EGT_SEL  FLIGHT_MOD  FMV_SEL  HPTC_SEL  LPTC_SEL  N1_SEL  N2_ACTSEL  OIL_P  \\\n",
              "1     True        True     True      True      True    True      False   True   \n",
              "2     True        True     True      True      True    True      False   True   \n",
              "3     True        True     True      True      True    True      False   True   \n",
              "4     True        True     True      True      True    True      False   True   \n",
              "5     True        True     True      True      True   False      False  False   \n",
              "\n",
              "   OIL_TEMP  PS3_SEL  ...  T25_SEL  T3_SEL  VBV_SEL  VIB_CN1  VIB_CN2  \\\n",
              "1      True     True  ...     True    True     True     True     True   \n",
              "2      True     True  ...     True    True     True     True     True   \n",
              "3      True     True  ...     True    True     True     True     True   \n",
              "4      True     True  ...     True    True     True     True     True   \n",
              "5      True    False  ...     True    True    False    False    False   \n",
              "\n",
              "   VIB_TN1  VIB_TN2  VSV_SEL  WFM_SEL     XM  \n",
              "1     True     True     True     True   True  \n",
              "2     True     True     True     True   True  \n",
              "3     True     True     True     True   True  \n",
              "4     True     True     True    False  False  \n",
              "5    False    False    False    False  False  \n",
              "\n",
              "[5 rows x 25 columns]"
            ],
            "text/html": [
              "\n",
              "  <div id=\"df-ed1906a5-eb07-421f-922f-d4bf1e878914\">\n",
              "    <div class=\"colab-df-container\">\n",
              "      <div>\n",
              "<style scoped>\n",
              "    .dataframe tbody tr th:only-of-type {\n",
              "        vertical-align: middle;\n",
              "    }\n",
              "\n",
              "    .dataframe tbody tr th {\n",
              "        vertical-align: top;\n",
              "    }\n",
              "\n",
              "    .dataframe thead th {\n",
              "        text-align: right;\n",
              "    }\n",
              "</style>\n",
              "<table border=\"1\" class=\"dataframe\">\n",
              "  <thead>\n",
              "    <tr style=\"text-align: right;\">\n",
              "      <th></th>\n",
              "      <th>EGT_SEL</th>\n",
              "      <th>FLIGHT_MOD</th>\n",
              "      <th>FMV_SEL</th>\n",
              "      <th>HPTC_SEL</th>\n",
              "      <th>LPTC_SEL</th>\n",
              "      <th>N1_SEL</th>\n",
              "      <th>N2_ACTSEL</th>\n",
              "      <th>OIL_P</th>\n",
              "      <th>OIL_TEMP</th>\n",
              "      <th>PS3_SEL</th>\n",
              "      <th>...</th>\n",
              "      <th>T25_SEL</th>\n",
              "      <th>T3_SEL</th>\n",
              "      <th>VBV_SEL</th>\n",
              "      <th>VIB_CN1</th>\n",
              "      <th>VIB_CN2</th>\n",
              "      <th>VIB_TN1</th>\n",
              "      <th>VIB_TN2</th>\n",
              "      <th>VSV_SEL</th>\n",
              "      <th>WFM_SEL</th>\n",
              "      <th>XM</th>\n",
              "    </tr>\n",
              "  </thead>\n",
              "  <tbody>\n",
              "    <tr>\n",
              "      <th>1</th>\n",
              "      <td>True</td>\n",
              "      <td>True</td>\n",
              "      <td>True</td>\n",
              "      <td>True</td>\n",
              "      <td>True</td>\n",
              "      <td>True</td>\n",
              "      <td>False</td>\n",
              "      <td>True</td>\n",
              "      <td>True</td>\n",
              "      <td>True</td>\n",
              "      <td>...</td>\n",
              "      <td>True</td>\n",
              "      <td>True</td>\n",
              "      <td>True</td>\n",
              "      <td>True</td>\n",
              "      <td>True</td>\n",
              "      <td>True</td>\n",
              "      <td>True</td>\n",
              "      <td>True</td>\n",
              "      <td>True</td>\n",
              "      <td>True</td>\n",
              "    </tr>\n",
              "    <tr>\n",
              "      <th>2</th>\n",
              "      <td>True</td>\n",
              "      <td>True</td>\n",
              "      <td>True</td>\n",
              "      <td>True</td>\n",
              "      <td>True</td>\n",
              "      <td>True</td>\n",
              "      <td>False</td>\n",
              "      <td>True</td>\n",
              "      <td>True</td>\n",
              "      <td>True</td>\n",
              "      <td>...</td>\n",
              "      <td>True</td>\n",
              "      <td>True</td>\n",
              "      <td>True</td>\n",
              "      <td>True</td>\n",
              "      <td>True</td>\n",
              "      <td>True</td>\n",
              "      <td>True</td>\n",
              "      <td>True</td>\n",
              "      <td>True</td>\n",
              "      <td>True</td>\n",
              "    </tr>\n",
              "    <tr>\n",
              "      <th>3</th>\n",
              "      <td>True</td>\n",
              "      <td>True</td>\n",
              "      <td>True</td>\n",
              "      <td>True</td>\n",
              "      <td>True</td>\n",
              "      <td>True</td>\n",
              "      <td>False</td>\n",
              "      <td>True</td>\n",
              "      <td>True</td>\n",
              "      <td>True</td>\n",
              "      <td>...</td>\n",
              "      <td>True</td>\n",
              "      <td>True</td>\n",
              "      <td>True</td>\n",
              "      <td>True</td>\n",
              "      <td>True</td>\n",
              "      <td>True</td>\n",
              "      <td>True</td>\n",
              "      <td>True</td>\n",
              "      <td>True</td>\n",
              "      <td>True</td>\n",
              "    </tr>\n",
              "    <tr>\n",
              "      <th>4</th>\n",
              "      <td>True</td>\n",
              "      <td>True</td>\n",
              "      <td>True</td>\n",
              "      <td>True</td>\n",
              "      <td>True</td>\n",
              "      <td>True</td>\n",
              "      <td>False</td>\n",
              "      <td>True</td>\n",
              "      <td>True</td>\n",
              "      <td>True</td>\n",
              "      <td>...</td>\n",
              "      <td>True</td>\n",
              "      <td>True</td>\n",
              "      <td>True</td>\n",
              "      <td>True</td>\n",
              "      <td>True</td>\n",
              "      <td>True</td>\n",
              "      <td>True</td>\n",
              "      <td>True</td>\n",
              "      <td>False</td>\n",
              "      <td>False</td>\n",
              "    </tr>\n",
              "    <tr>\n",
              "      <th>5</th>\n",
              "      <td>True</td>\n",
              "      <td>True</td>\n",
              "      <td>True</td>\n",
              "      <td>True</td>\n",
              "      <td>True</td>\n",
              "      <td>False</td>\n",
              "      <td>False</td>\n",
              "      <td>False</td>\n",
              "      <td>True</td>\n",
              "      <td>False</td>\n",
              "      <td>...</td>\n",
              "      <td>True</td>\n",
              "      <td>True</td>\n",
              "      <td>False</td>\n",
              "      <td>False</td>\n",
              "      <td>False</td>\n",
              "      <td>False</td>\n",
              "      <td>False</td>\n",
              "      <td>False</td>\n",
              "      <td>False</td>\n",
              "      <td>False</td>\n",
              "    </tr>\n",
              "  </tbody>\n",
              "</table>\n",
              "<p>5 rows × 25 columns</p>\n",
              "</div>\n",
              "      <button class=\"colab-df-convert\" onclick=\"convertToInteractive('df-ed1906a5-eb07-421f-922f-d4bf1e878914')\"\n",
              "              title=\"Convert this dataframe to an interactive table.\"\n",
              "              style=\"display:none;\">\n",
              "        \n",
              "  <svg xmlns=\"http://www.w3.org/2000/svg\" height=\"24px\"viewBox=\"0 0 24 24\"\n",
              "       width=\"24px\">\n",
              "    <path d=\"M0 0h24v24H0V0z\" fill=\"none\"/>\n",
              "    <path d=\"M18.56 5.44l.94 2.06.94-2.06 2.06-.94-2.06-.94-.94-2.06-.94 2.06-2.06.94zm-11 1L8.5 8.5l.94-2.06 2.06-.94-2.06-.94L8.5 2.5l-.94 2.06-2.06.94zm10 10l.94 2.06.94-2.06 2.06-.94-2.06-.94-.94-2.06-.94 2.06-2.06.94z\"/><path d=\"M17.41 7.96l-1.37-1.37c-.4-.4-.92-.59-1.43-.59-.52 0-1.04.2-1.43.59L10.3 9.45l-7.72 7.72c-.78.78-.78 2.05 0 2.83L4 21.41c.39.39.9.59 1.41.59.51 0 1.02-.2 1.41-.59l7.78-7.78 2.81-2.81c.8-.78.8-2.07 0-2.86zM5.41 20L4 18.59l7.72-7.72 1.47 1.35L5.41 20z\"/>\n",
              "  </svg>\n",
              "      </button>\n",
              "      \n",
              "  <style>\n",
              "    .colab-df-container {\n",
              "      display:flex;\n",
              "      flex-wrap:wrap;\n",
              "      gap: 12px;\n",
              "    }\n",
              "\n",
              "    .colab-df-convert {\n",
              "      background-color: #E8F0FE;\n",
              "      border: none;\n",
              "      border-radius: 50%;\n",
              "      cursor: pointer;\n",
              "      display: none;\n",
              "      fill: #1967D2;\n",
              "      height: 32px;\n",
              "      padding: 0 0 0 0;\n",
              "      width: 32px;\n",
              "    }\n",
              "\n",
              "    .colab-df-convert:hover {\n",
              "      background-color: #E2EBFA;\n",
              "      box-shadow: 0px 1px 2px rgba(60, 64, 67, 0.3), 0px 1px 3px 1px rgba(60, 64, 67, 0.15);\n",
              "      fill: #174EA6;\n",
              "    }\n",
              "\n",
              "    [theme=dark] .colab-df-convert {\n",
              "      background-color: #3B4455;\n",
              "      fill: #D2E3FC;\n",
              "    }\n",
              "\n",
              "    [theme=dark] .colab-df-convert:hover {\n",
              "      background-color: #434B5C;\n",
              "      box-shadow: 0px 1px 3px 1px rgba(0, 0, 0, 0.15);\n",
              "      filter: drop-shadow(0px 1px 2px rgba(0, 0, 0, 0.3));\n",
              "      fill: #FFFFFF;\n",
              "    }\n",
              "  </style>\n",
              "\n",
              "      <script>\n",
              "        const buttonEl =\n",
              "          document.querySelector('#df-ed1906a5-eb07-421f-922f-d4bf1e878914 button.colab-df-convert');\n",
              "        buttonEl.style.display =\n",
              "          google.colab.kernel.accessAllowed ? 'block' : 'none';\n",
              "\n",
              "        async function convertToInteractive(key) {\n",
              "          const element = document.querySelector('#df-ed1906a5-eb07-421f-922f-d4bf1e878914');\n",
              "          const dataTable =\n",
              "            await google.colab.kernel.invokeFunction('convertToInteractive',\n",
              "                                                     [key], {});\n",
              "          if (!dataTable) return;\n",
              "\n",
              "          const docLinkHtml = 'Like what you see? Visit the ' +\n",
              "            '<a target=\"_blank\" href=https://colab.research.google.com/notebooks/data_table.ipynb>data table notebook</a>'\n",
              "            + ' to learn more about interactive tables.';\n",
              "          element.innerHTML = '';\n",
              "          dataTable['output_type'] = 'display_data';\n",
              "          await google.colab.output.renderOutput(dataTable, element);\n",
              "          const docLink = document.createElement('div');\n",
              "          docLink.innerHTML = docLinkHtml;\n",
              "          element.appendChild(docLink);\n",
              "        }\n",
              "      </script>\n",
              "    </div>\n",
              "  </div>\n",
              "  "
            ]
          },
          "metadata": {},
          "execution_count": 87
        }
      ]
    },
    {
      "cell_type": "code",
      "source": [
        "print(df2['FMV_SEL'].isna())"
      ],
      "metadata": {
        "colab": {
          "base_uri": "https://localhost:8080/"
        },
        "id": "hPK1bE4hc341",
        "outputId": "d83489a2-3775-4021-ac37-d8c0be13e407"
      },
      "id": "hPK1bE4hc341",
      "execution_count": null,
      "outputs": [
        {
          "output_type": "stream",
          "name": "stdout",
          "text": [
            "1        True\n",
            "2        True\n",
            "3        True\n",
            "4        True\n",
            "5        True\n",
            "         ... \n",
            "22940    True\n",
            "22941    True\n",
            "22942    True\n",
            "22943    True\n",
            "22944    True\n",
            "Name: FMV_SEL, Length: 22944, dtype: bool\n"
          ]
        }
      ]
    },
    {
      "cell_type": "code",
      "source": [
        "# la 1ier ligne :\n",
        "print(df2.loc[1].isna())"
      ],
      "metadata": {
        "colab": {
          "base_uri": "https://localhost:8080/"
        },
        "id": "rbtpL0WikPGn",
        "outputId": "90226b92-babb-4763-b396-0285bc7bba27"
      },
      "id": "rbtpL0WikPGn",
      "execution_count": null,
      "outputs": [
        {
          "output_type": "stream",
          "name": "stdout",
          "text": [
            "EGT_SEL        True\n",
            "FLIGHT_MOD     True\n",
            "FMV_SEL        True\n",
            "HPTC_SEL       True\n",
            "LPTC_SEL       True\n",
            "N1_SEL         True\n",
            "N2_ACTSEL     False\n",
            "OIL_P          True\n",
            "OIL_TEMP       True\n",
            "PS3_SEL        True\n",
            "PT2_SEL        True\n",
            "P0_SEL         True\n",
            "TAT            True\n",
            "TBV_SEL        True\n",
            "TRA_SEL        True\n",
            "T25_SEL        True\n",
            "T3_SEL         True\n",
            "VBV_SEL        True\n",
            "VIB_CN1        True\n",
            "VIB_CN2        True\n",
            "VIB_TN1        True\n",
            "VIB_TN2        True\n",
            "VSV_SEL        True\n",
            "WFM_SEL        True\n",
            "XM             True\n",
            "Name: 1, dtype: bool\n"
          ]
        }
      ]
    },
    {
      "cell_type": "code",
      "source": [
        "print('Question 2.1')\n",
        "print(df2.isna().any(axis = 'index'))"
      ],
      "metadata": {
        "colab": {
          "base_uri": "https://localhost:8080/"
        },
        "id": "25YUz5Hqc3yY",
        "outputId": "d8d46dd6-5bc6-4771-dd71-863d2087db80"
      },
      "id": "25YUz5Hqc3yY",
      "execution_count": null,
      "outputs": [
        {
          "output_type": "stream",
          "name": "stdout",
          "text": [
            "Question 2.1\n",
            "EGT_SEL       True\n",
            "FLIGHT_MOD    True\n",
            "FMV_SEL       True\n",
            "HPTC_SEL      True\n",
            "LPTC_SEL      True\n",
            "N1_SEL        True\n",
            "N2_ACTSEL     True\n",
            "OIL_P         True\n",
            "OIL_TEMP      True\n",
            "PS3_SEL       True\n",
            "PT2_SEL       True\n",
            "P0_SEL        True\n",
            "TAT           True\n",
            "TBV_SEL       True\n",
            "TRA_SEL       True\n",
            "T25_SEL       True\n",
            "T3_SEL        True\n",
            "VBV_SEL       True\n",
            "VIB_CN1       True\n",
            "VIB_CN2       True\n",
            "VIB_TN1       True\n",
            "VIB_TN2       True\n",
            "VSV_SEL       True\n",
            "WFM_SEL       True\n",
            "XM            True\n",
            "dtype: bool\n"
          ]
        }
      ]
    },
    {
      "cell_type": "code",
      "source": [
        "print('Question 2.2.a')\n",
        "ptr = df2.isna().mean()*100\n",
        "print(ptr)"
      ],
      "metadata": {
        "colab": {
          "base_uri": "https://localhost:8080/"
        },
        "id": "5yI1ZAj4mum7",
        "outputId": "60eb6ac5-a83f-480a-bb44-7be906ec1f24"
      },
      "id": "5yI1ZAj4mum7",
      "execution_count": null,
      "outputs": [
        {
          "output_type": "stream",
          "name": "stdout",
          "text": [
            "Question 2.2.a\n",
            "EGT_SEL       0.348675\n",
            "FLIGHT_MOD    0.444561\n",
            "FMV_SEL       0.444561\n",
            "HPTC_SEL      0.422768\n",
            "LPTC_SEL      0.457636\n",
            "N1_SEL        0.418410\n",
            "N2_ACTSEL     0.252789\n",
            "OIL_P         0.379184\n",
            "OIL_TEMP      0.383543\n",
            "PS3_SEL       0.300732\n",
            "PT2_SEL       0.370467\n",
            "P0_SEL        0.370467\n",
            "TAT           0.300732\n",
            "TBV_SEL       0.296374\n",
            "TRA_SEL       0.300732\n",
            "T25_SEL       0.470711\n",
            "T3_SEL        0.470711\n",
            "VBV_SEL       0.292015\n",
            "VIB_CN1       0.292015\n",
            "VIB_CN2       0.283298\n",
            "VIB_TN1       0.283298\n",
            "VIB_TN2       0.283298\n",
            "VSV_SEL       0.274582\n",
            "WFM_SEL       0.270223\n",
            "XM            0.261506\n",
            "dtype: float64\n"
          ]
        }
      ]
    },
    {
      "cell_type": "code",
      "source": [
        "print('Question 2.2.b')\n",
        "print(ptr.mean(), '%')"
      ],
      "metadata": {
        "colab": {
          "base_uri": "https://localhost:8080/"
        },
        "id": "5CecZBOwmujp",
        "outputId": "6f2f2b7b-a451-4cf5-b5fd-abc4b70f547c"
      },
      "id": "5CecZBOwmujp",
      "execution_count": null,
      "outputs": [
        {
          "output_type": "stream",
          "name": "stdout",
          "text": [
            "Question 2.2.b\n",
            "0.34693165969316603 %\n"
          ]
        }
      ]
    },
    {
      "cell_type": "code",
      "source": [
        "print('Question 2.2 - Max NaN')\n",
        "df3 = df2.isna().sum()\n",
        "print(df3)\n",
        "print(\" \")\n",
        "print(\"le max est :\")\n",
        "for i in range(len(df3)):\n",
        "  if df3[i] == max(df3) :\n",
        "    print(df3.index[i])\n",
        "print(\"et est atteint en \", max(df3))"
      ],
      "metadata": {
        "colab": {
          "base_uri": "https://localhost:8080/"
        },
        "id": "QtES_GdYc3ip",
        "outputId": "ccd4f8c2-7819-4b44-ca27-d2fdd26d633b"
      },
      "id": "QtES_GdYc3ip",
      "execution_count": null,
      "outputs": [
        {
          "output_type": "stream",
          "name": "stdout",
          "text": [
            "Question 2.2 - Max NaN\n",
            "EGT_SEL        80\n",
            "FLIGHT_MOD    102\n",
            "FMV_SEL       102\n",
            "HPTC_SEL       97\n",
            "LPTC_SEL      105\n",
            "N1_SEL         96\n",
            "N2_ACTSEL      58\n",
            "OIL_P          87\n",
            "OIL_TEMP       88\n",
            "PS3_SEL        69\n",
            "PT2_SEL        85\n",
            "P0_SEL         85\n",
            "TAT            69\n",
            "TBV_SEL        68\n",
            "TRA_SEL        69\n",
            "T25_SEL       108\n",
            "T3_SEL        108\n",
            "VBV_SEL        67\n",
            "VIB_CN1        67\n",
            "VIB_CN2        65\n",
            "VIB_TN1        65\n",
            "VIB_TN2        65\n",
            "VSV_SEL        63\n",
            "WFM_SEL        62\n",
            "XM             60\n",
            "dtype: int64\n",
            " \n",
            "le max est :\n",
            "T25_SEL\n",
            "T3_SEL\n",
            "et est atteint en  108\n"
          ]
        }
      ]
    },
    {
      "cell_type": "code",
      "source": [
        "print('Question 2.3')\n",
        "sum = df2.isna().sum(axis = 1)\n",
        "# print(sum)\n",
        "\n",
        "counter = 0\n",
        "for i in sum.loc[:] :\n",
        "    if(i == 0) :\n",
        "        counter = counter + 1\n",
        "\n",
        "nb_row = df2.shape[0]\n",
        "print((counter/nb_row)*100,\"%\")"
      ],
      "metadata": {
        "colab": {
          "base_uri": "https://localhost:8080/"
        },
        "id": "_GpTCDOqm2rR",
        "outputId": "d96442d5-58c5-4ba0-cc39-391fe3b33563"
      },
      "id": "_GpTCDOqm2rR",
      "execution_count": null,
      "outputs": [
        {
          "output_type": "stream",
          "name": "stdout",
          "text": [
            "Question 2.3\n",
            "99.48134588563458 %\n"
          ]
        }
      ]
    },
    {
      "cell_type": "code",
      "execution_count": null,
      "id": "2b24c3a9-6cbc-4c11-93d3-5d6a5e5b0b3f",
      "metadata": {
        "id": "2b24c3a9-6cbc-4c11-93d3-5d6a5e5b0b3f"
      },
      "outputs": [],
      "source": [
        "\"\"\"\n",
        "EXERCICE - La méthode dropna\n",
        "La méthode dropna permet d'éliminer les valeurs manquantes (NaN). Lisez d'abord sa documentation.\n",
        "1. À quoi correspondent les arguments \"axis\" et \"how\" ?\n",
        "2. Éliminez toutes les lignes contenant uniquement des valeurs manquantes.\n",
        "3. Éliminez toutes les lignes contenant au moins une valeur manquante. Combien y a-t-il de lignes de différence ?\n",
        "4. Éliminez toutes les colonnes contenant au moins une valeur manquante.\n",
        "\"\"\"\n",
        "\n",
        "# Question 1\n",
        "\"\"\"\n",
        "Dans dropna :\n",
        "- dropna supprime soit la ligne si axis = 0 soit les colones si axis = 1\n",
        "\n",
        "       |0 pour désigner les lignes\n",
        "axis = |\n",
        "       |1 pour désigner les colones\n",
        "\n",
        "- how {‘any’, ‘all’}, déterminer si la ligne ou la colonne est supprimée de DataFrame,\n",
        "  -> any : si au moins une valeur est NA.\n",
        "  -> all : si toutes les valeurs sont NA.\n",
        "\n",
        "\"\"\"\n"
      ]
    },
    {
      "cell_type": "code",
      "source": [
        "# Question 2 :\n",
        "print(df2.dropna(how = 'all', axis = 'index'))"
      ],
      "metadata": {
        "colab": {
          "base_uri": "https://localhost:8080/"
        },
        "id": "SupgVTZh1M5Q",
        "outputId": "a2c29d90-49c9-47a5-afe9-276b5c20b192"
      },
      "id": "SupgVTZh1M5Q",
      "execution_count": null,
      "outputs": [
        {
          "output_type": "stream",
          "name": "stdout",
          "text": [
            "       EGT_SEL  FLIGHT_MOD  FMV_SEL  HPTC_SEL  LPTC_SEL  N1_SEL  N2_ACTSEL  \\\n",
            "1          NaN         NaN      NaN       NaN       NaN     NaN        0.0   \n",
            "2          NaN         NaN      NaN       NaN       NaN     NaN        0.0   \n",
            "3          NaN         NaN      NaN       NaN       NaN     NaN        0.0   \n",
            "4          NaN         NaN      NaN       NaN       NaN     NaN        0.0   \n",
            "5          NaN         NaN      NaN       NaN       NaN     0.0        0.0   \n",
            "...        ...         ...      ...       ...       ...     ...        ...   \n",
            "22903      NaN         NaN      NaN       NaN       NaN     NaN        0.0   \n",
            "22904      NaN         NaN      NaN       NaN       NaN     NaN        0.0   \n",
            "22905      NaN         NaN      NaN       NaN       NaN     NaN        NaN   \n",
            "22906      NaN         NaN      NaN       NaN       NaN     NaN        NaN   \n",
            "22907      NaN         NaN      NaN       NaN       NaN     NaN        NaN   \n",
            "\n",
            "         OIL_P  OIL_TEMP  PS3_SEL  ...  T25_SEL  T3_SEL  VBV_SEL  VIB_CN1  \\\n",
            "1          NaN       NaN      NaN  ...      NaN     NaN      NaN      NaN   \n",
            "2          NaN       NaN      NaN  ...      NaN     NaN      NaN      NaN   \n",
            "3          NaN       NaN      NaN  ...      NaN     NaN      NaN      NaN   \n",
            "4          NaN       NaN      NaN  ...      NaN     NaN      NaN      NaN   \n",
            "5      647.998       NaN  575.982  ...      NaN     NaN      0.0      0.0   \n",
            "...        ...       ...      ...  ...      ...     ...      ...      ...   \n",
            "22903      NaN       NaN      NaN  ...      NaN     NaN      0.0      0.0   \n",
            "22904      NaN       NaN      NaN  ...      NaN     NaN      0.0      0.0   \n",
            "22905      NaN       NaN      NaN  ...      NaN     NaN      NaN      NaN   \n",
            "22906      NaN       NaN      NaN  ...      NaN     NaN      NaN      NaN   \n",
            "22907      NaN       NaN      NaN  ...      NaN     NaN      NaN      NaN   \n",
            "\n",
            "       VIB_CN2  VIB_TN1  VIB_TN2  VSV_SEL      WFM_SEL    XM  \n",
            "1          NaN      NaN      NaN      NaN          NaN   NaN  \n",
            "2          NaN      NaN      NaN      NaN          NaN   NaN  \n",
            "3          NaN      NaN      NaN      NaN          NaN   NaN  \n",
            "4          NaN      NaN      NaN      NaN  7679.980000  0.15  \n",
            "5          0.0      0.0      0.0      0.0  4607.860000  0.15  \n",
            "...        ...      ...      ...      ...          ...   ...  \n",
            "22903      0.0      0.0      0.0      0.0     0.008331  0.15  \n",
            "22904      0.0      0.0      0.0      0.0     0.000000  0.15  \n",
            "22905      0.0      0.0      0.0      0.0     0.000000  0.15  \n",
            "22906      0.0      0.0      0.0      0.0     0.000000  0.15  \n",
            "22907      NaN      NaN      NaN      0.0          NaN  0.15  \n",
            "\n",
            "[22889 rows x 25 columns]\n"
          ]
        }
      ]
    },
    {
      "cell_type": "code",
      "source": [
        "# Question 3 :\n",
        "print(df2.dropna(how = 'any', axis = 'index'))"
      ],
      "metadata": {
        "colab": {
          "base_uri": "https://localhost:8080/"
        },
        "id": "R5kvj5wc1WHw",
        "outputId": "451c790a-241a-4068-a23d-7fecc3fe4e33"
      },
      "id": "R5kvj5wc1WHw",
      "execution_count": null,
      "outputs": [
        {
          "output_type": "stream",
          "name": "stdout",
          "text": [
            "        EGT_SEL  FLIGHT_MOD  FMV_SEL  HPTC_SEL  LPTC_SEL  N1_SEL  N2_ACTSEL  \\\n",
            "20     335.9840         1.0    0.000       0.0       0.0     0.0        0.0   \n",
            "21     239.9860         1.0    0.000       0.0       0.0     0.0        0.0   \n",
            "22     167.9910         1.0    0.000       0.0       0.0     0.0        0.0   \n",
            "23     119.9940         1.0    0.000       0.0       0.0     0.0        0.0   \n",
            "24      72.0011         1.0    0.000       0.0       0.0     0.0        0.0   \n",
            "...         ...         ...      ...       ...       ...     ...        ...   \n",
            "22888  230.8250         1.0  -12.375       0.0       0.0     0.0        0.0   \n",
            "22889  137.4770         1.0  -12.375       0.0       0.0     0.0        0.0   \n",
            "22890  113.4530         1.0  -12.375       0.0       0.0     0.0        0.0   \n",
            "22891  158.8080         1.0  -12.375       0.0       0.0     0.0        0.0   \n",
            "22892  204.1800         1.0  -12.375       0.0       0.0     0.0        0.0   \n",
            "\n",
            "       OIL_P  OIL_TEMP    PS3_SEL  ...  T25_SEL  T3_SEL  VBV_SEL  VIB_CN1  \\\n",
            "20       0.0  177.3740  959.98000  ...   -128.0     0.0      0.0      0.0   \n",
            "21       0.0  133.6240  575.98200  ...   -128.0     0.0      0.0      0.0   \n",
            "22       0.0   89.8743  191.98400  ...   -128.0     0.0      0.0      0.0   \n",
            "23       0.0   68.0000    0.00000  ...   -128.0     0.0      0.0      0.0   \n",
            "24       0.0   68.0000    0.00000  ...   -128.0     0.0      0.0      0.0   \n",
            "...      ...       ...        ...  ...      ...     ...      ...      ...   \n",
            "22888    0.0   69.0000    7.50011  ...     34.5   178.0      0.0      0.0   \n",
            "22889    0.0   69.0000    4.50085  ...     34.5   178.0      0.0      0.0   \n",
            "22890    0.0   69.0000    1.50063  ...     34.5   178.0      0.0      0.0   \n",
            "22891    0.0   69.0000    1.50005  ...     34.5   178.0      0.0      0.0   \n",
            "22892    0.0   69.0000    4.49975  ...     34.5   178.0      0.0      0.0   \n",
            "\n",
            "       VIB_CN2  VIB_TN1  VIB_TN2  VSV_SEL  WFM_SEL    XM  \n",
            "20         0.0      0.0      0.0      0.0  7679.84  0.15  \n",
            "21         0.0      0.0      0.0      0.0  4607.86  0.15  \n",
            "22         0.0      0.0      0.0      0.0  1535.87  0.15  \n",
            "23         0.0      0.0      0.0      0.0     0.00  0.15  \n",
            "24         0.0      0.0      0.0      0.0     0.00  0.15  \n",
            "...        ...      ...      ...      ...      ...   ...  \n",
            "22888      0.0      0.0      0.0      0.0     0.00  0.15  \n",
            "22889      0.0      0.0      0.0      0.0     0.00  0.15  \n",
            "22890      0.0      0.0      0.0      0.0     0.00  0.15  \n",
            "22891      0.0      0.0      0.0      0.0     0.00  0.15  \n",
            "22892      0.0      0.0      0.0      0.0     0.00  0.15  \n",
            "\n",
            "[22825 rows x 25 columns]\n"
          ]
        }
      ]
    },
    {
      "cell_type": "code",
      "source": [
        "nb_all = df2.dropna(how = 'all', axis = 'index').shape[0]\n",
        "nb_any = df2.dropna(how = 'any', axis = 'index').shape[0]\n",
        "nb_dif = nb_all - nb_any\n",
        "print('Le nombre de lignes de différence est:', nb_dif)"
      ],
      "metadata": {
        "colab": {
          "base_uri": "https://localhost:8080/"
        },
        "id": "5RdDGd1E2AqX",
        "outputId": "3bbd646c-e2c4-48d9-ecb9-a5a57f80b389"
      },
      "id": "5RdDGd1E2AqX",
      "execution_count": null,
      "outputs": [
        {
          "output_type": "stream",
          "name": "stdout",
          "text": [
            "Le nombre de lignes de différence est: 64\n"
          ]
        }
      ]
    },
    {
      "cell_type": "code",
      "source": [
        "# Question 4 :\n",
        "print(df2.dropna(how = 'any', axis = 'columns'))\n",
        "\n",
        "\" On voit donc qu'il ne reste plus aucune colonne \""
      ],
      "metadata": {
        "colab": {
          "base_uri": "https://localhost:8080/"
        },
        "id": "VdKkvX-d1Mps",
        "outputId": "2c9c19a9-3264-4918-ec0c-629299a54c9c"
      },
      "id": "VdKkvX-d1Mps",
      "execution_count": null,
      "outputs": [
        {
          "output_type": "stream",
          "name": "stdout",
          "text": [
            "Empty DataFrame\n",
            "Columns: []\n",
            "Index: [1, 2, 3, 4, 5, 6, 7, 8, 9, 10, 11, 12, 13, 14, 15, 16, 17, 18, 19, 20, 21, 22, 23, 24, 25, 26, 27, 28, 29, 30, 31, 32, 33, 34, 35, 36, 37, 38, 39, 40, 41, 42, 43, 44, 45, 46, 47, 48, 49, 50, 51, 52, 53, 54, 55, 56, 57, 58, 59, 60, 61, 62, 63, 64, 65, 66, 67, 68, 69, 70, 71, 72, 73, 74, 75, 76, 77, 78, 79, 80, 81, 82, 83, 84, 85, 86, 87, 88, 89, 90, 91, 92, 93, 94, 95, 96, 97, 98, 99, 100, ...]\n",
            "\n",
            "[22944 rows x 0 columns]\n"
          ]
        }
      ]
    },
    {
      "cell_type": "code",
      "execution_count": null,
      "id": "27ad1ce1-8659-4f37-b370-91da31eb2580",
      "metadata": {
        "id": "27ad1ce1-8659-4f37-b370-91da31eb2580",
        "colab": {
          "base_uri": "https://localhost:8080/",
          "height": 229
        },
        "outputId": "1cb8d2da-5c7a-4aab-c916-e79eafda71cb"
      },
      "outputs": [
        {
          "output_type": "stream",
          "name": "stderr",
          "text": [
            "/usr/local/lib/python3.7/dist-packages/ipykernel_launcher.py:15: FutureWarning: The pandas.np module is deprecated and will be removed from pandas in a future version. Import numpy directly instead\n",
            "  from ipykernel import kernelapp as app\n"
          ]
        },
        {
          "output_type": "execute_result",
          "data": {
            "text/plain": [
              "       nom   age\n",
              "0    Alice  24.0\n",
              "1      Bob   NaN\n",
              "2  Charlie  99.0\n",
              "3    David  24.0"
            ],
            "text/html": [
              "\n",
              "  <div id=\"df-ad8890c8-af7d-4a67-aa09-b1ba6514efcf\">\n",
              "    <div class=\"colab-df-container\">\n",
              "      <div>\n",
              "<style scoped>\n",
              "    .dataframe tbody tr th:only-of-type {\n",
              "        vertical-align: middle;\n",
              "    }\n",
              "\n",
              "    .dataframe tbody tr th {\n",
              "        vertical-align: top;\n",
              "    }\n",
              "\n",
              "    .dataframe thead th {\n",
              "        text-align: right;\n",
              "    }\n",
              "</style>\n",
              "<table border=\"1\" class=\"dataframe\">\n",
              "  <thead>\n",
              "    <tr style=\"text-align: right;\">\n",
              "      <th></th>\n",
              "      <th>nom</th>\n",
              "      <th>age</th>\n",
              "    </tr>\n",
              "  </thead>\n",
              "  <tbody>\n",
              "    <tr>\n",
              "      <th>0</th>\n",
              "      <td>Alice</td>\n",
              "      <td>24.0</td>\n",
              "    </tr>\n",
              "    <tr>\n",
              "      <th>1</th>\n",
              "      <td>Bob</td>\n",
              "      <td>NaN</td>\n",
              "    </tr>\n",
              "    <tr>\n",
              "      <th>2</th>\n",
              "      <td>Charlie</td>\n",
              "      <td>99.0</td>\n",
              "    </tr>\n",
              "    <tr>\n",
              "      <th>3</th>\n",
              "      <td>David</td>\n",
              "      <td>24.0</td>\n",
              "    </tr>\n",
              "  </tbody>\n",
              "</table>\n",
              "</div>\n",
              "      <button class=\"colab-df-convert\" onclick=\"convertToInteractive('df-ad8890c8-af7d-4a67-aa09-b1ba6514efcf')\"\n",
              "              title=\"Convert this dataframe to an interactive table.\"\n",
              "              style=\"display:none;\">\n",
              "        \n",
              "  <svg xmlns=\"http://www.w3.org/2000/svg\" height=\"24px\"viewBox=\"0 0 24 24\"\n",
              "       width=\"24px\">\n",
              "    <path d=\"M0 0h24v24H0V0z\" fill=\"none\"/>\n",
              "    <path d=\"M18.56 5.44l.94 2.06.94-2.06 2.06-.94-2.06-.94-.94-2.06-.94 2.06-2.06.94zm-11 1L8.5 8.5l.94-2.06 2.06-.94-2.06-.94L8.5 2.5l-.94 2.06-2.06.94zm10 10l.94 2.06.94-2.06 2.06-.94-2.06-.94-.94-2.06-.94 2.06-2.06.94z\"/><path d=\"M17.41 7.96l-1.37-1.37c-.4-.4-.92-.59-1.43-.59-.52 0-1.04.2-1.43.59L10.3 9.45l-7.72 7.72c-.78.78-.78 2.05 0 2.83L4 21.41c.39.39.9.59 1.41.59.51 0 1.02-.2 1.41-.59l7.78-7.78 2.81-2.81c.8-.78.8-2.07 0-2.86zM5.41 20L4 18.59l7.72-7.72 1.47 1.35L5.41 20z\"/>\n",
              "  </svg>\n",
              "      </button>\n",
              "      \n",
              "  <style>\n",
              "    .colab-df-container {\n",
              "      display:flex;\n",
              "      flex-wrap:wrap;\n",
              "      gap: 12px;\n",
              "    }\n",
              "\n",
              "    .colab-df-convert {\n",
              "      background-color: #E8F0FE;\n",
              "      border: none;\n",
              "      border-radius: 50%;\n",
              "      cursor: pointer;\n",
              "      display: none;\n",
              "      fill: #1967D2;\n",
              "      height: 32px;\n",
              "      padding: 0 0 0 0;\n",
              "      width: 32px;\n",
              "    }\n",
              "\n",
              "    .colab-df-convert:hover {\n",
              "      background-color: #E2EBFA;\n",
              "      box-shadow: 0px 1px 2px rgba(60, 64, 67, 0.3), 0px 1px 3px 1px rgba(60, 64, 67, 0.15);\n",
              "      fill: #174EA6;\n",
              "    }\n",
              "\n",
              "    [theme=dark] .colab-df-convert {\n",
              "      background-color: #3B4455;\n",
              "      fill: #D2E3FC;\n",
              "    }\n",
              "\n",
              "    [theme=dark] .colab-df-convert:hover {\n",
              "      background-color: #434B5C;\n",
              "      box-shadow: 0px 1px 3px 1px rgba(0, 0, 0, 0.15);\n",
              "      filter: drop-shadow(0px 1px 2px rgba(0, 0, 0, 0.3));\n",
              "      fill: #FFFFFF;\n",
              "    }\n",
              "  </style>\n",
              "\n",
              "      <script>\n",
              "        const buttonEl =\n",
              "          document.querySelector('#df-ad8890c8-af7d-4a67-aa09-b1ba6514efcf button.colab-df-convert');\n",
              "        buttonEl.style.display =\n",
              "          google.colab.kernel.accessAllowed ? 'block' : 'none';\n",
              "\n",
              "        async function convertToInteractive(key) {\n",
              "          const element = document.querySelector('#df-ad8890c8-af7d-4a67-aa09-b1ba6514efcf');\n",
              "          const dataTable =\n",
              "            await google.colab.kernel.invokeFunction('convertToInteractive',\n",
              "                                                     [key], {});\n",
              "          if (!dataTable) return;\n",
              "\n",
              "          const docLinkHtml = 'Like what you see? Visit the ' +\n",
              "            '<a target=\"_blank\" href=https://colab.research.google.com/notebooks/data_table.ipynb>data table notebook</a>'\n",
              "            + ' to learn more about interactive tables.';\n",
              "          element.innerHTML = '';\n",
              "          dataTable['output_type'] = 'display_data';\n",
              "          await google.colab.output.renderOutput(dataTable, element);\n",
              "          const docLink = document.createElement('div');\n",
              "          docLink.innerHTML = docLinkHtml;\n",
              "          element.appendChild(docLink);\n",
              "        }\n",
              "      </script>\n",
              "    </div>\n",
              "  </div>\n",
              "  "
            ]
          },
          "metadata": {},
          "execution_count": 119
        }
      ],
      "source": [
        "\"\"\"\n",
        "EXERCICE - La méthode fillna\n",
        "La méthode dropna permet d'imputer les valeurs manquantes (NaN). Lisez d'abord sa documentation.\n",
        "1. Quelles sont les différentes stratégies de remplissage des valeurs manquantes ?\n",
        "  -> dropna() gère et supprime les valeurs Null d’un bloc de données,\n",
        "  -> fillna() gère et laisse l’utilisateur remplacer les valeurs NaN par une valeur qui lui est propre.\n",
        "  \n",
        "2. Imputez les valeurs manquantes de la colonne age du DF donné en exemple par :\n",
        "    - 0\n",
        "    - la dernière valeur précédente/suivante valide\n",
        "    - la moyenne\n",
        "    - la valeur la plus courante (mode)\n",
        "3. Quel est le meilleur choix dans ce cas ? Et pour le cas d'une variable temporelle, par exemple la température 'EGT_SEL' de notre jeu de données ?\n",
        "\"\"\"\n",
        "exemple = pd.DataFrame({'nom': ['Alice', 'Bob', 'Charlie', 'David'], 'age': [24, pd.np.nan, 99, 24]})\n",
        "exemple"
      ]
    },
    {
      "cell_type": "code",
      "source": [
        "# Question 2.1 :\n",
        "exemple.fillna(0)"
      ],
      "metadata": {
        "colab": {
          "base_uri": "https://localhost:8080/",
          "height": 175
        },
        "id": "XSdG1cYq3Pib",
        "outputId": "63aed1f1-b898-4fa3-8d0d-a840f1ba3ea8"
      },
      "id": "XSdG1cYq3Pib",
      "execution_count": null,
      "outputs": [
        {
          "output_type": "execute_result",
          "data": {
            "text/plain": [
              "       nom   age\n",
              "0    Alice  24.0\n",
              "1      Bob   0.0\n",
              "2  Charlie  99.0\n",
              "3    David  24.0"
            ],
            "text/html": [
              "\n",
              "  <div id=\"df-3143bdb5-9dab-4395-97c2-905de8c26269\">\n",
              "    <div class=\"colab-df-container\">\n",
              "      <div>\n",
              "<style scoped>\n",
              "    .dataframe tbody tr th:only-of-type {\n",
              "        vertical-align: middle;\n",
              "    }\n",
              "\n",
              "    .dataframe tbody tr th {\n",
              "        vertical-align: top;\n",
              "    }\n",
              "\n",
              "    .dataframe thead th {\n",
              "        text-align: right;\n",
              "    }\n",
              "</style>\n",
              "<table border=\"1\" class=\"dataframe\">\n",
              "  <thead>\n",
              "    <tr style=\"text-align: right;\">\n",
              "      <th></th>\n",
              "      <th>nom</th>\n",
              "      <th>age</th>\n",
              "    </tr>\n",
              "  </thead>\n",
              "  <tbody>\n",
              "    <tr>\n",
              "      <th>0</th>\n",
              "      <td>Alice</td>\n",
              "      <td>24.0</td>\n",
              "    </tr>\n",
              "    <tr>\n",
              "      <th>1</th>\n",
              "      <td>Bob</td>\n",
              "      <td>0.0</td>\n",
              "    </tr>\n",
              "    <tr>\n",
              "      <th>2</th>\n",
              "      <td>Charlie</td>\n",
              "      <td>99.0</td>\n",
              "    </tr>\n",
              "    <tr>\n",
              "      <th>3</th>\n",
              "      <td>David</td>\n",
              "      <td>24.0</td>\n",
              "    </tr>\n",
              "  </tbody>\n",
              "</table>\n",
              "</div>\n",
              "      <button class=\"colab-df-convert\" onclick=\"convertToInteractive('df-3143bdb5-9dab-4395-97c2-905de8c26269')\"\n",
              "              title=\"Convert this dataframe to an interactive table.\"\n",
              "              style=\"display:none;\">\n",
              "        \n",
              "  <svg xmlns=\"http://www.w3.org/2000/svg\" height=\"24px\"viewBox=\"0 0 24 24\"\n",
              "       width=\"24px\">\n",
              "    <path d=\"M0 0h24v24H0V0z\" fill=\"none\"/>\n",
              "    <path d=\"M18.56 5.44l.94 2.06.94-2.06 2.06-.94-2.06-.94-.94-2.06-.94 2.06-2.06.94zm-11 1L8.5 8.5l.94-2.06 2.06-.94-2.06-.94L8.5 2.5l-.94 2.06-2.06.94zm10 10l.94 2.06.94-2.06 2.06-.94-2.06-.94-.94-2.06-.94 2.06-2.06.94z\"/><path d=\"M17.41 7.96l-1.37-1.37c-.4-.4-.92-.59-1.43-.59-.52 0-1.04.2-1.43.59L10.3 9.45l-7.72 7.72c-.78.78-.78 2.05 0 2.83L4 21.41c.39.39.9.59 1.41.59.51 0 1.02-.2 1.41-.59l7.78-7.78 2.81-2.81c.8-.78.8-2.07 0-2.86zM5.41 20L4 18.59l7.72-7.72 1.47 1.35L5.41 20z\"/>\n",
              "  </svg>\n",
              "      </button>\n",
              "      \n",
              "  <style>\n",
              "    .colab-df-container {\n",
              "      display:flex;\n",
              "      flex-wrap:wrap;\n",
              "      gap: 12px;\n",
              "    }\n",
              "\n",
              "    .colab-df-convert {\n",
              "      background-color: #E8F0FE;\n",
              "      border: none;\n",
              "      border-radius: 50%;\n",
              "      cursor: pointer;\n",
              "      display: none;\n",
              "      fill: #1967D2;\n",
              "      height: 32px;\n",
              "      padding: 0 0 0 0;\n",
              "      width: 32px;\n",
              "    }\n",
              "\n",
              "    .colab-df-convert:hover {\n",
              "      background-color: #E2EBFA;\n",
              "      box-shadow: 0px 1px 2px rgba(60, 64, 67, 0.3), 0px 1px 3px 1px rgba(60, 64, 67, 0.15);\n",
              "      fill: #174EA6;\n",
              "    }\n",
              "\n",
              "    [theme=dark] .colab-df-convert {\n",
              "      background-color: #3B4455;\n",
              "      fill: #D2E3FC;\n",
              "    }\n",
              "\n",
              "    [theme=dark] .colab-df-convert:hover {\n",
              "      background-color: #434B5C;\n",
              "      box-shadow: 0px 1px 3px 1px rgba(0, 0, 0, 0.15);\n",
              "      filter: drop-shadow(0px 1px 2px rgba(0, 0, 0, 0.3));\n",
              "      fill: #FFFFFF;\n",
              "    }\n",
              "  </style>\n",
              "\n",
              "      <script>\n",
              "        const buttonEl =\n",
              "          document.querySelector('#df-3143bdb5-9dab-4395-97c2-905de8c26269 button.colab-df-convert');\n",
              "        buttonEl.style.display =\n",
              "          google.colab.kernel.accessAllowed ? 'block' : 'none';\n",
              "\n",
              "        async function convertToInteractive(key) {\n",
              "          const element = document.querySelector('#df-3143bdb5-9dab-4395-97c2-905de8c26269');\n",
              "          const dataTable =\n",
              "            await google.colab.kernel.invokeFunction('convertToInteractive',\n",
              "                                                     [key], {});\n",
              "          if (!dataTable) return;\n",
              "\n",
              "          const docLinkHtml = 'Like what you see? Visit the ' +\n",
              "            '<a target=\"_blank\" href=https://colab.research.google.com/notebooks/data_table.ipynb>data table notebook</a>'\n",
              "            + ' to learn more about interactive tables.';\n",
              "          element.innerHTML = '';\n",
              "          dataTable['output_type'] = 'display_data';\n",
              "          await google.colab.output.renderOutput(dataTable, element);\n",
              "          const docLink = document.createElement('div');\n",
              "          docLink.innerHTML = docLinkHtml;\n",
              "          element.appendChild(docLink);\n",
              "        }\n",
              "      </script>\n",
              "    </div>\n",
              "  </div>\n",
              "  "
            ]
          },
          "metadata": {},
          "execution_count": 120
        }
      ]
    },
    {
      "cell_type": "code",
      "source": [
        "# Question 2.2 :\n",
        "exemple.fillna(method = \"ffill\")"
      ],
      "metadata": {
        "colab": {
          "base_uri": "https://localhost:8080/",
          "height": 175
        },
        "id": "Ug3KsLDk3Pfj",
        "outputId": "53be3b7d-7515-4644-bb2f-42366c3eb0ad"
      },
      "id": "Ug3KsLDk3Pfj",
      "execution_count": null,
      "outputs": [
        {
          "output_type": "execute_result",
          "data": {
            "text/plain": [
              "       nom   age\n",
              "0    Alice  24.0\n",
              "1      Bob  24.0\n",
              "2  Charlie  99.0\n",
              "3    David  24.0"
            ],
            "text/html": [
              "\n",
              "  <div id=\"df-75fb0caf-6659-465a-893c-42a8168660da\">\n",
              "    <div class=\"colab-df-container\">\n",
              "      <div>\n",
              "<style scoped>\n",
              "    .dataframe tbody tr th:only-of-type {\n",
              "        vertical-align: middle;\n",
              "    }\n",
              "\n",
              "    .dataframe tbody tr th {\n",
              "        vertical-align: top;\n",
              "    }\n",
              "\n",
              "    .dataframe thead th {\n",
              "        text-align: right;\n",
              "    }\n",
              "</style>\n",
              "<table border=\"1\" class=\"dataframe\">\n",
              "  <thead>\n",
              "    <tr style=\"text-align: right;\">\n",
              "      <th></th>\n",
              "      <th>nom</th>\n",
              "      <th>age</th>\n",
              "    </tr>\n",
              "  </thead>\n",
              "  <tbody>\n",
              "    <tr>\n",
              "      <th>0</th>\n",
              "      <td>Alice</td>\n",
              "      <td>24.0</td>\n",
              "    </tr>\n",
              "    <tr>\n",
              "      <th>1</th>\n",
              "      <td>Bob</td>\n",
              "      <td>24.0</td>\n",
              "    </tr>\n",
              "    <tr>\n",
              "      <th>2</th>\n",
              "      <td>Charlie</td>\n",
              "      <td>99.0</td>\n",
              "    </tr>\n",
              "    <tr>\n",
              "      <th>3</th>\n",
              "      <td>David</td>\n",
              "      <td>24.0</td>\n",
              "    </tr>\n",
              "  </tbody>\n",
              "</table>\n",
              "</div>\n",
              "      <button class=\"colab-df-convert\" onclick=\"convertToInteractive('df-75fb0caf-6659-465a-893c-42a8168660da')\"\n",
              "              title=\"Convert this dataframe to an interactive table.\"\n",
              "              style=\"display:none;\">\n",
              "        \n",
              "  <svg xmlns=\"http://www.w3.org/2000/svg\" height=\"24px\"viewBox=\"0 0 24 24\"\n",
              "       width=\"24px\">\n",
              "    <path d=\"M0 0h24v24H0V0z\" fill=\"none\"/>\n",
              "    <path d=\"M18.56 5.44l.94 2.06.94-2.06 2.06-.94-2.06-.94-.94-2.06-.94 2.06-2.06.94zm-11 1L8.5 8.5l.94-2.06 2.06-.94-2.06-.94L8.5 2.5l-.94 2.06-2.06.94zm10 10l.94 2.06.94-2.06 2.06-.94-2.06-.94-.94-2.06-.94 2.06-2.06.94z\"/><path d=\"M17.41 7.96l-1.37-1.37c-.4-.4-.92-.59-1.43-.59-.52 0-1.04.2-1.43.59L10.3 9.45l-7.72 7.72c-.78.78-.78 2.05 0 2.83L4 21.41c.39.39.9.59 1.41.59.51 0 1.02-.2 1.41-.59l7.78-7.78 2.81-2.81c.8-.78.8-2.07 0-2.86zM5.41 20L4 18.59l7.72-7.72 1.47 1.35L5.41 20z\"/>\n",
              "  </svg>\n",
              "      </button>\n",
              "      \n",
              "  <style>\n",
              "    .colab-df-container {\n",
              "      display:flex;\n",
              "      flex-wrap:wrap;\n",
              "      gap: 12px;\n",
              "    }\n",
              "\n",
              "    .colab-df-convert {\n",
              "      background-color: #E8F0FE;\n",
              "      border: none;\n",
              "      border-radius: 50%;\n",
              "      cursor: pointer;\n",
              "      display: none;\n",
              "      fill: #1967D2;\n",
              "      height: 32px;\n",
              "      padding: 0 0 0 0;\n",
              "      width: 32px;\n",
              "    }\n",
              "\n",
              "    .colab-df-convert:hover {\n",
              "      background-color: #E2EBFA;\n",
              "      box-shadow: 0px 1px 2px rgba(60, 64, 67, 0.3), 0px 1px 3px 1px rgba(60, 64, 67, 0.15);\n",
              "      fill: #174EA6;\n",
              "    }\n",
              "\n",
              "    [theme=dark] .colab-df-convert {\n",
              "      background-color: #3B4455;\n",
              "      fill: #D2E3FC;\n",
              "    }\n",
              "\n",
              "    [theme=dark] .colab-df-convert:hover {\n",
              "      background-color: #434B5C;\n",
              "      box-shadow: 0px 1px 3px 1px rgba(0, 0, 0, 0.15);\n",
              "      filter: drop-shadow(0px 1px 2px rgba(0, 0, 0, 0.3));\n",
              "      fill: #FFFFFF;\n",
              "    }\n",
              "  </style>\n",
              "\n",
              "      <script>\n",
              "        const buttonEl =\n",
              "          document.querySelector('#df-75fb0caf-6659-465a-893c-42a8168660da button.colab-df-convert');\n",
              "        buttonEl.style.display =\n",
              "          google.colab.kernel.accessAllowed ? 'block' : 'none';\n",
              "\n",
              "        async function convertToInteractive(key) {\n",
              "          const element = document.querySelector('#df-75fb0caf-6659-465a-893c-42a8168660da');\n",
              "          const dataTable =\n",
              "            await google.colab.kernel.invokeFunction('convertToInteractive',\n",
              "                                                     [key], {});\n",
              "          if (!dataTable) return;\n",
              "\n",
              "          const docLinkHtml = 'Like what you see? Visit the ' +\n",
              "            '<a target=\"_blank\" href=https://colab.research.google.com/notebooks/data_table.ipynb>data table notebook</a>'\n",
              "            + ' to learn more about interactive tables.';\n",
              "          element.innerHTML = '';\n",
              "          dataTable['output_type'] = 'display_data';\n",
              "          await google.colab.output.renderOutput(dataTable, element);\n",
              "          const docLink = document.createElement('div');\n",
              "          docLink.innerHTML = docLinkHtml;\n",
              "          element.appendChild(docLink);\n",
              "        }\n",
              "      </script>\n",
              "    </div>\n",
              "  </div>\n",
              "  "
            ]
          },
          "metadata": {},
          "execution_count": 121
        }
      ]
    },
    {
      "cell_type": "code",
      "source": [
        "# Question 2.3 :\n",
        "moy = exemple.loc[:,'age'].mean()\n",
        "exemple.fillna(moy)"
      ],
      "metadata": {
        "colab": {
          "base_uri": "https://localhost:8080/",
          "height": 175
        },
        "id": "Kx415RPY3Pdn",
        "outputId": "d206bf41-9d84-45c1-f50b-80c8e9931422"
      },
      "id": "Kx415RPY3Pdn",
      "execution_count": null,
      "outputs": [
        {
          "output_type": "execute_result",
          "data": {
            "text/plain": [
              "       nom   age\n",
              "0    Alice  24.0\n",
              "1      Bob  49.0\n",
              "2  Charlie  99.0\n",
              "3    David  24.0"
            ],
            "text/html": [
              "\n",
              "  <div id=\"df-353e5786-9764-4291-b1c0-10ffe595bbf4\">\n",
              "    <div class=\"colab-df-container\">\n",
              "      <div>\n",
              "<style scoped>\n",
              "    .dataframe tbody tr th:only-of-type {\n",
              "        vertical-align: middle;\n",
              "    }\n",
              "\n",
              "    .dataframe tbody tr th {\n",
              "        vertical-align: top;\n",
              "    }\n",
              "\n",
              "    .dataframe thead th {\n",
              "        text-align: right;\n",
              "    }\n",
              "</style>\n",
              "<table border=\"1\" class=\"dataframe\">\n",
              "  <thead>\n",
              "    <tr style=\"text-align: right;\">\n",
              "      <th></th>\n",
              "      <th>nom</th>\n",
              "      <th>age</th>\n",
              "    </tr>\n",
              "  </thead>\n",
              "  <tbody>\n",
              "    <tr>\n",
              "      <th>0</th>\n",
              "      <td>Alice</td>\n",
              "      <td>24.0</td>\n",
              "    </tr>\n",
              "    <tr>\n",
              "      <th>1</th>\n",
              "      <td>Bob</td>\n",
              "      <td>49.0</td>\n",
              "    </tr>\n",
              "    <tr>\n",
              "      <th>2</th>\n",
              "      <td>Charlie</td>\n",
              "      <td>99.0</td>\n",
              "    </tr>\n",
              "    <tr>\n",
              "      <th>3</th>\n",
              "      <td>David</td>\n",
              "      <td>24.0</td>\n",
              "    </tr>\n",
              "  </tbody>\n",
              "</table>\n",
              "</div>\n",
              "      <button class=\"colab-df-convert\" onclick=\"convertToInteractive('df-353e5786-9764-4291-b1c0-10ffe595bbf4')\"\n",
              "              title=\"Convert this dataframe to an interactive table.\"\n",
              "              style=\"display:none;\">\n",
              "        \n",
              "  <svg xmlns=\"http://www.w3.org/2000/svg\" height=\"24px\"viewBox=\"0 0 24 24\"\n",
              "       width=\"24px\">\n",
              "    <path d=\"M0 0h24v24H0V0z\" fill=\"none\"/>\n",
              "    <path d=\"M18.56 5.44l.94 2.06.94-2.06 2.06-.94-2.06-.94-.94-2.06-.94 2.06-2.06.94zm-11 1L8.5 8.5l.94-2.06 2.06-.94-2.06-.94L8.5 2.5l-.94 2.06-2.06.94zm10 10l.94 2.06.94-2.06 2.06-.94-2.06-.94-.94-2.06-.94 2.06-2.06.94z\"/><path d=\"M17.41 7.96l-1.37-1.37c-.4-.4-.92-.59-1.43-.59-.52 0-1.04.2-1.43.59L10.3 9.45l-7.72 7.72c-.78.78-.78 2.05 0 2.83L4 21.41c.39.39.9.59 1.41.59.51 0 1.02-.2 1.41-.59l7.78-7.78 2.81-2.81c.8-.78.8-2.07 0-2.86zM5.41 20L4 18.59l7.72-7.72 1.47 1.35L5.41 20z\"/>\n",
              "  </svg>\n",
              "      </button>\n",
              "      \n",
              "  <style>\n",
              "    .colab-df-container {\n",
              "      display:flex;\n",
              "      flex-wrap:wrap;\n",
              "      gap: 12px;\n",
              "    }\n",
              "\n",
              "    .colab-df-convert {\n",
              "      background-color: #E8F0FE;\n",
              "      border: none;\n",
              "      border-radius: 50%;\n",
              "      cursor: pointer;\n",
              "      display: none;\n",
              "      fill: #1967D2;\n",
              "      height: 32px;\n",
              "      padding: 0 0 0 0;\n",
              "      width: 32px;\n",
              "    }\n",
              "\n",
              "    .colab-df-convert:hover {\n",
              "      background-color: #E2EBFA;\n",
              "      box-shadow: 0px 1px 2px rgba(60, 64, 67, 0.3), 0px 1px 3px 1px rgba(60, 64, 67, 0.15);\n",
              "      fill: #174EA6;\n",
              "    }\n",
              "\n",
              "    [theme=dark] .colab-df-convert {\n",
              "      background-color: #3B4455;\n",
              "      fill: #D2E3FC;\n",
              "    }\n",
              "\n",
              "    [theme=dark] .colab-df-convert:hover {\n",
              "      background-color: #434B5C;\n",
              "      box-shadow: 0px 1px 3px 1px rgba(0, 0, 0, 0.15);\n",
              "      filter: drop-shadow(0px 1px 2px rgba(0, 0, 0, 0.3));\n",
              "      fill: #FFFFFF;\n",
              "    }\n",
              "  </style>\n",
              "\n",
              "      <script>\n",
              "        const buttonEl =\n",
              "          document.querySelector('#df-353e5786-9764-4291-b1c0-10ffe595bbf4 button.colab-df-convert');\n",
              "        buttonEl.style.display =\n",
              "          google.colab.kernel.accessAllowed ? 'block' : 'none';\n",
              "\n",
              "        async function convertToInteractive(key) {\n",
              "          const element = document.querySelector('#df-353e5786-9764-4291-b1c0-10ffe595bbf4');\n",
              "          const dataTable =\n",
              "            await google.colab.kernel.invokeFunction('convertToInteractive',\n",
              "                                                     [key], {});\n",
              "          if (!dataTable) return;\n",
              "\n",
              "          const docLinkHtml = 'Like what you see? Visit the ' +\n",
              "            '<a target=\"_blank\" href=https://colab.research.google.com/notebooks/data_table.ipynb>data table notebook</a>'\n",
              "            + ' to learn more about interactive tables.';\n",
              "          element.innerHTML = '';\n",
              "          dataTable['output_type'] = 'display_data';\n",
              "          await google.colab.output.renderOutput(dataTable, element);\n",
              "          const docLink = document.createElement('div');\n",
              "          docLink.innerHTML = docLinkHtml;\n",
              "          element.appendChild(docLink);\n",
              "        }\n",
              "      </script>\n",
              "    </div>\n",
              "  </div>\n",
              "  "
            ]
          },
          "metadata": {},
          "execution_count": 128
        }
      ]
    },
    {
      "cell_type": "code",
      "source": [
        "# Question 2.4 :\n",
        "m = exemple.loc[:,'age'].mode()  \n",
        "exemple.fillna(m)"
      ],
      "metadata": {
        "colab": {
          "base_uri": "https://localhost:8080/",
          "height": 175
        },
        "id": "wzWVFt353PLh",
        "outputId": "f4d640d1-7c2b-4e1d-d882-83fb5addfc77"
      },
      "id": "wzWVFt353PLh",
      "execution_count": null,
      "outputs": [
        {
          "output_type": "execute_result",
          "data": {
            "text/plain": [
              "       nom   age\n",
              "0    Alice  24.0\n",
              "1      Bob   NaN\n",
              "2  Charlie  99.0\n",
              "3    David  24.0"
            ],
            "text/html": [
              "\n",
              "  <div id=\"df-0f807f4b-0e37-47aa-b38f-ba3f80451618\">\n",
              "    <div class=\"colab-df-container\">\n",
              "      <div>\n",
              "<style scoped>\n",
              "    .dataframe tbody tr th:only-of-type {\n",
              "        vertical-align: middle;\n",
              "    }\n",
              "\n",
              "    .dataframe tbody tr th {\n",
              "        vertical-align: top;\n",
              "    }\n",
              "\n",
              "    .dataframe thead th {\n",
              "        text-align: right;\n",
              "    }\n",
              "</style>\n",
              "<table border=\"1\" class=\"dataframe\">\n",
              "  <thead>\n",
              "    <tr style=\"text-align: right;\">\n",
              "      <th></th>\n",
              "      <th>nom</th>\n",
              "      <th>age</th>\n",
              "    </tr>\n",
              "  </thead>\n",
              "  <tbody>\n",
              "    <tr>\n",
              "      <th>0</th>\n",
              "      <td>Alice</td>\n",
              "      <td>24.0</td>\n",
              "    </tr>\n",
              "    <tr>\n",
              "      <th>1</th>\n",
              "      <td>Bob</td>\n",
              "      <td>NaN</td>\n",
              "    </tr>\n",
              "    <tr>\n",
              "      <th>2</th>\n",
              "      <td>Charlie</td>\n",
              "      <td>99.0</td>\n",
              "    </tr>\n",
              "    <tr>\n",
              "      <th>3</th>\n",
              "      <td>David</td>\n",
              "      <td>24.0</td>\n",
              "    </tr>\n",
              "  </tbody>\n",
              "</table>\n",
              "</div>\n",
              "      <button class=\"colab-df-convert\" onclick=\"convertToInteractive('df-0f807f4b-0e37-47aa-b38f-ba3f80451618')\"\n",
              "              title=\"Convert this dataframe to an interactive table.\"\n",
              "              style=\"display:none;\">\n",
              "        \n",
              "  <svg xmlns=\"http://www.w3.org/2000/svg\" height=\"24px\"viewBox=\"0 0 24 24\"\n",
              "       width=\"24px\">\n",
              "    <path d=\"M0 0h24v24H0V0z\" fill=\"none\"/>\n",
              "    <path d=\"M18.56 5.44l.94 2.06.94-2.06 2.06-.94-2.06-.94-.94-2.06-.94 2.06-2.06.94zm-11 1L8.5 8.5l.94-2.06 2.06-.94-2.06-.94L8.5 2.5l-.94 2.06-2.06.94zm10 10l.94 2.06.94-2.06 2.06-.94-2.06-.94-.94-2.06-.94 2.06-2.06.94z\"/><path d=\"M17.41 7.96l-1.37-1.37c-.4-.4-.92-.59-1.43-.59-.52 0-1.04.2-1.43.59L10.3 9.45l-7.72 7.72c-.78.78-.78 2.05 0 2.83L4 21.41c.39.39.9.59 1.41.59.51 0 1.02-.2 1.41-.59l7.78-7.78 2.81-2.81c.8-.78.8-2.07 0-2.86zM5.41 20L4 18.59l7.72-7.72 1.47 1.35L5.41 20z\"/>\n",
              "  </svg>\n",
              "      </button>\n",
              "      \n",
              "  <style>\n",
              "    .colab-df-container {\n",
              "      display:flex;\n",
              "      flex-wrap:wrap;\n",
              "      gap: 12px;\n",
              "    }\n",
              "\n",
              "    .colab-df-convert {\n",
              "      background-color: #E8F0FE;\n",
              "      border: none;\n",
              "      border-radius: 50%;\n",
              "      cursor: pointer;\n",
              "      display: none;\n",
              "      fill: #1967D2;\n",
              "      height: 32px;\n",
              "      padding: 0 0 0 0;\n",
              "      width: 32px;\n",
              "    }\n",
              "\n",
              "    .colab-df-convert:hover {\n",
              "      background-color: #E2EBFA;\n",
              "      box-shadow: 0px 1px 2px rgba(60, 64, 67, 0.3), 0px 1px 3px 1px rgba(60, 64, 67, 0.15);\n",
              "      fill: #174EA6;\n",
              "    }\n",
              "\n",
              "    [theme=dark] .colab-df-convert {\n",
              "      background-color: #3B4455;\n",
              "      fill: #D2E3FC;\n",
              "    }\n",
              "\n",
              "    [theme=dark] .colab-df-convert:hover {\n",
              "      background-color: #434B5C;\n",
              "      box-shadow: 0px 1px 3px 1px rgba(0, 0, 0, 0.15);\n",
              "      filter: drop-shadow(0px 1px 2px rgba(0, 0, 0, 0.3));\n",
              "      fill: #FFFFFF;\n",
              "    }\n",
              "  </style>\n",
              "\n",
              "      <script>\n",
              "        const buttonEl =\n",
              "          document.querySelector('#df-0f807f4b-0e37-47aa-b38f-ba3f80451618 button.colab-df-convert');\n",
              "        buttonEl.style.display =\n",
              "          google.colab.kernel.accessAllowed ? 'block' : 'none';\n",
              "\n",
              "        async function convertToInteractive(key) {\n",
              "          const element = document.querySelector('#df-0f807f4b-0e37-47aa-b38f-ba3f80451618');\n",
              "          const dataTable =\n",
              "            await google.colab.kernel.invokeFunction('convertToInteractive',\n",
              "                                                     [key], {});\n",
              "          if (!dataTable) return;\n",
              "\n",
              "          const docLinkHtml = 'Like what you see? Visit the ' +\n",
              "            '<a target=\"_blank\" href=https://colab.research.google.com/notebooks/data_table.ipynb>data table notebook</a>'\n",
              "            + ' to learn more about interactive tables.';\n",
              "          element.innerHTML = '';\n",
              "          dataTable['output_type'] = 'display_data';\n",
              "          await google.colab.output.renderOutput(dataTable, element);\n",
              "          const docLink = document.createElement('div');\n",
              "          docLink.innerHTML = docLinkHtml;\n",
              "          element.appendChild(docLink);\n",
              "        }\n",
              "      </script>\n",
              "    </div>\n",
              "  </div>\n",
              "  "
            ]
          },
          "metadata": {},
          "execution_count": 131
        }
      ]
    },
    {
      "cell_type": "markdown",
      "id": "b5d55345-2d7d-47b5-889c-7ba241902090",
      "metadata": {
        "id": "b5d55345-2d7d-47b5-889c-7ba241902090"
      },
      "source": [
        "## Git"
      ]
    },
    {
      "cell_type": "markdown",
      "id": "330b3ba5-1c43-4f7c-91a4-b23910d25b24",
      "metadata": {
        "id": "330b3ba5-1c43-4f7c-91a4-b23910d25b24"
      },
      "source": [
        "Créer un compte GitHub : https://github.com/\n",
        "\n",
        "Créer un nouveau repository :\n",
        "1. Sélectionner \"Nouveau dépôt\" dans le menu déroulant avec le signe +. \n",
        "2. Saisisser un nom pour votre dépôt (par exemple, \"TDs statistiques descriptives\") \n",
        "3. Cliquer sur \"Créer un dépôt\". Ne vous souciez pas des autres options.\n",
        "\n",
        "\n",
        "\n",
        "Télécharger Git Bash : https://git-scm.com/downloads\n",
        "\n",
        "Sur Git Bash, positionnez-vous dans le répertoire où votre projet figure.\n",
        "\n",
        "Ensuite\n",
        "\n",
        "> git init\n",
        "\n",
        "> git remote add origin https://github.com/********\n",
        "\n",
        "> git add .\n",
        "\n",
        "> git commit -m \"Ajout du TD1\"\n",
        "\n",
        "> git push origin master\n",
        "\n",
        "C'est tout ! Vous avez créé votre repo GitHub ! "
      ]
    }
  ],
  "metadata": {
    "environment": {
      "kernel": "python3",
      "name": "pytorch-gpu.1-11.m93",
      "type": "gcloud",
      "uri": "gcr.io/deeplearning-platform-release/pytorch-gpu.1-11:m93"
    },
    "kernelspec": {
      "display_name": "Python 3",
      "language": "python",
      "name": "python3"
    },
    "language_info": {
      "codemirror_mode": {
        "name": "ipython",
        "version": 3
      },
      "file_extension": ".py",
      "mimetype": "text/x-python",
      "name": "python",
      "nbconvert_exporter": "python",
      "pygments_lexer": "ipython3",
      "version": "3.7.12"
    },
    "colab": {
      "provenance": [],
      "collapsed_sections": [
        "bad440b9-18a4-4b45-809d-df8d4009f3ff",
        "052b229f-8f3a-4a46-8285-aa5ffd721c02",
        "680cdce7-3be8-4b62-a670-66ba16407412",
        "a0c71786-cf7a-4082-b26d-de236ac6d022",
        "1f18bb0b-a3e0-4147-adff-52137de24465",
        "c6d0362e-d415-4946-9661-3790aaf46850",
        "e234b9ae-f30b-4fde-9da6-2279277d4c1e",
        "8cd7d902-7c1f-4c31-bb41-0ede4b4f4481",
        "c6a972ff-7ef0-4a5a-ba61-7ffef0c39ea3",
        "8eab9db9-840e-4d2c-b2d3-89ceedfc0939",
        "05a40f33-80eb-40db-92e6-da821bacff04",
        "f83a4e6a-95b0-46fa-8109-10765c3997f1",
        "b5d55345-2d7d-47b5-889c-7ba241902090"
      ],
      "include_colab_link": true
    }
  },
  "nbformat": 4,
  "nbformat_minor": 5
}