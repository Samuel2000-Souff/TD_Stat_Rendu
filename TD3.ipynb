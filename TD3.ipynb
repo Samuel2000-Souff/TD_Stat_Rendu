{
  "cells": [
    {
      "cell_type": "markdown",
      "metadata": {
        "id": "view-in-github",
        "colab_type": "text"
      },
      "source": [
        "<a href=\"https://colab.research.google.com/github/Samuel2000-Souff/TD_Stat_Rendu/blob/master/TD3.ipynb\" target=\"_parent\"><img src=\"https://colab.research.google.com/assets/colab-badge.svg\" alt=\"Open In Colab\"/></a>"
      ]
    },
    {
      "cell_type": "markdown",
      "metadata": {
        "id": "xZk2SnQFdJQd"
      },
      "source": [
        "# TD 3 | Étude de la marge EGT d'un turboréacteur\n",
        "\n",
        "---\n",
        "\n",
        "Objectifs du TD :\n",
        "\n",
        "* pratiquer sur un premier use case concret d'analyse de données de moteurs d'avion\n",
        "* fonctions glissantes pandas (_rolling_)\n",
        "* régression linéaire\n",
        "\n",
        "---"
      ]
    },
    {
      "cell_type": "markdown",
      "metadata": {
        "id": "FU67TN1ddJQm"
      },
      "source": [
        "La table fournie contient les données moteurs disposant de l'information \"marge EGT\" (egthdm) issue\n",
        "des rapports ACARS. Il s'agit donc uniquement de rapports extraits au décollage (TAKEOFF). On a\n",
        "récupéré l'ensemble des rapports des moteurs livrés depuis avril 2016."
      ]
    },
    {
      "cell_type": "markdown",
      "metadata": {
        "id": "yLuAbsa3dJQo"
      },
      "source": [
        "## 1. Chargement et nettoyage des données\n",
        "\n",
        "#### 1.1. Chargez les données ACARS à l'aide de la méthode pandas `read_excel`. Explorez les propriétés générales du jeu de données.\n",
        "\n",
        "Fichier de données : `./data/accars_b.xlsx`."
      ]
    },
    {
      "cell_type": "code",
      "execution_count": 1,
      "metadata": {
        "colab": {
          "base_uri": "https://localhost:8080/"
        },
        "id": "f8kOp2Y8dJQp",
        "outputId": "d767278a-c967-4ec7-db85-ac0763b9f418"
      },
      "outputs": [
        {
          "output_type": "stream",
          "name": "stdout",
          "text": [
            "Cloning into 'MACS3-Statistiques-Descriptives-TDs'...\n",
            "remote: Enumerating objects: 92, done.\u001b[K\n",
            "remote: Counting objects: 100% (92/92), done.\u001b[K\n",
            "remote: Compressing objects: 100% (73/73), done.\u001b[K\n",
            "remote: Total 92 (delta 20), reused 84 (delta 12), pack-reused 0\u001b[K\n",
            "Unpacking objects: 100% (92/92), done.\n"
          ]
        }
      ],
      "source": [
        "!git clone https://github.com/MadaneA/MACS3-Statistiques-Descriptives-TDs.git"
      ]
    },
    {
      "cell_type": "code",
      "execution_count": 2,
      "metadata": {
        "id": "89KWQgoTdJQt"
      },
      "outputs": [],
      "source": [
        "import os\n",
        "os.getcwd()\n",
        "os.chdir('MACS3-Statistiques-Descriptives-TDs')"
      ]
    },
    {
      "cell_type": "code",
      "execution_count": 3,
      "metadata": {
        "id": "Vms906r7dJQu"
      },
      "outputs": [],
      "source": [
        "import pandas as pd\n",
        "import numpy as np\n",
        "import matplotlib.pyplot as p"
      ]
    },
    {
      "cell_type": "code",
      "source": [
        "acc = pd.read_excel('./data/accars_b.xlsx')\n",
        "acc.head()"
      ],
      "metadata": {
        "colab": {
          "base_uri": "https://localhost:8080/",
          "height": 300
        },
        "id": "3sbN7kADnmTi",
        "outputId": "e1da5b27-41ad-4618-9df3-2913452b793e"
      },
      "execution_count": 4,
      "outputs": [
        {
          "output_type": "execute_result",
          "data": {
            "text/plain": [
              "  flight_phase  engine_number  engine_type  aircraft_number  engine_position  \\\n",
              "0        CLIMB            186           10              192                1   \n",
              "1        CLIMB            186           10              192                1   \n",
              "2        CLIMB            186           10              192                1   \n",
              "3        CLIMB            186           10              192                1   \n",
              "4        CLIMB            186           10              192                1   \n",
              "\n",
              "  airline_classif_environment  brat    cas  cycles   delfn  ...  ztoil  zvb1f  \\\n",
              "0                     Neutral   1.0  151.0     6.0 -0.1146  ...   88.0   0.57   \n",
              "1                     Neutral   1.0  143.0     7.0 -0.2464  ...   90.8   0.58   \n",
              "2                     Neutral   1.0  163.0     8.0     NaN  ...   89.0   0.28   \n",
              "3                     Neutral   1.0  152.0     9.0     NaN  ...   87.0   0.44   \n",
              "4                     Neutral   1.0  154.0    10.0     NaN  ...   85.3   0.26   \n",
              "\n",
              "   zvb1r  zvb2f  zvb2r  zvsv  zwbp1  zwbp2   zwf36    zxm  \n",
              "0   0.73   0.12   0.13   8.9    5.0    5.0  5335.0  0.637  \n",
              "1   0.76   0.15   0.10   9.0    5.6    5.6  4987.0  0.624  \n",
              "2   0.48   0.16   0.05  10.1    5.0    5.2  4251.0  0.530  \n",
              "3   0.67   0.14   0.08   8.9    5.6    5.6  5356.0  0.380  \n",
              "4   0.48   0.25   0.06  10.5    5.6    5.6     NaN  0.543  \n",
              "\n",
              "[5 rows x 50 columns]"
            ],
            "text/html": [
              "\n",
              "  <div id=\"df-0ae2c8e3-04fc-4e48-b5d6-89dd2ca40068\">\n",
              "    <div class=\"colab-df-container\">\n",
              "      <div>\n",
              "<style scoped>\n",
              "    .dataframe tbody tr th:only-of-type {\n",
              "        vertical-align: middle;\n",
              "    }\n",
              "\n",
              "    .dataframe tbody tr th {\n",
              "        vertical-align: top;\n",
              "    }\n",
              "\n",
              "    .dataframe thead th {\n",
              "        text-align: right;\n",
              "    }\n",
              "</style>\n",
              "<table border=\"1\" class=\"dataframe\">\n",
              "  <thead>\n",
              "    <tr style=\"text-align: right;\">\n",
              "      <th></th>\n",
              "      <th>flight_phase</th>\n",
              "      <th>engine_number</th>\n",
              "      <th>engine_type</th>\n",
              "      <th>aircraft_number</th>\n",
              "      <th>engine_position</th>\n",
              "      <th>airline_classif_environment</th>\n",
              "      <th>brat</th>\n",
              "      <th>cas</th>\n",
              "      <th>cycles</th>\n",
              "      <th>delfn</th>\n",
              "      <th>...</th>\n",
              "      <th>ztoil</th>\n",
              "      <th>zvb1f</th>\n",
              "      <th>zvb1r</th>\n",
              "      <th>zvb2f</th>\n",
              "      <th>zvb2r</th>\n",
              "      <th>zvsv</th>\n",
              "      <th>zwbp1</th>\n",
              "      <th>zwbp2</th>\n",
              "      <th>zwf36</th>\n",
              "      <th>zxm</th>\n",
              "    </tr>\n",
              "  </thead>\n",
              "  <tbody>\n",
              "    <tr>\n",
              "      <th>0</th>\n",
              "      <td>CLIMB</td>\n",
              "      <td>186</td>\n",
              "      <td>10</td>\n",
              "      <td>192</td>\n",
              "      <td>1</td>\n",
              "      <td>Neutral</td>\n",
              "      <td>1.0</td>\n",
              "      <td>151.0</td>\n",
              "      <td>6.0</td>\n",
              "      <td>-0.1146</td>\n",
              "      <td>...</td>\n",
              "      <td>88.0</td>\n",
              "      <td>0.57</td>\n",
              "      <td>0.73</td>\n",
              "      <td>0.12</td>\n",
              "      <td>0.13</td>\n",
              "      <td>8.9</td>\n",
              "      <td>5.0</td>\n",
              "      <td>5.0</td>\n",
              "      <td>5335.0</td>\n",
              "      <td>0.637</td>\n",
              "    </tr>\n",
              "    <tr>\n",
              "      <th>1</th>\n",
              "      <td>CLIMB</td>\n",
              "      <td>186</td>\n",
              "      <td>10</td>\n",
              "      <td>192</td>\n",
              "      <td>1</td>\n",
              "      <td>Neutral</td>\n",
              "      <td>1.0</td>\n",
              "      <td>143.0</td>\n",
              "      <td>7.0</td>\n",
              "      <td>-0.2464</td>\n",
              "      <td>...</td>\n",
              "      <td>90.8</td>\n",
              "      <td>0.58</td>\n",
              "      <td>0.76</td>\n",
              "      <td>0.15</td>\n",
              "      <td>0.10</td>\n",
              "      <td>9.0</td>\n",
              "      <td>5.6</td>\n",
              "      <td>5.6</td>\n",
              "      <td>4987.0</td>\n",
              "      <td>0.624</td>\n",
              "    </tr>\n",
              "    <tr>\n",
              "      <th>2</th>\n",
              "      <td>CLIMB</td>\n",
              "      <td>186</td>\n",
              "      <td>10</td>\n",
              "      <td>192</td>\n",
              "      <td>1</td>\n",
              "      <td>Neutral</td>\n",
              "      <td>1.0</td>\n",
              "      <td>163.0</td>\n",
              "      <td>8.0</td>\n",
              "      <td>NaN</td>\n",
              "      <td>...</td>\n",
              "      <td>89.0</td>\n",
              "      <td>0.28</td>\n",
              "      <td>0.48</td>\n",
              "      <td>0.16</td>\n",
              "      <td>0.05</td>\n",
              "      <td>10.1</td>\n",
              "      <td>5.0</td>\n",
              "      <td>5.2</td>\n",
              "      <td>4251.0</td>\n",
              "      <td>0.530</td>\n",
              "    </tr>\n",
              "    <tr>\n",
              "      <th>3</th>\n",
              "      <td>CLIMB</td>\n",
              "      <td>186</td>\n",
              "      <td>10</td>\n",
              "      <td>192</td>\n",
              "      <td>1</td>\n",
              "      <td>Neutral</td>\n",
              "      <td>1.0</td>\n",
              "      <td>152.0</td>\n",
              "      <td>9.0</td>\n",
              "      <td>NaN</td>\n",
              "      <td>...</td>\n",
              "      <td>87.0</td>\n",
              "      <td>0.44</td>\n",
              "      <td>0.67</td>\n",
              "      <td>0.14</td>\n",
              "      <td>0.08</td>\n",
              "      <td>8.9</td>\n",
              "      <td>5.6</td>\n",
              "      <td>5.6</td>\n",
              "      <td>5356.0</td>\n",
              "      <td>0.380</td>\n",
              "    </tr>\n",
              "    <tr>\n",
              "      <th>4</th>\n",
              "      <td>CLIMB</td>\n",
              "      <td>186</td>\n",
              "      <td>10</td>\n",
              "      <td>192</td>\n",
              "      <td>1</td>\n",
              "      <td>Neutral</td>\n",
              "      <td>1.0</td>\n",
              "      <td>154.0</td>\n",
              "      <td>10.0</td>\n",
              "      <td>NaN</td>\n",
              "      <td>...</td>\n",
              "      <td>85.3</td>\n",
              "      <td>0.26</td>\n",
              "      <td>0.48</td>\n",
              "      <td>0.25</td>\n",
              "      <td>0.06</td>\n",
              "      <td>10.5</td>\n",
              "      <td>5.6</td>\n",
              "      <td>5.6</td>\n",
              "      <td>NaN</td>\n",
              "      <td>0.543</td>\n",
              "    </tr>\n",
              "  </tbody>\n",
              "</table>\n",
              "<p>5 rows × 50 columns</p>\n",
              "</div>\n",
              "      <button class=\"colab-df-convert\" onclick=\"convertToInteractive('df-0ae2c8e3-04fc-4e48-b5d6-89dd2ca40068')\"\n",
              "              title=\"Convert this dataframe to an interactive table.\"\n",
              "              style=\"display:none;\">\n",
              "        \n",
              "  <svg xmlns=\"http://www.w3.org/2000/svg\" height=\"24px\"viewBox=\"0 0 24 24\"\n",
              "       width=\"24px\">\n",
              "    <path d=\"M0 0h24v24H0V0z\" fill=\"none\"/>\n",
              "    <path d=\"M18.56 5.44l.94 2.06.94-2.06 2.06-.94-2.06-.94-.94-2.06-.94 2.06-2.06.94zm-11 1L8.5 8.5l.94-2.06 2.06-.94-2.06-.94L8.5 2.5l-.94 2.06-2.06.94zm10 10l.94 2.06.94-2.06 2.06-.94-2.06-.94-.94-2.06-.94 2.06-2.06.94z\"/><path d=\"M17.41 7.96l-1.37-1.37c-.4-.4-.92-.59-1.43-.59-.52 0-1.04.2-1.43.59L10.3 9.45l-7.72 7.72c-.78.78-.78 2.05 0 2.83L4 21.41c.39.39.9.59 1.41.59.51 0 1.02-.2 1.41-.59l7.78-7.78 2.81-2.81c.8-.78.8-2.07 0-2.86zM5.41 20L4 18.59l7.72-7.72 1.47 1.35L5.41 20z\"/>\n",
              "  </svg>\n",
              "      </button>\n",
              "      \n",
              "  <style>\n",
              "    .colab-df-container {\n",
              "      display:flex;\n",
              "      flex-wrap:wrap;\n",
              "      gap: 12px;\n",
              "    }\n",
              "\n",
              "    .colab-df-convert {\n",
              "      background-color: #E8F0FE;\n",
              "      border: none;\n",
              "      border-radius: 50%;\n",
              "      cursor: pointer;\n",
              "      display: none;\n",
              "      fill: #1967D2;\n",
              "      height: 32px;\n",
              "      padding: 0 0 0 0;\n",
              "      width: 32px;\n",
              "    }\n",
              "\n",
              "    .colab-df-convert:hover {\n",
              "      background-color: #E2EBFA;\n",
              "      box-shadow: 0px 1px 2px rgba(60, 64, 67, 0.3), 0px 1px 3px 1px rgba(60, 64, 67, 0.15);\n",
              "      fill: #174EA6;\n",
              "    }\n",
              "\n",
              "    [theme=dark] .colab-df-convert {\n",
              "      background-color: #3B4455;\n",
              "      fill: #D2E3FC;\n",
              "    }\n",
              "\n",
              "    [theme=dark] .colab-df-convert:hover {\n",
              "      background-color: #434B5C;\n",
              "      box-shadow: 0px 1px 3px 1px rgba(0, 0, 0, 0.15);\n",
              "      filter: drop-shadow(0px 1px 2px rgba(0, 0, 0, 0.3));\n",
              "      fill: #FFFFFF;\n",
              "    }\n",
              "  </style>\n",
              "\n",
              "      <script>\n",
              "        const buttonEl =\n",
              "          document.querySelector('#df-0ae2c8e3-04fc-4e48-b5d6-89dd2ca40068 button.colab-df-convert');\n",
              "        buttonEl.style.display =\n",
              "          google.colab.kernel.accessAllowed ? 'block' : 'none';\n",
              "\n",
              "        async function convertToInteractive(key) {\n",
              "          const element = document.querySelector('#df-0ae2c8e3-04fc-4e48-b5d6-89dd2ca40068');\n",
              "          const dataTable =\n",
              "            await google.colab.kernel.invokeFunction('convertToInteractive',\n",
              "                                                     [key], {});\n",
              "          if (!dataTable) return;\n",
              "\n",
              "          const docLinkHtml = 'Like what you see? Visit the ' +\n",
              "            '<a target=\"_blank\" href=https://colab.research.google.com/notebooks/data_table.ipynb>data table notebook</a>'\n",
              "            + ' to learn more about interactive tables.';\n",
              "          element.innerHTML = '';\n",
              "          dataTable['output_type'] = 'display_data';\n",
              "          await google.colab.output.renderOutput(dataTable, element);\n",
              "          const docLink = document.createElement('div');\n",
              "          docLink.innerHTML = docLinkHtml;\n",
              "          element.appendChild(docLink);\n",
              "        }\n",
              "      </script>\n",
              "    </div>\n",
              "  </div>\n",
              "  "
            ]
          },
          "metadata": {},
          "execution_count": 4
        }
      ]
    },
    {
      "cell_type": "code",
      "source": [
        "acc.shape"
      ],
      "metadata": {
        "colab": {
          "base_uri": "https://localhost:8080/"
        },
        "id": "muJNQHPydcJT",
        "outputId": "d18a0abe-532f-460b-9abb-1570b409dbfc"
      },
      "execution_count": 5,
      "outputs": [
        {
          "output_type": "execute_result",
          "data": {
            "text/plain": [
              "(46621, 50)"
            ]
          },
          "metadata": {},
          "execution_count": 5
        }
      ]
    },
    {
      "cell_type": "markdown",
      "metadata": {
        "id": "ZFd28554dJQv"
      },
      "source": [
        "#### 1.2. Y a-t-il des valeurs manquantes ? Si oui, décrivez leur répartition et affichez le nombre de valeurs manquantes par colonne sous forme d'un bar plot."
      ]
    },
    {
      "cell_type": "code",
      "source": [
        "import matplotlib.pyplot as plt\n",
        "import numpy as np\n",
        "%matplotlib inline"
      ],
      "metadata": {
        "id": "PM1evb9CeG2A"
      },
      "execution_count": 6,
      "outputs": []
    },
    {
      "cell_type": "code",
      "source": [
        "df = acc.isnull().sum(axis = 'index')\n",
        "df"
      ],
      "metadata": {
        "colab": {
          "base_uri": "https://localhost:8080/"
        },
        "id": "OJCDbmtS8xX6",
        "outputId": "d947d0e1-0d00-4563-a66d-2996bffcf628"
      },
      "execution_count": 7,
      "outputs": [
        {
          "output_type": "execute_result",
          "data": {
            "text/plain": [
              "flight_phase                       0\n",
              "engine_number                      0\n",
              "engine_type                        0\n",
              "aircraft_number                    0\n",
              "engine_position                    0\n",
              "airline_classif_environment      484\n",
              "brat                               4\n",
              "cas                            11920\n",
              "cycles                         30553\n",
              "delfn                            584\n",
              "deln1                            584\n",
              "dtamb                            584\n",
              "egthdm                          1351\n",
              "iai                                4\n",
              "iaie1                            308\n",
              "iaie2                            308\n",
              "iaiwg                              4\n",
              "ibe1                               0\n",
              "ibe2                               0\n",
              "ivs12                              0\n",
              "pcn1k                           1351\n",
              "sloatl                          1351\n",
              "tsih                           32885\n",
              "vbvpos                         27236\n",
              "wbe                            36699\n",
              "yn1mod                             4\n",
              "zalt                              34\n",
              "zhptac                         29817\n",
              "zlptac                         29805\n",
              "zpcn12                             2\n",
              "zpcn25                           120\n",
              "zphsf                          12060\n",
              "zphsr                          13497\n",
              "zpoil                           6546\n",
              "zps3                           25835\n",
              "zt1a                              16\n",
              "zt25                           26357\n",
              "zt3                            26357\n",
              "zt49                             104\n",
              "ztla                           28359\n",
              "ztoil                           6560\n",
              "zvb1f                           6682\n",
              "zvb1r                           6682\n",
              "zvb2f                           6800\n",
              "zvb2r                           6690\n",
              "zvsv                           24228\n",
              "zwbp1                          32640\n",
              "zwbp2                          32640\n",
              "zwf36                           7266\n",
              "zxm                              274\n",
              "dtype: int64"
            ]
          },
          "metadata": {},
          "execution_count": 7
        }
      ]
    },
    {
      "cell_type": "code",
      "execution_count": 8,
      "metadata": {
        "colab": {
          "base_uri": "https://localhost:8080/",
          "height": 426
        },
        "id": "NnAmIKV6dJQx",
        "outputId": "097b640b-1cf4-4ef3-cf64-5a3e53b774a0"
      },
      "outputs": [
        {
          "output_type": "execute_result",
          "data": {
            "text/plain": [
              "Text(0.5, 1.0, 'Répartition des valeurs manquantes par colonne')"
            ]
          },
          "metadata": {},
          "execution_count": 8
        },
        {
          "output_type": "display_data",
          "data": {
            "text/plain": [
              "<Figure size 432x288 with 1 Axes>"
            ],
            "image/png": "[encoded data removed]"
          },
          "metadata": {
            "needs_background": "light"
          }
        }
      ],
      "source": [
        "df.plot.bar(df.index)\n",
        "plt.title('Répartition des valeurs manquantes par colonne')"
      ]
    },
    {
      "cell_type": "markdown",
      "metadata": {
        "id": "Qi2qniPjdJQy"
      },
      "source": [
        "#### 1.3. Ne gardez que les lignes où le nombre de cycles (variable `cycles`) et la marge EGT (variable `egthdm`) sont présentes."
      ]
    },
    {
      "cell_type": "code",
      "execution_count": 9,
      "metadata": {
        "id": "T2rJTaJRdJQ0",
        "colab": {
          "base_uri": "https://localhost:8080/"
        },
        "outputId": "4b4612ba-17b9-44e7-d7a9-be70fad7a66b"
      },
      "outputs": [
        {
          "output_type": "execute_result",
          "data": {
            "text/plain": [
              "(15374, 50)"
            ]
          },
          "metadata": {},
          "execution_count": 9
        }
      ],
      "source": [
        "acc_clean = acc[~acc['egthdm'].isna() & ~acc['cycles'].isna()]\n",
        "acc_clean.shape"
      ]
    },
    {
      "cell_type": "markdown",
      "metadata": {
        "id": "UqJRZaxFdJQ1"
      },
      "source": [
        "#### 1.4. Affichez les différents types de moteurs (indice : utilisez la méthode `unique()`)."
      ]
    },
    {
      "cell_type": "code",
      "execution_count": 10,
      "metadata": {
        "id": "atA611f3dJQ2",
        "colab": {
          "base_uri": "https://localhost:8080/"
        },
        "outputId": "75114031-dc68-490c-f791-a62ec05cea88"
      },
      "outputs": [
        {
          "output_type": "execute_result",
          "data": {
            "text/plain": [
              "array([10,  5,  7])"
            ]
          },
          "metadata": {},
          "execution_count": 10
        }
      ],
      "source": [
        "acc_clean['engine_type'].unique()"
      ]
    },
    {
      "cell_type": "markdown",
      "metadata": {
        "id": "_HWLdX24dJQ3"
      },
      "source": [
        "#### 1.5. Sélectionnez uniquement les moteurs de type 10. Combien y a-t-il d'avions distincts ? Combien de vols par avion ? (attention : il y a 2 moteurs sur un avion)"
      ]
    },
    {
      "cell_type": "code",
      "execution_count": 11,
      "metadata": {
        "id": "mLIo1XWpdJQ4",
        "colab": {
          "base_uri": "https://localhost:8080/"
        },
        "outputId": "4e9c614f-7b11-4de2-f07f-4f77c671d374"
      },
      "outputs": [
        {
          "output_type": "stream",
          "name": "stdout",
          "text": [
            "nombre de d'avions avec un moteur de type 10 :\n",
            "712\n",
            "nombre de vol par avion :\n",
            "50\n"
          ]
        }
      ],
      "source": [
        "vol_type10 = acc_clean[acc_clean['engine_type'] == 10]\n",
        "print(\"nombre de d'avions avec un moteur de type 10 :\")\n",
        "print(vol_type10.shape[0])\n",
        "print(\"nombre de vol par avion :\")\n",
        "print(vol_type10.shape[1])"
      ]
    },
    {
      "cell_type": "markdown",
      "metadata": {
        "id": "UbWHPmAxdJQ5"
      },
      "source": [
        "## 2. Étude de la marge EGT de l'avion 190\n",
        "\n",
        "#### 2.1. Récupérez les variables `engine_number`, nombre de cycles (`cycles`) et marge EGT (`egthdm`) pour l'avion identifié par le numéro 190."
      ]
    },
    {
      "cell_type": "code",
      "execution_count": 12,
      "metadata": {
        "id": "OUWmAhbvdJQ6",
        "colab": {
          "base_uri": "https://localhost:8080/",
          "height": 206
        },
        "outputId": "f44db3a8-6f32-4b2a-9db9-5816b28570fb"
      },
      "outputs": [
        {
          "output_type": "execute_result",
          "data": {
            "text/plain": [
              "       engine_number  cycles   egthdm\n",
              "11398            179    98.0  52.0118\n",
              "11399            180    69.0  57.6415\n",
              "11400            180    75.0  48.7217\n",
              "11755            179     0.0  37.6572\n",
              "11756            179     1.0  37.2208"
            ],
            "text/html": [
              "\n",
              "  <div id=\"df-30832fa0-1866-4a97-b252-be41ad5ee128\">\n",
              "    <div class=\"colab-df-container\">\n",
              "      <div>\n",
              "<style scoped>\n",
              "    .dataframe tbody tr th:only-of-type {\n",
              "        vertical-align: middle;\n",
              "    }\n",
              "\n",
              "    .dataframe tbody tr th {\n",
              "        vertical-align: top;\n",
              "    }\n",
              "\n",
              "    .dataframe thead th {\n",
              "        text-align: right;\n",
              "    }\n",
              "</style>\n",
              "<table border=\"1\" class=\"dataframe\">\n",
              "  <thead>\n",
              "    <tr style=\"text-align: right;\">\n",
              "      <th></th>\n",
              "      <th>engine_number</th>\n",
              "      <th>cycles</th>\n",
              "      <th>egthdm</th>\n",
              "    </tr>\n",
              "  </thead>\n",
              "  <tbody>\n",
              "    <tr>\n",
              "      <th>11398</th>\n",
              "      <td>179</td>\n",
              "      <td>98.0</td>\n",
              "      <td>52.0118</td>\n",
              "    </tr>\n",
              "    <tr>\n",
              "      <th>11399</th>\n",
              "      <td>180</td>\n",
              "      <td>69.0</td>\n",
              "      <td>57.6415</td>\n",
              "    </tr>\n",
              "    <tr>\n",
              "      <th>11400</th>\n",
              "      <td>180</td>\n",
              "      <td>75.0</td>\n",
              "      <td>48.7217</td>\n",
              "    </tr>\n",
              "    <tr>\n",
              "      <th>11755</th>\n",
              "      <td>179</td>\n",
              "      <td>0.0</td>\n",
              "      <td>37.6572</td>\n",
              "    </tr>\n",
              "    <tr>\n",
              "      <th>11756</th>\n",
              "      <td>179</td>\n",
              "      <td>1.0</td>\n",
              "      <td>37.2208</td>\n",
              "    </tr>\n",
              "  </tbody>\n",
              "</table>\n",
              "</div>\n",
              "      <button class=\"colab-df-convert\" onclick=\"convertToInteractive('df-30832fa0-1866-4a97-b252-be41ad5ee128')\"\n",
              "              title=\"Convert this dataframe to an interactive table.\"\n",
              "              style=\"display:none;\">\n",
              "        \n",
              "  <svg xmlns=\"http://www.w3.org/2000/svg\" height=\"24px\"viewBox=\"0 0 24 24\"\n",
              "       width=\"24px\">\n",
              "    <path d=\"M0 0h24v24H0V0z\" fill=\"none\"/>\n",
              "    <path d=\"M18.56 5.44l.94 2.06.94-2.06 2.06-.94-2.06-.94-.94-2.06-.94 2.06-2.06.94zm-11 1L8.5 8.5l.94-2.06 2.06-.94-2.06-.94L8.5 2.5l-.94 2.06-2.06.94zm10 10l.94 2.06.94-2.06 2.06-.94-2.06-.94-.94-2.06-.94 2.06-2.06.94z\"/><path d=\"M17.41 7.96l-1.37-1.37c-.4-.4-.92-.59-1.43-.59-.52 0-1.04.2-1.43.59L10.3 9.45l-7.72 7.72c-.78.78-.78 2.05 0 2.83L4 21.41c.39.39.9.59 1.41.59.51 0 1.02-.2 1.41-.59l7.78-7.78 2.81-2.81c.8-.78.8-2.07 0-2.86zM5.41 20L4 18.59l7.72-7.72 1.47 1.35L5.41 20z\"/>\n",
              "  </svg>\n",
              "      </button>\n",
              "      \n",
              "  <style>\n",
              "    .colab-df-container {\n",
              "      display:flex;\n",
              "      flex-wrap:wrap;\n",
              "      gap: 12px;\n",
              "    }\n",
              "\n",
              "    .colab-df-convert {\n",
              "      background-color: #E8F0FE;\n",
              "      border: none;\n",
              "      border-radius: 50%;\n",
              "      cursor: pointer;\n",
              "      display: none;\n",
              "      fill: #1967D2;\n",
              "      height: 32px;\n",
              "      padding: 0 0 0 0;\n",
              "      width: 32px;\n",
              "    }\n",
              "\n",
              "    .colab-df-convert:hover {\n",
              "      background-color: #E2EBFA;\n",
              "      box-shadow: 0px 1px 2px rgba(60, 64, 67, 0.3), 0px 1px 3px 1px rgba(60, 64, 67, 0.15);\n",
              "      fill: #174EA6;\n",
              "    }\n",
              "\n",
              "    [theme=dark] .colab-df-convert {\n",
              "      background-color: #3B4455;\n",
              "      fill: #D2E3FC;\n",
              "    }\n",
              "\n",
              "    [theme=dark] .colab-df-convert:hover {\n",
              "      background-color: #434B5C;\n",
              "      box-shadow: 0px 1px 3px 1px rgba(0, 0, 0, 0.15);\n",
              "      filter: drop-shadow(0px 1px 2px rgba(0, 0, 0, 0.3));\n",
              "      fill: #FFFFFF;\n",
              "    }\n",
              "  </style>\n",
              "\n",
              "      <script>\n",
              "        const buttonEl =\n",
              "          document.querySelector('#df-30832fa0-1866-4a97-b252-be41ad5ee128 button.colab-df-convert');\n",
              "        buttonEl.style.display =\n",
              "          google.colab.kernel.accessAllowed ? 'block' : 'none';\n",
              "\n",
              "        async function convertToInteractive(key) {\n",
              "          const element = document.querySelector('#df-30832fa0-1866-4a97-b252-be41ad5ee128');\n",
              "          const dataTable =\n",
              "            await google.colab.kernel.invokeFunction('convertToInteractive',\n",
              "                                                     [key], {});\n",
              "          if (!dataTable) return;\n",
              "\n",
              "          const docLinkHtml = 'Like what you see? Visit the ' +\n",
              "            '<a target=\"_blank\" href=https://colab.research.google.com/notebooks/data_table.ipynb>data table notebook</a>'\n",
              "            + ' to learn more about interactive tables.';\n",
              "          element.innerHTML = '';\n",
              "          dataTable['output_type'] = 'display_data';\n",
              "          await google.colab.output.renderOutput(dataTable, element);\n",
              "          const docLink = document.createElement('div');\n",
              "          docLink.innerHTML = docLinkHtml;\n",
              "          element.appendChild(docLink);\n",
              "        }\n",
              "      </script>\n",
              "    </div>\n",
              "  </div>\n",
              "  "
            ]
          },
          "metadata": {},
          "execution_count": 12
        }
      ],
      "source": [
        "avion_190 = vol_type10[vol_type10['aircraft_number'] == 190]\n",
        "vol_190 = avion_190[['engine_number', 'cycles', 'egthdm']]\n",
        "vol_190.head()"
      ]
    },
    {
      "cell_type": "code",
      "source": [
        "print(\"avion n°190 : \", vol_190.shape[0])"
      ],
      "metadata": {
        "colab": {
          "base_uri": "https://localhost:8080/"
        },
        "id": "8YSae7lyp2dT",
        "outputId": "f58d4b39-b8b4-4baa-e929-f4bbcce253af"
      },
      "execution_count": 13,
      "outputs": [
        {
          "output_type": "stream",
          "name": "stdout",
          "text": [
            "avion n°190 :  220\n"
          ]
        }
      ]
    },
    {
      "cell_type": "code",
      "source": [
        "vol_190"
      ],
      "metadata": {
        "colab": {
          "base_uri": "https://localhost:8080/",
          "height": 424
        },
        "id": "uAxlvrOpqEQh",
        "outputId": "af0629d3-02c9-4a88-cf38-a9d85388c980"
      },
      "execution_count": 14,
      "outputs": [
        {
          "output_type": "execute_result",
          "data": {
            "text/plain": [
              "       engine_number  cycles   egthdm\n",
              "11398            179    98.0  52.0118\n",
              "11399            180    69.0  57.6415\n",
              "11400            180    75.0  48.7217\n",
              "11755            179     0.0  37.6572\n",
              "11756            179     1.0  37.2208\n",
              "...              ...     ...      ...\n",
              "45809            180    48.0  51.9444\n",
              "45810            180    58.0  59.0032\n",
              "46111            179   163.0  45.8711\n",
              "46411            179    30.0  56.5585\n",
              "46412            179   101.0  41.0874\n",
              "\n",
              "[220 rows x 3 columns]"
            ],
            "text/html": [
              "\n",
              "  <div id=\"df-d5c683d1-9a54-49a9-8bde-10849bd3ca10\">\n",
              "    <div class=\"colab-df-container\">\n",
              "      <div>\n",
              "<style scoped>\n",
              "    .dataframe tbody tr th:only-of-type {\n",
              "        vertical-align: middle;\n",
              "    }\n",
              "\n",
              "    .dataframe tbody tr th {\n",
              "        vertical-align: top;\n",
              "    }\n",
              "\n",
              "    .dataframe thead th {\n",
              "        text-align: right;\n",
              "    }\n",
              "</style>\n",
              "<table border=\"1\" class=\"dataframe\">\n",
              "  <thead>\n",
              "    <tr style=\"text-align: right;\">\n",
              "      <th></th>\n",
              "      <th>engine_number</th>\n",
              "      <th>cycles</th>\n",
              "      <th>egthdm</th>\n",
              "    </tr>\n",
              "  </thead>\n",
              "  <tbody>\n",
              "    <tr>\n",
              "      <th>11398</th>\n",
              "      <td>179</td>\n",
              "      <td>98.0</td>\n",
              "      <td>52.0118</td>\n",
              "    </tr>\n",
              "    <tr>\n",
              "      <th>11399</th>\n",
              "      <td>180</td>\n",
              "      <td>69.0</td>\n",
              "      <td>57.6415</td>\n",
              "    </tr>\n",
              "    <tr>\n",
              "      <th>11400</th>\n",
              "      <td>180</td>\n",
              "      <td>75.0</td>\n",
              "      <td>48.7217</td>\n",
              "    </tr>\n",
              "    <tr>\n",
              "      <th>11755</th>\n",
              "      <td>179</td>\n",
              "      <td>0.0</td>\n",
              "      <td>37.6572</td>\n",
              "    </tr>\n",
              "    <tr>\n",
              "      <th>11756</th>\n",
              "      <td>179</td>\n",
              "      <td>1.0</td>\n",
              "      <td>37.2208</td>\n",
              "    </tr>\n",
              "    <tr>\n",
              "      <th>...</th>\n",
              "      <td>...</td>\n",
              "      <td>...</td>\n",
              "      <td>...</td>\n",
              "    </tr>\n",
              "    <tr>\n",
              "      <th>45809</th>\n",
              "      <td>180</td>\n",
              "      <td>48.0</td>\n",
              "      <td>51.9444</td>\n",
              "    </tr>\n",
              "    <tr>\n",
              "      <th>45810</th>\n",
              "      <td>180</td>\n",
              "      <td>58.0</td>\n",
              "      <td>59.0032</td>\n",
              "    </tr>\n",
              "    <tr>\n",
              "      <th>46111</th>\n",
              "      <td>179</td>\n",
              "      <td>163.0</td>\n",
              "      <td>45.8711</td>\n",
              "    </tr>\n",
              "    <tr>\n",
              "      <th>46411</th>\n",
              "      <td>179</td>\n",
              "      <td>30.0</td>\n",
              "      <td>56.5585</td>\n",
              "    </tr>\n",
              "    <tr>\n",
              "      <th>46412</th>\n",
              "      <td>179</td>\n",
              "      <td>101.0</td>\n",
              "      <td>41.0874</td>\n",
              "    </tr>\n",
              "  </tbody>\n",
              "</table>\n",
              "<p>220 rows × 3 columns</p>\n",
              "</div>\n",
              "      <button class=\"colab-df-convert\" onclick=\"convertToInteractive('df-d5c683d1-9a54-49a9-8bde-10849bd3ca10')\"\n",
              "              title=\"Convert this dataframe to an interactive table.\"\n",
              "              style=\"display:none;\">\n",
              "        \n",
              "  <svg xmlns=\"http://www.w3.org/2000/svg\" height=\"24px\"viewBox=\"0 0 24 24\"\n",
              "       width=\"24px\">\n",
              "    <path d=\"M0 0h24v24H0V0z\" fill=\"none\"/>\n",
              "    <path d=\"M18.56 5.44l.94 2.06.94-2.06 2.06-.94-2.06-.94-.94-2.06-.94 2.06-2.06.94zm-11 1L8.5 8.5l.94-2.06 2.06-.94-2.06-.94L8.5 2.5l-.94 2.06-2.06.94zm10 10l.94 2.06.94-2.06 2.06-.94-2.06-.94-.94-2.06-.94 2.06-2.06.94z\"/><path d=\"M17.41 7.96l-1.37-1.37c-.4-.4-.92-.59-1.43-.59-.52 0-1.04.2-1.43.59L10.3 9.45l-7.72 7.72c-.78.78-.78 2.05 0 2.83L4 21.41c.39.39.9.59 1.41.59.51 0 1.02-.2 1.41-.59l7.78-7.78 2.81-2.81c.8-.78.8-2.07 0-2.86zM5.41 20L4 18.59l7.72-7.72 1.47 1.35L5.41 20z\"/>\n",
              "  </svg>\n",
              "      </button>\n",
              "      \n",
              "  <style>\n",
              "    .colab-df-container {\n",
              "      display:flex;\n",
              "      flex-wrap:wrap;\n",
              "      gap: 12px;\n",
              "    }\n",
              "\n",
              "    .colab-df-convert {\n",
              "      background-color: #E8F0FE;\n",
              "      border: none;\n",
              "      border-radius: 50%;\n",
              "      cursor: pointer;\n",
              "      display: none;\n",
              "      fill: #1967D2;\n",
              "      height: 32px;\n",
              "      padding: 0 0 0 0;\n",
              "      width: 32px;\n",
              "    }\n",
              "\n",
              "    .colab-df-convert:hover {\n",
              "      background-color: #E2EBFA;\n",
              "      box-shadow: 0px 1px 2px rgba(60, 64, 67, 0.3), 0px 1px 3px 1px rgba(60, 64, 67, 0.15);\n",
              "      fill: #174EA6;\n",
              "    }\n",
              "\n",
              "    [theme=dark] .colab-df-convert {\n",
              "      background-color: #3B4455;\n",
              "      fill: #D2E3FC;\n",
              "    }\n",
              "\n",
              "    [theme=dark] .colab-df-convert:hover {\n",
              "      background-color: #434B5C;\n",
              "      box-shadow: 0px 1px 3px 1px rgba(0, 0, 0, 0.15);\n",
              "      filter: drop-shadow(0px 1px 2px rgba(0, 0, 0, 0.3));\n",
              "      fill: #FFFFFF;\n",
              "    }\n",
              "  </style>\n",
              "\n",
              "      <script>\n",
              "        const buttonEl =\n",
              "          document.querySelector('#df-d5c683d1-9a54-49a9-8bde-10849bd3ca10 button.colab-df-convert');\n",
              "        buttonEl.style.display =\n",
              "          google.colab.kernel.accessAllowed ? 'block' : 'none';\n",
              "\n",
              "        async function convertToInteractive(key) {\n",
              "          const element = document.querySelector('#df-d5c683d1-9a54-49a9-8bde-10849bd3ca10');\n",
              "          const dataTable =\n",
              "            await google.colab.kernel.invokeFunction('convertToInteractive',\n",
              "                                                     [key], {});\n",
              "          if (!dataTable) return;\n",
              "\n",
              "          const docLinkHtml = 'Like what you see? Visit the ' +\n",
              "            '<a target=\"_blank\" href=https://colab.research.google.com/notebooks/data_table.ipynb>data table notebook</a>'\n",
              "            + ' to learn more about interactive tables.';\n",
              "          element.innerHTML = '';\n",
              "          dataTable['output_type'] = 'display_data';\n",
              "          await google.colab.output.renderOutput(dataTable, element);\n",
              "          const docLink = document.createElement('div');\n",
              "          docLink.innerHTML = docLinkHtml;\n",
              "          element.appendChild(docLink);\n",
              "        }\n",
              "      </script>\n",
              "    </div>\n",
              "  </div>\n",
              "  "
            ]
          },
          "metadata": {},
          "execution_count": 14
        }
      ]
    },
    {
      "cell_type": "markdown",
      "metadata": {
        "id": "DA4WXK5gdJQ6"
      },
      "source": [
        "#### 2.2. Affichez la courbe de l'évolution de la marge EGT au cours du temps pour les deux moteurs de l'avion, sur deux graphes séparés et en prenant soin d'ajouter des légendes."
      ]
    },
    {
      "cell_type": "code",
      "execution_count": 15,
      "metadata": {
        "id": "_fkCeKqEdJQ7",
        "colab": {
          "base_uri": "https://localhost:8080/",
          "height": 401
        },
        "outputId": "cf7a2c6b-e40f-484f-ea2c-e737957cff43"
      },
      "outputs": [
        {
          "output_type": "display_data",
          "data": {
            "text/plain": [
              "<Figure size 1440x576 with 2 Axes>"
            ],
            "image/png": "[encoded data removed]"
          },
          "metadata": {
            "needs_background": "light"
          }
        }
      ],
      "source": [
        "fig,ax = plt.subplots(1, 2, figsize=(20,8))\n",
        "moteur179 = vol_190[vol_190['engine_number'] == 179].sort_values('cycles')\n",
        "moteur180 = vol_190[vol_190['engine_number'] == 180].sort_values('cycles')\n",
        "ax[0].plot(moteur179['cycles'], moteur179['egthdm'], 'rx-', linewidth=0.5)\n",
        "ax[0].set_title('Moteur 179')\n",
        "ax[1].plot(moteur180['cycles'], moteur180['egthdm'], 'bx-', linewidth=0.5)\n",
        "ax[1].set_title('Moteur 180')\n",
        "for i in [0,1]:\n",
        "    ax[i].set_xlabel('Cycles')\n",
        "    ax[i].set_ylabel('Marge EGT')"
      ]
    },
    {
      "cell_type": "markdown",
      "metadata": {
        "id": "a-fUJgH9dJQ7"
      },
      "source": [
        "#### 2.3. Pour la suite, on ne s'intéresse qu'au moteur 179. Quel est le nombre de vols manquant dans les données ?"
      ]
    },
    {
      "cell_type": "code",
      "source": [
        "plt.plot(moteur179['cycles'], moteur179['cycles'].diff(1), '+')"
      ],
      "metadata": {
        "colab": {
          "base_uri": "https://localhost:8080/",
          "height": 283
        },
        "id": "-PdyBKLpeY1W",
        "outputId": "df9250f0-14df-4412-f581-ddac6dfbc04f"
      },
      "execution_count": 16,
      "outputs": [
        {
          "output_type": "execute_result",
          "data": {
            "text/plain": [
              "[<matplotlib.lines.Line2D at 0x7fd0fabb9fd0>]"
            ]
          },
          "metadata": {},
          "execution_count": 16
        },
        {
          "output_type": "display_data",
          "data": {
            "text/plain": [
              "<Figure size 432x288 with 1 Axes>"
            ],
            "image/png": "[encoded data removed]"
          },
          "metadata": {
            "needs_background": "light"
          }
        }
      ]
    },
    {
      "cell_type": "code",
      "execution_count": 17,
      "metadata": {
        "id": "rtS3J-wOdJQ8",
        "colab": {
          "base_uri": "https://localhost:8080/"
        },
        "outputId": "dcf25ac6-c817-4849-b7a3-31fd0783443c"
      },
      "outputs": [
        {
          "output_type": "stream",
          "name": "stdout",
          "text": [
            "Nombre de vol manquant :\n"
          ]
        },
        {
          "output_type": "execute_result",
          "data": {
            "text/plain": [
              "73.0"
            ]
          },
          "metadata": {},
          "execution_count": 17
        }
      ],
      "source": [
        "print('Nombre de vol manquant :')\n",
        "nb_manquant = (moteur179['cycles'].diff(1) > 1)\n",
        "(moteur179['cycles'].diff(1) - 1).where(nb_manquant).sum()"
      ]
    },
    {
      "cell_type": "code",
      "source": [
        "moteur179['cycles']"
      ],
      "metadata": {
        "id": "tkNtRdtIgBrg",
        "colab": {
          "base_uri": "https://localhost:8080/"
        },
        "outputId": "66639266-fb8a-4577-a894-7fbd5d762701"
      },
      "execution_count": 18,
      "outputs": [
        {
          "output_type": "execute_result",
          "data": {
            "text/plain": [
              "11755      0.0\n",
              "11756      1.0\n",
              "30796      1.0\n",
              "11757      2.0\n",
              "25359      2.0\n",
              "         ...  \n",
              "28386    106.0\n",
              "36515    107.0\n",
              "42808    109.0\n",
              "29636    114.0\n",
              "46111    163.0\n",
              "Name: cycles, Length: 110, dtype: float64"
            ]
          },
          "metadata": {},
          "execution_count": 18
        }
      ]
    },
    {
      "cell_type": "code",
      "source": [
        "moteur179['cycles'].diff(1)"
      ],
      "metadata": {
        "id": "AA8a4vwXf5Nk",
        "colab": {
          "base_uri": "https://localhost:8080/"
        },
        "outputId": "7b979d81-f5ad-44ca-97e5-6035a6af988e"
      },
      "execution_count": 19,
      "outputs": [
        {
          "output_type": "execute_result",
          "data": {
            "text/plain": [
              "11755     NaN\n",
              "11756     1.0\n",
              "30796     0.0\n",
              "11757     1.0\n",
              "25359     0.0\n",
              "         ... \n",
              "28386     1.0\n",
              "36515     1.0\n",
              "42808     2.0\n",
              "29636     5.0\n",
              "46111    49.0\n",
              "Name: cycles, Length: 110, dtype: float64"
            ]
          },
          "metadata": {},
          "execution_count": 19
        }
      ]
    },
    {
      "cell_type": "markdown",
      "metadata": {
        "id": "sL1b_Sn7dJQ9"
      },
      "source": [
        "#### 2.4. Nettoyage de la marge EGT\n",
        "\n",
        "On constate que sur un même cycle, il peut y avoir 2 valeurs de la variable `egthdm` mesurées. On ne souhaite garder que la plus grande des deux, et avoir une seule ligne par cycle, afin que l'on puisse utiliser le nombre de cycles comme index. Enfin, on veut compléter l'index pour les vols manquants, en remplissant les lignes par `NaN`. Pour cela, effectuez l'exercice suivant:\n",
        "\n",
        "1. Utilisez une aggrégation pour obtenir la plus grande valeur à chaque cycle et stockez le résultat dans une Series pandas appelée 'egt'.\n",
        "2. Ré-indexez le DataFrame pour avoir une ligne pour tout nombre de cycles (indice : passez par la méthode reindex)."
      ]
    },
    {
      "cell_type": "code",
      "source": [
        "moteur179"
      ],
      "metadata": {
        "colab": {
          "base_uri": "https://localhost:8080/",
          "height": 424
        },
        "id": "0sBqrTJ7jZi0",
        "outputId": "5ccb7558-a9ee-45ac-9417-eafa4c2e3f7e"
      },
      "execution_count": 20,
      "outputs": [
        {
          "output_type": "execute_result",
          "data": {
            "text/plain": [
              "       engine_number  cycles   egthdm\n",
              "11755            179     0.0  37.6572\n",
              "11756            179     1.0  37.2208\n",
              "30796            179     1.0  59.1796\n",
              "11757            179     2.0  40.2041\n",
              "25359            179     2.0  56.8104\n",
              "...              ...     ...      ...\n",
              "28386            179   106.0  51.6519\n",
              "36515            179   107.0  49.3682\n",
              "42808            179   109.0  48.5079\n",
              "29636            179   114.0  49.2813\n",
              "46111            179   163.0  45.8711\n",
              "\n",
              "[110 rows x 3 columns]"
            ],
            "text/html": [
              "\n",
              "  <div id=\"df-ee834553-2cfb-4a39-a325-ee50f32db0cf\">\n",
              "    <div class=\"colab-df-container\">\n",
              "      <div>\n",
              "<style scoped>\n",
              "    .dataframe tbody tr th:only-of-type {\n",
              "        vertical-align: middle;\n",
              "    }\n",
              "\n",
              "    .dataframe tbody tr th {\n",
              "        vertical-align: top;\n",
              "    }\n",
              "\n",
              "    .dataframe thead th {\n",
              "        text-align: right;\n",
              "    }\n",
              "</style>\n",
              "<table border=\"1\" class=\"dataframe\">\n",
              "  <thead>\n",
              "    <tr style=\"text-align: right;\">\n",
              "      <th></th>\n",
              "      <th>engine_number</th>\n",
              "      <th>cycles</th>\n",
              "      <th>egthdm</th>\n",
              "    </tr>\n",
              "  </thead>\n",
              "  <tbody>\n",
              "    <tr>\n",
              "      <th>11755</th>\n",
              "      <td>179</td>\n",
              "      <td>0.0</td>\n",
              "      <td>37.6572</td>\n",
              "    </tr>\n",
              "    <tr>\n",
              "      <th>11756</th>\n",
              "      <td>179</td>\n",
              "      <td>1.0</td>\n",
              "      <td>37.2208</td>\n",
              "    </tr>\n",
              "    <tr>\n",
              "      <th>30796</th>\n",
              "      <td>179</td>\n",
              "      <td>1.0</td>\n",
              "      <td>59.1796</td>\n",
              "    </tr>\n",
              "    <tr>\n",
              "      <th>11757</th>\n",
              "      <td>179</td>\n",
              "      <td>2.0</td>\n",
              "      <td>40.2041</td>\n",
              "    </tr>\n",
              "    <tr>\n",
              "      <th>25359</th>\n",
              "      <td>179</td>\n",
              "      <td>2.0</td>\n",
              "      <td>56.8104</td>\n",
              "    </tr>\n",
              "    <tr>\n",
              "      <th>...</th>\n",
              "      <td>...</td>\n",
              "      <td>...</td>\n",
              "      <td>...</td>\n",
              "    </tr>\n",
              "    <tr>\n",
              "      <th>28386</th>\n",
              "      <td>179</td>\n",
              "      <td>106.0</td>\n",
              "      <td>51.6519</td>\n",
              "    </tr>\n",
              "    <tr>\n",
              "      <th>36515</th>\n",
              "      <td>179</td>\n",
              "      <td>107.0</td>\n",
              "      <td>49.3682</td>\n",
              "    </tr>\n",
              "    <tr>\n",
              "      <th>42808</th>\n",
              "      <td>179</td>\n",
              "      <td>109.0</td>\n",
              "      <td>48.5079</td>\n",
              "    </tr>\n",
              "    <tr>\n",
              "      <th>29636</th>\n",
              "      <td>179</td>\n",
              "      <td>114.0</td>\n",
              "      <td>49.2813</td>\n",
              "    </tr>\n",
              "    <tr>\n",
              "      <th>46111</th>\n",
              "      <td>179</td>\n",
              "      <td>163.0</td>\n",
              "      <td>45.8711</td>\n",
              "    </tr>\n",
              "  </tbody>\n",
              "</table>\n",
              "<p>110 rows × 3 columns</p>\n",
              "</div>\n",
              "      <button class=\"colab-df-convert\" onclick=\"convertToInteractive('df-ee834553-2cfb-4a39-a325-ee50f32db0cf')\"\n",
              "              title=\"Convert this dataframe to an interactive table.\"\n",
              "              style=\"display:none;\">\n",
              "        \n",
              "  <svg xmlns=\"http://www.w3.org/2000/svg\" height=\"24px\"viewBox=\"0 0 24 24\"\n",
              "       width=\"24px\">\n",
              "    <path d=\"M0 0h24v24H0V0z\" fill=\"none\"/>\n",
              "    <path d=\"M18.56 5.44l.94 2.06.94-2.06 2.06-.94-2.06-.94-.94-2.06-.94 2.06-2.06.94zm-11 1L8.5 8.5l.94-2.06 2.06-.94-2.06-.94L8.5 2.5l-.94 2.06-2.06.94zm10 10l.94 2.06.94-2.06 2.06-.94-2.06-.94-.94-2.06-.94 2.06-2.06.94z\"/><path d=\"M17.41 7.96l-1.37-1.37c-.4-.4-.92-.59-1.43-.59-.52 0-1.04.2-1.43.59L10.3 9.45l-7.72 7.72c-.78.78-.78 2.05 0 2.83L4 21.41c.39.39.9.59 1.41.59.51 0 1.02-.2 1.41-.59l7.78-7.78 2.81-2.81c.8-.78.8-2.07 0-2.86zM5.41 20L4 18.59l7.72-7.72 1.47 1.35L5.41 20z\"/>\n",
              "  </svg>\n",
              "      </button>\n",
              "      \n",
              "  <style>\n",
              "    .colab-df-container {\n",
              "      display:flex;\n",
              "      flex-wrap:wrap;\n",
              "      gap: 12px;\n",
              "    }\n",
              "\n",
              "    .colab-df-convert {\n",
              "      background-color: #E8F0FE;\n",
              "      border: none;\n",
              "      border-radius: 50%;\n",
              "      cursor: pointer;\n",
              "      display: none;\n",
              "      fill: #1967D2;\n",
              "      height: 32px;\n",
              "      padding: 0 0 0 0;\n",
              "      width: 32px;\n",
              "    }\n",
              "\n",
              "    .colab-df-convert:hover {\n",
              "      background-color: #E2EBFA;\n",
              "      box-shadow: 0px 1px 2px rgba(60, 64, 67, 0.3), 0px 1px 3px 1px rgba(60, 64, 67, 0.15);\n",
              "      fill: #174EA6;\n",
              "    }\n",
              "\n",
              "    [theme=dark] .colab-df-convert {\n",
              "      background-color: #3B4455;\n",
              "      fill: #D2E3FC;\n",
              "    }\n",
              "\n",
              "    [theme=dark] .colab-df-convert:hover {\n",
              "      background-color: #434B5C;\n",
              "      box-shadow: 0px 1px 3px 1px rgba(0, 0, 0, 0.15);\n",
              "      filter: drop-shadow(0px 1px 2px rgba(0, 0, 0, 0.3));\n",
              "      fill: #FFFFFF;\n",
              "    }\n",
              "  </style>\n",
              "\n",
              "      <script>\n",
              "        const buttonEl =\n",
              "          document.querySelector('#df-ee834553-2cfb-4a39-a325-ee50f32db0cf button.colab-df-convert');\n",
              "        buttonEl.style.display =\n",
              "          google.colab.kernel.accessAllowed ? 'block' : 'none';\n",
              "\n",
              "        async function convertToInteractive(key) {\n",
              "          const element = document.querySelector('#df-ee834553-2cfb-4a39-a325-ee50f32db0cf');\n",
              "          const dataTable =\n",
              "            await google.colab.kernel.invokeFunction('convertToInteractive',\n",
              "                                                     [key], {});\n",
              "          if (!dataTable) return;\n",
              "\n",
              "          const docLinkHtml = 'Like what you see? Visit the ' +\n",
              "            '<a target=\"_blank\" href=https://colab.research.google.com/notebooks/data_table.ipynb>data table notebook</a>'\n",
              "            + ' to learn more about interactive tables.';\n",
              "          element.innerHTML = '';\n",
              "          dataTable['output_type'] = 'display_data';\n",
              "          await google.colab.output.renderOutput(dataTable, element);\n",
              "          const docLink = document.createElement('div');\n",
              "          docLink.innerHTML = docLinkHtml;\n",
              "          element.appendChild(docLink);\n",
              "        }\n",
              "      </script>\n",
              "    </div>\n",
              "  </div>\n",
              "  "
            ]
          },
          "metadata": {},
          "execution_count": 20
        }
      ]
    },
    {
      "cell_type": "code",
      "execution_count": 21,
      "metadata": {
        "id": "t-LhnTtzdJQ_",
        "colab": {
          "base_uri": "https://localhost:8080/"
        },
        "outputId": "cdf71fb0-74c3-48d2-da99-f4425e45d426"
      },
      "outputs": [
        {
          "output_type": "stream",
          "name": "stdout",
          "text": [
            "cycles\n",
            "0.0      37.6572\n",
            "1.0      59.1796\n",
            "2.0      56.8104\n",
            "3.0      55.2263\n",
            "4.0      55.1283\n",
            "          ...   \n",
            "106.0    51.6519\n",
            "107.0    49.3682\n",
            "109.0    48.5079\n",
            "114.0    49.2813\n",
            "163.0    45.8711\n",
            "Name: egthdm, Length: 91, dtype: float64\n"
          ]
        }
      ],
      "source": [
        "# On ne garde que le max egthm pour chaque cycle :\n",
        "egt = moteur179.groupby('cycles')['egthdm'].max()\n",
        "print(egt)"
      ]
    },
    {
      "cell_type": "code",
      "source": [
        "# Ré-indexez le DataFrame\n",
        "egt = egt.reindex(pd.RangeIndex(0, egt.index.max()+1), axis='index')\n",
        "egt"
      ],
      "metadata": {
        "colab": {
          "base_uri": "https://localhost:8080/"
        },
        "id": "c0wwPiemjpRf",
        "outputId": "87beb4bd-34d7-4278-ffda-0dab009bd0d1"
      },
      "execution_count": 22,
      "outputs": [
        {
          "output_type": "execute_result",
          "data": {
            "text/plain": [
              "0      37.6572\n",
              "1      59.1796\n",
              "2      56.8104\n",
              "3      55.2263\n",
              "4      55.1283\n",
              "        ...   \n",
              "159        NaN\n",
              "160        NaN\n",
              "161        NaN\n",
              "162        NaN\n",
              "163    45.8711\n",
              "Name: egthdm, Length: 164, dtype: float64"
            ]
          },
          "metadata": {},
          "execution_count": 22
        }
      ]
    },
    {
      "cell_type": "markdown",
      "metadata": {
        "id": "VHcbs-dmdJRA"
      },
      "source": [
        "\\#### 2.5. On souhaite lisser les valeurs et se débarasser des outliers à l'aide d'une médiane glissante sur 15 cycles. Affichez sur un même graphe la marge EGT brute (points) et la marge lissée (ligne).\n",
        "http://pandas.pydata.org/pandas-docs/stable/generated/pandas.Series.rolling.html#pandas.Series.rolling\n",
        "\n",
        "Utilisez une fenêtre glissante de taille 15 cycles, avec un minimum de 3 observations non-nulles par fenêtre (paramètre `min_periods`)."
      ]
    },
    {
      "cell_type": "code",
      "execution_count": 23,
      "metadata": {
        "id": "1it7ExatdJRA",
        "colab": {
          "base_uri": "https://localhost:8080/",
          "height": 299
        },
        "outputId": "771ffc39-74e3-42c2-e231-4fb7654d4634"
      },
      "outputs": [
        {
          "output_type": "execute_result",
          "data": {
            "text/plain": [
              "Text(0.5, 1.0, 'Marge EGT et Marge Lissée')"
            ]
          },
          "metadata": {},
          "execution_count": 23
        },
        {
          "output_type": "display_data",
          "data": {
            "text/plain": [
              "<Figure size 432x288 with 1 Axes>"
            ],
            "image/png": "[encoded data removed]"
          },
          "metadata": {
            "needs_background": "light"
          }
        }
      ],
      "source": [
        "# lisse les valeurs à l'aide d'une médiane glissante sur 15 cycles\n",
        "egtm = egt.rolling(window = 15, min_periods = 3).median().dropna()\n",
        "# se débarasser des outliers\n",
        "egtm = egtm.dropna()\n",
        "\n",
        "plt.plot(egt.index, egt, 'x') # Marge egt\n",
        "plt.plot(egtm.index, egtm, c = 'red')    # Marge EGT (médiane sur 15 cycles)\n",
        "\n",
        "plt.legend(['Marge EGT brute', 'Marge Lissée'])\n",
        "plt.title('Marge EGT et Marge Lissée')"
      ]
    },
    {
      "cell_type": "markdown",
      "metadata": {
        "id": "szxxDhe5dJRB"
      },
      "source": [
        "#### 2.6. Nettoyage de la marge EGT lissée\n",
        "\n",
        "La marge EGT ne peut être que décroissante, sauf en cas de nettoyage moteur (waterwash) ou peut-être à cause d'éléments extérieurs, on va donc éviter de tenir compte des remontées de marge et ne prendre en considération que les points descendants. Cette estimation est pessimiste mais évite de prendre en compte ces facteurs extérieurs.\n",
        "\n",
        "1. Calculez une série ne contenant que les valeurs décroissantes de la marge EGT lissée.\n",
        "2. Sur le graphique précédent, ajoutez ces points par-dessus la courbe."
      ]
    },
    {
      "cell_type": "code",
      "execution_count": 24,
      "metadata": {
        "id": "FXqkp-eFdJRB",
        "colab": {
          "base_uri": "https://localhost:8080/",
          "height": 299
        },
        "outputId": "f561e6f7-c5cf-45bf-8e4b-05f9fdf504c6"
      },
      "outputs": [
        {
          "output_type": "execute_result",
          "data": {
            "text/plain": [
              "Text(0.5, 1.0, 'Marge EGT et Marge Lissée')"
            ]
          },
          "metadata": {},
          "execution_count": 24
        },
        {
          "output_type": "display_data",
          "data": {
            "text/plain": [
              "<Figure size 432x288 with 1 Axes>"
            ],
            "image/png": "[encoded data removed]"
          },
          "metadata": {
            "needs_background": "light"
          }
        }
      ],
      "source": [
        "# On ne prend en compte que les points descendants :\n",
        "egtm_decroit = egtm.rolling(window=egtm.size, min_periods=1).min().drop_duplicates()\n",
        "\n",
        "plt.plot(egt.index, egt, 'x') # Marge egt\n",
        "plt.plot(egtm.index, egtm, c = 'red')    # Marge EGT (médiane sur 15 cycles)\n",
        "plt.plot(egtm_decroit.index, egtm_decroit, '.', c = 'purple')\n",
        "                              # Points Descendants\n",
        "\n",
        "plt.legend(['Marge EGT brute', 'Marge Lissée', 'Points Descendants'])\n",
        "plt.title('Marge EGT et Marge Lissée')"
      ]
    },
    {
      "cell_type": "markdown",
      "metadata": {
        "id": "YX0l32budJRC"
      },
      "source": [
        "#### 2.7. Estimation de la pente de la marge EGT\n",
        "\n",
        "La pente de la marge EGT est un indicateur très intéressant de l'usure du moteur. On l'estime par régression linéaire par rapport au nombre de cycles. Pour cela, on utilise les points conservés précédemment qui constituent une estimation pessimiste.\n",
        "\n",
        "Pour la régression linéaire, on utilisera le modèle `LinearRegression` de scikit-learn. Son utilisation est similaire aux autres modèles de scikit-learn :\n",
        "```python\n",
        "lr = LinearRegression()\n",
        "model = lr.fit(X, y)\n",
        "```\n",
        "\n",
        "1. Apprenez un modèle `LinearRegression` sur les données calculées précédemment. Affichez les coefficients et l'ordonnée à l'origine (_intercept_) du modèle obtenu. Les valeurs sont-elles cohérentes ? (indices : pour passer d'un objet pandas (DataFrame ou Series) à un array numpy, utilisez la propriété `values`)\n",
        "2. Tracez la droite obtenue sur le graphe précédent."
      ]
    },
    {
      "cell_type": "code",
      "execution_count": 25,
      "metadata": {
        "id": "EvLYxPhldJRC"
      },
      "outputs": [],
      "source": [
        "from sklearn.linear_model import LinearRegression"
      ]
    },
    {
      "cell_type": "code",
      "source": [
        "len(egt)"
      ],
      "metadata": {
        "colab": {
          "base_uri": "https://localhost:8080/"
        },
        "id": "oiBYJUP4bSmo",
        "outputId": "a9da0aae-12a7-4603-ba87-bdd07f5f5404"
      },
      "execution_count": 26,
      "outputs": [
        {
          "output_type": "execute_result",
          "data": {
            "text/plain": [
              "164"
            ]
          },
          "metadata": {},
          "execution_count": 26
        }
      ]
    },
    {
      "cell_type": "code",
      "execution_count": 27,
      "metadata": {
        "id": "10k4tog9dJRD",
        "colab": {
          "base_uri": "https://localhost:8080/",
          "height": 555
        },
        "outputId": "17db9400-56b0-418f-a9a8-d82095957595"
      },
      "outputs": [
        {
          "output_type": "stream",
          "name": "stderr",
          "text": [
            "/usr/local/lib/python3.7/dist-packages/numpy/core/shape_base.py:65: VisibleDeprecationWarning: Creating an ndarray from ragged nested sequences (which is a list-or-tuple of lists-or-tuples-or ndarrays with different lengths or shapes) is deprecated. If you meant to do this, you must specify 'dtype=object' when creating the ndarray.\n",
            "  ary = asanyarray(ary)\n"
          ]
        },
        {
          "output_type": "display_data",
          "data": {
            "text/plain": [
              "<Figure size 720x576 with 1 Axes>"
            ],
            "image/png": "[encoded data removed]"
          },
          "metadata": {
            "needs_background": "light"
          }
        }
      ],
      "source": [
        "lr = LinearRegression()\n",
        "\n",
        "# .values : pour passer d'un objet pandas à un array numpy\n",
        "\n",
        "x = egtm_decroit.index.values.reshape(-1,1)\n",
        "y = egtm_decroit.values\n",
        "model = lr.fit(x, y)\n",
        "taille_egt = len(egt) - 1\n",
        "\n",
        "plt.figure(figsize = (10,8))\n",
        "\n",
        "plt.plot(egt.index, egt, 'x')                                 # Marge egt\n",
        "plt.plot(egtm.index, egtm, c = 'red')                         # Marge egt (médiane sur 15 cycles)\n",
        "plt.plot(egtm_decroit.index, egtm_decroit, '.', c = 'purple') # Points Descendants\n",
        "\n",
        "# Ordonne à l'origine\n",
        "ord_origine = model.intercept_\n",
        "# Coeffiscients prédis\n",
        "coef_predict = model.predict(np.array(taille_egt).reshape(-1, 1))\n",
        "\n",
        "# Tracez la droite obtenue sur le graphe précédent :\n",
        "plt.plot([0, taille_egt], [ord_origine, coef_predict], c = 'black')\n",
        "\n",
        "plt.legend(['Marge EGT brute', 'Marge Lissée', 'Points Descendants', 'Modèle'])\n",
        "plt.title('Régression linéaire de la marge EGT lissée');"
      ]
    },
    {
      "cell_type": "markdown",
      "metadata": {
        "id": "u2X5wDGPdJRD"
      },
      "source": [
        "### 3. Écriture d'une fonction de calcul de la pente EGT pour tous les moteurs\n",
        "\n",
        "Tout d'abord, bravo si vous êtes arrivés jusque là ! Toutes les opérations que l'on a effectuées ont permis d'estimer la pente de la marge EGT du moteur 179 de l'avion 190 de type 10, et donc son usure. Maintenant, on souhaite répéter ce processus sur tous les moteurs ! Pour cela, il faudra créer une fonction Python générique, prenant en entrée l'ensemble du jeu de données ACARS et produisant en sortie l'ensemble des pentes/intercept des modèles de régression linéaire appris pour chaque moteur.\n",
        "\n",
        "L'un des intérêts est de pouvoir prédire l'usure des moteurs, après un nombre de cycles donné.\n",
        "\n",
        "Voici le squelette de la fonction à écrire (en ré-utilisant et adaptant tout les morceaux de code précédents) :\n",
        "\n",
        "```python\n",
        "def regress_egt_margin(df_acars):\n",
        "    ...\n",
        "    return df_regress_models # Contient les pentes et intercept pour tous les moteurs\n",
        "```"
      ]
    },
    {
      "cell_type": "markdown",
      "metadata": {
        "id": "qESJZ5VkdJRE"
      },
      "source": [
        "### 4. Comparaison de l'usure des 3 types de moteurs"
      ]
    },
    {
      "cell_type": "markdown",
      "metadata": {
        "id": "4vSQGfJGdJRE"
      },
      "source": [
        "#### 4.1. Prédiction de la marge EGT au 150ème par type de moteur\n",
        "\n",
        "1. Pour chaque moteur, utilisez son modèle de régression pour prédire la valeur de la marge EGT après 150 cycles d'utilisation (indice : méthode `apply`).\n",
        "2. Représentez ces valeurs par type moteur sur un box plot. Décrivez le résultat obtenu.\n",
        "3. Calculez la moyenne de la marge au 150ème cycle par type de moteur. Quel type de moteur a la plus grande marge moyenne après 150 cycles ?"
      ]
    },
    {
      "cell_type": "code",
      "execution_count": 27,
      "metadata": {
        "id": "Z_3FT53HdJRF"
      },
      "outputs": [],
      "source": []
    },
    {
      "cell_type": "markdown",
      "metadata": {
        "id": "96KIfkM8dJRF"
      },
      "source": [
        "#### 4.3. Vitesse de décroissance de la marge EGT par type de moteur\n",
        "\n",
        "La pente de la marge EGT correspond à sa vitesse de décroissance par cycle.\n",
        "\n",
        "1. Quelle est son unité ?\n",
        "2. Représentez ces valeurs par type de moteur sur un boxplot. Décrivez le résultat obtenu.\n",
        "3. Calculez moyenne de la pente par type de moteur. Quel type de moteur a la plus faible vitesse de décroissance et donc la plus faible vitesse d'usure ?"
      ]
    },
    {
      "cell_type": "code",
      "execution_count": 27,
      "metadata": {
        "id": "QbG8183tdJRF"
      },
      "outputs": [],
      "source": []
    }
  ],
  "metadata": {
    "kernelspec": {
      "display_name": "Python 3 (ipykernel)",
      "language": "python",
      "name": "python3"
    },
    "language_info": {
      "codemirror_mode": {
        "name": "ipython",
        "version": 3
      },
      "file_extension": ".py",
      "mimetype": "text/x-python",
      "name": "python",
      "nbconvert_exporter": "python",
      "pygments_lexer": "ipython3",
      "version": "3.9.8"
    },
    "colab": {
      "provenance": [],
      "collapsed_sections": [],
      "include_colab_link": true
    }
  },
  "nbformat": 4,
  "nbformat_minor": 0
}